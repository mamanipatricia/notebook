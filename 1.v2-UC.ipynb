{
 "cells": [
  {
   "cell_type": "markdown",
   "metadata": {},
   "source": [
    "# PRE-PROCESSING\n"
   ]
  },
  {
   "cell_type": "code",
   "execution_count": 2,
   "metadata": {},
   "outputs": [],
   "source": [
    "# importando las librerias\n",
    "import numpy as np\n",
    "import pandas as pd\n",
    "import matplotlib.pyplot as plt # los graficos, el odulo pyplot\n",
    "import seaborn as sb   # es una sobrecapa de matplotlib, permite hacer graficos estadisticos\n",
    "%matplotlib inline "
   ]
  },
  {
   "cell_type": "code",
   "execution_count": 3,
   "metadata": {},
   "outputs": [],
   "source": [
    "houses = pd.read_csv('./ultracasas.csv')"
   ]
  },
  {
   "cell_type": "code",
   "execution_count": 4,
   "metadata": {},
   "outputs": [
    {
     "data": {
      "text/html": [
       "<div>\n",
       "<style scoped>\n",
       "    .dataframe tbody tr th:only-of-type {\n",
       "        vertical-align: middle;\n",
       "    }\n",
       "\n",
       "    .dataframe tbody tr th {\n",
       "        vertical-align: top;\n",
       "    }\n",
       "\n",
       "    .dataframe thead th {\n",
       "        text-align: right;\n",
       "    }\n",
       "</style>\n",
       "<table border=\"1\" class=\"dataframe\">\n",
       "  <thead>\n",
       "    <tr style=\"text-align: right;\">\n",
       "      <th></th>\n",
       "      <th>address</th>\n",
       "      <th>amoblado</th>\n",
       "      <th>amount_max_bs</th>\n",
       "      <th>amount_max_usd</th>\n",
       "      <th>availability</th>\n",
       "      <th>bathroom</th>\n",
       "      <th>baulera</th>\n",
       "      <th>bedroom</th>\n",
       "      <th>code</th>\n",
       "      <th>credit_type</th>\n",
       "      <th>...</th>\n",
       "      <th>moneda</th>\n",
       "      <th>neighborhood</th>\n",
       "      <th>pool</th>\n",
       "      <th>price</th>\n",
       "      <th>region</th>\n",
       "      <th>status</th>\n",
       "      <th>type</th>\n",
       "      <th>type_offer</th>\n",
       "      <th>warranty</th>\n",
       "      <th>year_built</th>\n",
       "    </tr>\n",
       "  </thead>\n",
       "  <tbody>\n",
       "    <tr>\n",
       "      <th>0</th>\n",
       "      <td>Achumani</td>\n",
       "      <td>0</td>\n",
       "      <td>40002059.0</td>\n",
       "      <td>5831204.0</td>\n",
       "      <td>ENABLED</td>\n",
       "      <td>4.0</td>\n",
       "      <td>0</td>\n",
       "      <td>5.0</td>\n",
       "      <td>UC-537418</td>\n",
       "      <td>no social con 20% de aporte propio.</td>\n",
       "      <td>...</td>\n",
       "      <td>$us</td>\n",
       "      <td>Achumani</td>\n",
       "      <td>0</td>\n",
       "      <td>340000</td>\n",
       "      <td>La Paz</td>\n",
       "      <td>2</td>\n",
       "      <td>Casa</td>\n",
       "      <td>Venta</td>\n",
       "      <td>NaN</td>\n",
       "      <td>2009.0</td>\n",
       "    </tr>\n",
       "    <tr>\n",
       "      <th>1</th>\n",
       "      <td>EN JARDINES DEL SUR ACHUMANI PRECIOSA CASA EN ...</td>\n",
       "      <td>0</td>\n",
       "      <td>40002059.0</td>\n",
       "      <td>5831204.0</td>\n",
       "      <td>ENABLED</td>\n",
       "      <td>5.0</td>\n",
       "      <td>0</td>\n",
       "      <td>3.0</td>\n",
       "      <td>UC-539099</td>\n",
       "      <td>no social con 20% de aporte propio.</td>\n",
       "      <td>...</td>\n",
       "      <td>$us</td>\n",
       "      <td>Achumani</td>\n",
       "      <td>0</td>\n",
       "      <td>460000</td>\n",
       "      <td>La Paz</td>\n",
       "      <td>2</td>\n",
       "      <td>Casa</td>\n",
       "      <td>Venta</td>\n",
       "      <td>NaN</td>\n",
       "      <td>2009.0</td>\n",
       "    </tr>\n",
       "    <tr>\n",
       "      <th>2</th>\n",
       "      <td>Mallasilla  Condominio  Mirasol</td>\n",
       "      <td>0</td>\n",
       "      <td>40002059.0</td>\n",
       "      <td>5831204.0</td>\n",
       "      <td>ENABLED</td>\n",
       "      <td>6.0</td>\n",
       "      <td>0</td>\n",
       "      <td>5.0</td>\n",
       "      <td>UC-451025</td>\n",
       "      <td>no social con 20% de aporte propio.</td>\n",
       "      <td>...</td>\n",
       "      <td>$us</td>\n",
       "      <td>Mallasilla</td>\n",
       "      <td>0</td>\n",
       "      <td>328000</td>\n",
       "      <td>La Paz</td>\n",
       "      <td>2</td>\n",
       "      <td>Casa</td>\n",
       "      <td>Venta</td>\n",
       "      <td>NaN</td>\n",
       "      <td>2015.0</td>\n",
       "    </tr>\n",
       "  </tbody>\n",
       "</table>\n",
       "<p>3 rows × 36 columns</p>\n",
       "</div>"
      ],
      "text/plain": [
       "                                             address  amoblado  amount_max_bs  \\\n",
       "0                                          Achumani          0     40002059.0   \n",
       "1  EN JARDINES DEL SUR ACHUMANI PRECIOSA CASA EN ...         0     40002059.0   \n",
       "2                    Mallasilla  Condominio  Mirasol         0     40002059.0   \n",
       "\n",
       "   amount_max_usd availability  bathroom  baulera  bedroom       code  \\\n",
       "0       5831204.0      ENABLED       4.0        0      5.0  UC-537418   \n",
       "1       5831204.0      ENABLED       5.0        0      3.0  UC-539099   \n",
       "2       5831204.0      ENABLED       6.0        0      5.0  UC-451025   \n",
       "\n",
       "                             credit_type     ...     moneda  neighborhood  \\\n",
       "0   no social con 20% de aporte propio.      ...        $us      Achumani   \n",
       "1   no social con 20% de aporte propio.      ...        $us      Achumani   \n",
       "2   no social con 20% de aporte propio.      ...        $us    Mallasilla   \n",
       "\n",
       "   pool   price  region  status  type  type_offer  warranty  year_built  \n",
       "0     0  340000  La Paz       2  Casa       Venta       NaN      2009.0  \n",
       "1     0  460000  La Paz       2  Casa       Venta       NaN      2009.0  \n",
       "2     0  328000  La Paz       2  Casa       Venta       NaN      2015.0  \n",
       "\n",
       "[3 rows x 36 columns]"
      ]
     },
     "execution_count": 4,
     "metadata": {},
     "output_type": "execute_result"
    }
   ],
   "source": [
    "houses.head(3)"
   ]
  },
  {
   "cell_type": "code",
   "execution_count": 5,
   "metadata": {},
   "outputs": [
    {
     "data": {
      "text/plain": [
       "(823, 36)"
      ]
     },
     "execution_count": 5,
     "metadata": {},
     "output_type": "execute_result"
    }
   ],
   "source": [
    "# nro de column y filas q tiene\n",
    "houses.shape "
   ]
  },
  {
   "cell_type": "code",
   "execution_count": 6,
   "metadata": {},
   "outputs": [
    {
     "data": {
      "text/plain": [
       "Index(['address', 'amoblado', 'amount_max_bs', 'amount_max_usd',\n",
       "       'availability', 'bathroom', 'baulera', 'bedroom', 'code', 'credit_type',\n",
       "       'date_released', 'dimension', 'elevator', 'fecentrega', 'fee',\n",
       "       'fee_bnb_usd', 'fee_bs', 'fee_regular', 'fee_regular_bs', 'garage',\n",
       "       'id', 'id_type', 'id_type_offer', 'latitud', 'location', 'longitud',\n",
       "       'moneda', 'neighborhood', 'pool', 'price', 'region', 'status', 'type',\n",
       "       'type_offer', 'warranty', 'year_built'],\n",
       "      dtype='object')"
      ]
     },
     "execution_count": 6,
     "metadata": {},
     "output_type": "execute_result"
    }
   ],
   "source": [
    "houses.columns"
   ]
  },
  {
   "cell_type": "code",
   "execution_count": 7,
   "metadata": {},
   "outputs": [
    {
     "data": {
      "text/plain": [
       "RangeIndex(start=0, stop=823, step=1)"
      ]
     },
     "execution_count": 7,
     "metadata": {},
     "output_type": "execute_result"
    }
   ],
   "source": [
    "# igual que el arange  ->  RangeIndex(start=0, stop=5043, step=1)\n",
    "houses.index"
   ]
  },
  {
   "cell_type": "code",
   "execution_count": 8,
   "metadata": {},
   "outputs": [
    {
     "name": "stdout",
     "output_type": "stream",
     "text": [
      "<class 'pandas.core.frame.DataFrame'>\n",
      "RangeIndex: 823 entries, 0 to 822\n",
      "Data columns (total 36 columns):\n",
      "address           823 non-null object\n",
      "amoblado          823 non-null int64\n",
      "amount_max_bs     645 non-null float64\n",
      "amount_max_usd    645 non-null float64\n",
      "availability      823 non-null object\n",
      "bathroom          814 non-null float64\n",
      "baulera           823 non-null int64\n",
      "bedroom           814 non-null float64\n",
      "code              823 non-null object\n",
      "credit_type       645 non-null object\n",
      "date_released     823 non-null object\n",
      "dimension         823 non-null int64\n",
      "elevator          823 non-null int64\n",
      "fecentrega        823 non-null object\n",
      "fee               823 non-null int64\n",
      "fee_bnb_usd       397 non-null float64\n",
      "fee_bs            823 non-null int64\n",
      "fee_regular       823 non-null int64\n",
      "fee_regular_bs    823 non-null int64\n",
      "garage            823 non-null int64\n",
      "id                823 non-null int64\n",
      "id_type           823 non-null int64\n",
      "id_type_offer     823 non-null int64\n",
      "latitud           823 non-null float64\n",
      "location          823 non-null object\n",
      "longitud          823 non-null float64\n",
      "moneda            823 non-null object\n",
      "neighborhood      823 non-null object\n",
      "pool              823 non-null int64\n",
      "price             823 non-null int64\n",
      "region            823 non-null object\n",
      "status            823 non-null int64\n",
      "type              823 non-null object\n",
      "type_offer        823 non-null object\n",
      "warranty          93 non-null object\n",
      "year_built        341 non-null float64\n",
      "dtypes: float64(8), int64(15), object(13)\n",
      "memory usage: 231.5+ KB\n"
     ]
    }
   ],
   "source": [
    "# houses.info\n",
    "houses.info()"
   ]
  },
  {
   "cell_type": "code",
   "execution_count": 9,
   "metadata": {},
   "outputs": [
    {
     "data": {
      "text/plain": [
       "0    340000\n",
       "1    460000\n",
       "2    328000\n",
       "3    270000\n",
       "4    420000\n",
       "Name: price, dtype: int64"
      ]
     },
     "execution_count": 9,
     "metadata": {},
     "output_type": "execute_result"
    }
   ],
   "source": [
    "columna1 = houses['price']\n",
    "#the  same as below\n",
    "columna1.head()   \n",
    "#columna1"
   ]
  },
  {
   "cell_type": "code",
   "execution_count": 10,
   "metadata": {},
   "outputs": [
    {
     "data": {
      "text/plain": [
       "address           Casa en venta Bajo Auquisamaña \n",
       "amoblado                                        0\n",
       "amount_max_bs                         4.00021e+07\n",
       "amount_max_usd                         5.8312e+06\n",
       "availability                              ENABLED\n",
       "Name: 10, dtype: object"
      ]
     },
     "execution_count": 10,
     "metadata": {},
     "output_type": "execute_result"
    }
   ],
   "source": [
    "linea = houses.loc[10,:]\n",
    "linea.head()"
   ]
  },
  {
   "cell_type": "code",
   "execution_count": 11,
   "metadata": {},
   "outputs": [
    {
     "data": {
      "text/plain": [
       "0    340000\n",
       "1    460000\n",
       "2    328000\n",
       "3    270000\n",
       "4    420000\n",
       "Name: price, dtype: int64"
      ]
     },
     "execution_count": 11,
     "metadata": {},
     "output_type": "execute_result"
    }
   ],
   "source": [
    "# DOS OPCIONES PARA OBTENER DATOS\n",
    "# 1\n",
    "linea = houses.loc[10,:]\n",
    "#2  \n",
    "# para mantener una forma NUMPIEZCA XD \n",
    "houses.loc[:, 'price'].head()"
   ]
  },
  {
   "cell_type": "markdown",
   "metadata": {},
   "source": [
    "### separa las colmnas numericas con las de textos"
   ]
  },
  {
   "cell_type": "code",
   "execution_count": 12,
   "metadata": {},
   "outputs": [
    {
     "data": {
      "text/plain": [
       "address            object\n",
       "amoblado            int64\n",
       "amount_max_bs     float64\n",
       "amount_max_usd    float64\n",
       "availability       object\n",
       "bathroom          float64\n",
       "baulera             int64\n",
       "bedroom           float64\n",
       "code               object\n",
       "credit_type        object\n",
       "date_released      object\n",
       "dimension           int64\n",
       "elevator            int64\n",
       "fecentrega         object\n",
       "fee                 int64\n",
       "fee_bnb_usd       float64\n",
       "fee_bs              int64\n",
       "fee_regular         int64\n",
       "fee_regular_bs      int64\n",
       "garage              int64\n",
       "id                  int64\n",
       "id_type             int64\n",
       "id_type_offer       int64\n",
       "latitud           float64\n",
       "location           object\n",
       "longitud          float64\n",
       "moneda             object\n",
       "neighborhood       object\n",
       "pool                int64\n",
       "price               int64\n",
       "region             object\n",
       "status              int64\n",
       "type               object\n",
       "type_offer         object\n",
       "warranty           object\n",
       "year_built        float64\n",
       "dtype: object"
      ]
     },
     "execution_count": 12,
     "metadata": {},
     "output_type": "execute_result"
    }
   ],
   "source": [
    "# me da todos los tipos de cada columnas\n",
    "houses.dtypes"
   ]
  },
  {
   "cell_type": "code",
   "execution_count": 13,
   "metadata": {},
   "outputs": [
    {
     "data": {
      "text/plain": [
       "pandas.core.series.Series"
      ]
     },
     "execution_count": 13,
     "metadata": {},
     "output_type": "execute_result"
    }
   ],
   "source": [
    "## el resultado es una SERIE ===> UNA SERIE ES UN DATAFRAME QUE  AL FINAL TIENE UNA SOLA COLUMNA\n",
    "# al fnal me esta dando una columna\n",
    "type(houses.dtypes)"
   ]
  },
  {
   "cell_type": "code",
   "execution_count": 14,
   "metadata": {},
   "outputs": [
    {
     "data": {
      "text/plain": [
       "address           False\n",
       "amoblado          False\n",
       "amount_max_bs      True\n",
       "amount_max_usd     True\n",
       "availability      False\n",
       "bathroom           True\n",
       "baulera           False\n",
       "bedroom            True\n",
       "code              False\n",
       "credit_type       False\n",
       "date_released     False\n",
       "dimension         False\n",
       "elevator          False\n",
       "fecentrega        False\n",
       "fee               False\n",
       "fee_bnb_usd        True\n",
       "fee_bs            False\n",
       "fee_regular       False\n",
       "fee_regular_bs    False\n",
       "garage            False\n",
       "id                False\n",
       "id_type           False\n",
       "id_type_offer     False\n",
       "latitud            True\n",
       "location          False\n",
       "longitud           True\n",
       "moneda            False\n",
       "neighborhood      False\n",
       "pool              False\n",
       "price             False\n",
       "region            False\n",
       "status            False\n",
       "type              False\n",
       "type_offer        False\n",
       "warranty          False\n",
       "year_built         True\n",
       "dtype: bool"
      ]
     },
     "execution_count": 14,
     "metadata": {},
     "output_type": "execute_result"
    }
   ],
   "source": [
    "houses.dtypes == float"
   ]
  },
  {
   "cell_type": "code",
   "execution_count": 15,
   "metadata": {},
   "outputs": [
    {
     "data": {
      "text/plain": [
       "address           False\n",
       "amoblado           True\n",
       "amount_max_bs     False\n",
       "amount_max_usd    False\n",
       "availability      False\n",
       "bathroom          False\n",
       "baulera            True\n",
       "bedroom           False\n",
       "code              False\n",
       "credit_type       False\n",
       "date_released     False\n",
       "dimension          True\n",
       "elevator           True\n",
       "fecentrega        False\n",
       "fee                True\n",
       "fee_bnb_usd       False\n",
       "fee_bs             True\n",
       "fee_regular        True\n",
       "fee_regular_bs     True\n",
       "garage             True\n",
       "id                 True\n",
       "id_type            True\n",
       "id_type_offer      True\n",
       "latitud           False\n",
       "location          False\n",
       "longitud          False\n",
       "moneda            False\n",
       "neighborhood      False\n",
       "pool               True\n",
       "price              True\n",
       "region            False\n",
       "status             True\n",
       "type              False\n",
       "type_offer        False\n",
       "warranty          False\n",
       "year_built        False\n",
       "dtype: bool"
      ]
     },
     "execution_count": 15,
     "metadata": {},
     "output_type": "execute_result"
    }
   ],
   "source": [
    "houses.dtypes == int"
   ]
  },
  {
   "cell_type": "markdown",
   "metadata": {},
   "source": [
    "### construyamos una serie de booleanos"
   ]
  },
  {
   "cell_type": "code",
   "execution_count": 16,
   "metadata": {},
   "outputs": [
    {
     "data": {
      "text/plain": [
       "address            True\n",
       "amoblado          False\n",
       "amount_max_bs     False\n",
       "amount_max_usd    False\n",
       "availability       True\n",
       "bathroom          False\n",
       "baulera           False\n",
       "bedroom           False\n",
       "code               True\n",
       "credit_type        True\n",
       "date_released      True\n",
       "dimension         False\n",
       "elevator          False\n",
       "fecentrega         True\n",
       "fee               False\n",
       "fee_bnb_usd       False\n",
       "fee_bs            False\n",
       "fee_regular       False\n",
       "fee_regular_bs    False\n",
       "garage            False\n",
       "id                False\n",
       "id_type           False\n",
       "id_type_offer     False\n",
       "latitud           False\n",
       "location           True\n",
       "longitud          False\n",
       "moneda             True\n",
       "neighborhood       True\n",
       "pool              False\n",
       "price             False\n",
       "region             True\n",
       "status            False\n",
       "type               True\n",
       "type_offer         True\n",
       "warranty           True\n",
       "year_built        False\n",
       "dtype: bool"
      ]
     },
     "execution_count": 16,
     "metadata": {},
     "output_type": "execute_result"
    }
   ],
   "source": [
    "## cuales son numeros,cuales son textos\n",
    "houses.dtypes == object"
   ]
  },
  {
   "cell_type": "code",
   "execution_count": 17,
   "metadata": {},
   "outputs": [
    {
     "data": {
      "text/plain": [
       "address           False\n",
       "amoblado           True\n",
       "amount_max_bs      True\n",
       "amount_max_usd     True\n",
       "availability      False\n",
       "bathroom           True\n",
       "baulera            True\n",
       "bedroom            True\n",
       "code              False\n",
       "credit_type       False\n",
       "date_released     False\n",
       "dimension          True\n",
       "elevator           True\n",
       "fecentrega        False\n",
       "fee                True\n",
       "fee_bnb_usd        True\n",
       "fee_bs             True\n",
       "fee_regular        True\n",
       "fee_regular_bs     True\n",
       "garage             True\n",
       "id                 True\n",
       "id_type            True\n",
       "id_type_offer      True\n",
       "latitud            True\n",
       "location          False\n",
       "longitud           True\n",
       "moneda            False\n",
       "neighborhood      False\n",
       "pool               True\n",
       "price              True\n",
       "region            False\n",
       "status             True\n",
       "type              False\n",
       "type_offer        False\n",
       "warranty          False\n",
       "year_built         True\n",
       "dtype: bool"
      ]
     },
     "execution_count": 17,
     "metadata": {},
     "output_type": "execute_result"
    }
   ],
   "source": [
    "(houses.dtypes == float) | (houses.dtypes == int )"
   ]
  },
  {
   "cell_type": "markdown",
   "metadata": {},
   "source": [
    "#### crear dos listas distintas\n",
    "##### 1. una lista con el nombre de las columnas q son numeros\n",
    "##### 2. una lista con el nombre de las columnas q son  textos"
   ]
  },
  {
   "cell_type": "code",
   "execution_count": 18,
   "metadata": {},
   "outputs": [
    {
     "data": {
      "text/plain": [
       "address           False\n",
       "amoblado           True\n",
       "amount_max_bs      True\n",
       "amount_max_usd     True\n",
       "availability      False\n",
       "bathroom           True\n",
       "baulera            True\n",
       "bedroom            True\n",
       "code              False\n",
       "credit_type       False\n",
       "date_released     False\n",
       "dimension          True\n",
       "elevator           True\n",
       "fecentrega        False\n",
       "fee                True\n",
       "fee_bnb_usd        True\n",
       "fee_bs             True\n",
       "fee_regular        True\n",
       "fee_regular_bs     True\n",
       "garage             True\n",
       "id                 True\n",
       "id_type            True\n",
       "id_type_offer      True\n",
       "latitud            True\n",
       "location          False\n",
       "longitud           True\n",
       "moneda            False\n",
       "neighborhood      False\n",
       "pool               True\n",
       "price              True\n",
       "region            False\n",
       "status             True\n",
       "type              False\n",
       "type_offer        False\n",
       "warranty          False\n",
       "year_built         True\n",
       "dtype: bool"
      ]
     },
     "execution_count": 18,
     "metadata": {},
     "output_type": "execute_result"
    }
   ],
   "source": [
    "num = (houses.dtypes == float) | (houses.dtypes == int )\n",
    "num"
   ]
  },
  {
   "cell_type": "code",
   "execution_count": 19,
   "metadata": {},
   "outputs": [
    {
     "data": {
      "text/plain": [
       "Index(['address', 'amoblado', 'amount_max_bs', 'amount_max_usd',\n",
       "       'availability', 'bathroom', 'baulera', 'bedroom', 'code', 'credit_type',\n",
       "       'date_released', 'dimension', 'elevator', 'fecentrega', 'fee',\n",
       "       'fee_bnb_usd', 'fee_bs', 'fee_regular', 'fee_regular_bs', 'garage',\n",
       "       'id', 'id_type', 'id_type_offer', 'latitud', 'location', 'longitud',\n",
       "       'moneda', 'neighborhood', 'pool', 'price', 'region', 'status', 'type',\n",
       "       'type_offer', 'warranty', 'year_built'],\n",
       "      dtype='object')"
      ]
     },
     "execution_count": 19,
     "metadata": {},
     "output_type": "execute_result"
    }
   ],
   "source": [
    "# el index son el index de las columnas\n",
    "num.index"
   ]
  },
  {
   "cell_type": "code",
   "execution_count": 20,
   "metadata": {},
   "outputs": [
    {
     "name": "stdout",
     "output_type": "stream",
     "text": [
      "address\n",
      "amoblado\n",
      "amount_max_bs\n",
      "amount_max_usd\n",
      "availability\n",
      "bathroom\n",
      "baulera\n",
      "bedroom\n",
      "code\n",
      "credit_type\n",
      "date_released\n",
      "dimension\n",
      "elevator\n",
      "fecentrega\n",
      "fee\n",
      "fee_bnb_usd\n",
      "fee_bs\n",
      "fee_regular\n",
      "fee_regular_bs\n",
      "garage\n",
      "id\n",
      "id_type\n",
      "id_type_offer\n",
      "latitud\n",
      "location\n",
      "longitud\n",
      "moneda\n",
      "neighborhood\n",
      "pool\n",
      "price\n",
      "region\n",
      "status\n",
      "type\n",
      "type_offer\n",
      "warranty\n",
      "year_built\n"
     ]
    }
   ],
   "source": [
    "## exraemos los trues o flases de ellas\n",
    "#for i in num:\n",
    "for i in num.index:\n",
    "    print(i)"
   ]
  },
  {
   "cell_type": "markdown",
   "metadata": {},
   "source": [
    "### OBTENIENDO LAS COLUMNAS NUMEICAS"
   ]
  },
  {
   "cell_type": "code",
   "execution_count": 21,
   "metadata": {},
   "outputs": [
    {
     "data": {
      "text/plain": [
       "['amoblado',\n",
       " 'amount_max_bs',\n",
       " 'amount_max_usd',\n",
       " 'bathroom',\n",
       " 'baulera',\n",
       " 'bedroom',\n",
       " 'dimension',\n",
       " 'elevator',\n",
       " 'fee',\n",
       " 'fee_bnb_usd',\n",
       " 'fee_bs',\n",
       " 'fee_regular',\n",
       " 'fee_regular_bs',\n",
       " 'garage',\n",
       " 'id',\n",
       " 'id_type',\n",
       " 'id_type_offer',\n",
       " 'latitud',\n",
       " 'longitud',\n",
       " 'pool',\n",
       " 'price',\n",
       " 'status',\n",
       " 'year_built']"
      ]
     },
     "execution_count": 21,
     "metadata": {},
     "output_type": "execute_result"
    }
   ],
   "source": [
    "# num index = el nombre de las columnas\n",
    "# recogiendos las columnas numericas\n",
    "# que agrega todos los valores true\n",
    "num_cols = [c for c in num.index if num[c]]\n",
    "num_cols"
   ]
  },
  {
   "cell_type": "code",
   "execution_count": 22,
   "metadata": {},
   "outputs": [
    {
     "data": {
      "text/plain": [
       "address            True\n",
       "amoblado          False\n",
       "amount_max_bs     False\n",
       "amount_max_usd    False\n",
       "availability       True\n",
       "bathroom          False\n",
       "baulera           False\n",
       "bedroom           False\n",
       "code               True\n",
       "credit_type        True\n",
       "date_released      True\n",
       "dimension         False\n",
       "elevator          False\n",
       "fecentrega         True\n",
       "fee               False\n",
       "fee_bnb_usd       False\n",
       "fee_bs            False\n",
       "fee_regular       False\n",
       "fee_regular_bs    False\n",
       "garage            False\n",
       "id                False\n",
       "id_type           False\n",
       "id_type_offer     False\n",
       "latitud           False\n",
       "location           True\n",
       "longitud          False\n",
       "moneda             True\n",
       "neighborhood       True\n",
       "pool              False\n",
       "price             False\n",
       "region             True\n",
       "status            False\n",
       "type               True\n",
       "type_offer         True\n",
       "warranty           True\n",
       "year_built        False\n",
       "dtype: bool"
      ]
     },
     "execution_count": 22,
     "metadata": {},
     "output_type": "execute_result"
    }
   ],
   "source": [
    "houses.dtypes == object"
   ]
  },
  {
   "cell_type": "markdown",
   "metadata": {},
   "source": [
    "# OBTENIENDO LAS CLUMNAS DE TEXTO"
   ]
  },
  {
   "cell_type": "code",
   "execution_count": 23,
   "metadata": {},
   "outputs": [
    {
     "data": {
      "text/plain": [
       "address            True\n",
       "amoblado          False\n",
       "amount_max_bs     False\n",
       "amount_max_usd    False\n",
       "availability       True\n",
       "bathroom          False\n",
       "baulera           False\n",
       "bedroom           False\n",
       "code               True\n",
       "credit_type        True\n",
       "date_released      True\n",
       "dimension         False\n",
       "elevator          False\n",
       "fecentrega         True\n",
       "fee               False\n",
       "fee_bnb_usd       False\n",
       "fee_bs            False\n",
       "fee_regular       False\n",
       "fee_regular_bs    False\n",
       "garage            False\n",
       "id                False\n",
       "id_type           False\n",
       "id_type_offer     False\n",
       "latitud           False\n",
       "location           True\n",
       "longitud          False\n",
       "moneda             True\n",
       "neighborhood       True\n",
       "pool              False\n",
       "price             False\n",
       "region             True\n",
       "status            False\n",
       "type               True\n",
       "type_offer         True\n",
       "warranty           True\n",
       "year_built        False\n",
       "dtype: bool"
      ]
     },
     "execution_count": 23,
     "metadata": {},
     "output_type": "execute_result"
    }
   ],
   "source": [
    "houses.dtypes == object"
   ]
  },
  {
   "cell_type": "code",
   "execution_count": null,
   "metadata": {},
   "outputs": [],
   "source": []
  },
  {
   "cell_type": "code",
   "execution_count": 24,
   "metadata": {},
   "outputs": [
    {
     "data": {
      "text/plain": [
       "['address',\n",
       " 'availability',\n",
       " 'code',\n",
       " 'credit_type',\n",
       " 'date_released',\n",
       " 'fecentrega',\n",
       " 'location',\n",
       " 'moneda',\n",
       " 'neighborhood',\n",
       " 'region',\n",
       " 'type',\n",
       " 'type_offer',\n",
       " 'warranty']"
      ]
     },
     "execution_count": 24,
     "metadata": {},
     "output_type": "execute_result"
    }
   ],
   "source": [
    "obj = (houses.dtypes == object)\n",
    "obj_cols = [c for c in obj.index if obj[c]]\n",
    "obj_cols"
   ]
  },
  {
   "cell_type": "code",
   "execution_count": null,
   "metadata": {},
   "outputs": [],
   "source": []
  },
  {
   "cell_type": "markdown",
   "metadata": {},
   "source": [
    "### **INSPECCION CUANTITAIVA Y DE SALUD DE LOS DATOS**\n",
    "\n",
    "#### **1.- SOLO LOS VALORES NUMERICOS**"
   ]
  },
  {
   "cell_type": "code",
   "execution_count": 25,
   "metadata": {},
   "outputs": [],
   "source": [
    "# houses[num_cols]\n",
    "# creamos otro DATAFRAME CON SLO NUMEROS\n",
    "houses_num = houses[num_cols]"
   ]
  },
  {
   "cell_type": "code",
   "execution_count": 26,
   "metadata": {},
   "outputs": [
    {
     "data": {
      "text/html": [
       "<div>\n",
       "<style scoped>\n",
       "    .dataframe tbody tr th:only-of-type {\n",
       "        vertical-align: middle;\n",
       "    }\n",
       "\n",
       "    .dataframe tbody tr th {\n",
       "        vertical-align: top;\n",
       "    }\n",
       "\n",
       "    .dataframe thead th {\n",
       "        text-align: right;\n",
       "    }\n",
       "</style>\n",
       "<table border=\"1\" class=\"dataframe\">\n",
       "  <thead>\n",
       "    <tr style=\"text-align: right;\">\n",
       "      <th></th>\n",
       "      <th>amoblado</th>\n",
       "      <th>amount_max_bs</th>\n",
       "      <th>amount_max_usd</th>\n",
       "      <th>bathroom</th>\n",
       "      <th>baulera</th>\n",
       "      <th>bedroom</th>\n",
       "      <th>dimension</th>\n",
       "      <th>elevator</th>\n",
       "      <th>fee</th>\n",
       "      <th>fee_bnb_usd</th>\n",
       "      <th>...</th>\n",
       "      <th>garage</th>\n",
       "      <th>id</th>\n",
       "      <th>id_type</th>\n",
       "      <th>id_type_offer</th>\n",
       "      <th>latitud</th>\n",
       "      <th>longitud</th>\n",
       "      <th>pool</th>\n",
       "      <th>price</th>\n",
       "      <th>status</th>\n",
       "      <th>year_built</th>\n",
       "    </tr>\n",
       "  </thead>\n",
       "  <tbody>\n",
       "    <tr>\n",
       "      <th>0</th>\n",
       "      <td>0</td>\n",
       "      <td>40002059.0</td>\n",
       "      <td>5831204.0</td>\n",
       "      <td>4.0</td>\n",
       "      <td>0</td>\n",
       "      <td>5.0</td>\n",
       "      <td>280</td>\n",
       "      <td>0</td>\n",
       "      <td>1881</td>\n",
       "      <td>NaN</td>\n",
       "      <td>...</td>\n",
       "      <td>4</td>\n",
       "      <td>537418</td>\n",
       "      <td>1</td>\n",
       "      <td>1</td>\n",
       "      <td>-16.521725</td>\n",
       "      <td>-68.060249</td>\n",
       "      <td>0</td>\n",
       "      <td>340000</td>\n",
       "      <td>2</td>\n",
       "      <td>2009.0</td>\n",
       "    </tr>\n",
       "    <tr>\n",
       "      <th>1</th>\n",
       "      <td>0</td>\n",
       "      <td>40002059.0</td>\n",
       "      <td>5831204.0</td>\n",
       "      <td>5.0</td>\n",
       "      <td>0</td>\n",
       "      <td>3.0</td>\n",
       "      <td>554</td>\n",
       "      <td>0</td>\n",
       "      <td>2545</td>\n",
       "      <td>NaN</td>\n",
       "      <td>...</td>\n",
       "      <td>5</td>\n",
       "      <td>539099</td>\n",
       "      <td>1</td>\n",
       "      <td>1</td>\n",
       "      <td>-16.514791</td>\n",
       "      <td>-68.058067</td>\n",
       "      <td>0</td>\n",
       "      <td>460000</td>\n",
       "      <td>2</td>\n",
       "      <td>2009.0</td>\n",
       "    </tr>\n",
       "    <tr>\n",
       "      <th>2</th>\n",
       "      <td>0</td>\n",
       "      <td>40002059.0</td>\n",
       "      <td>5831204.0</td>\n",
       "      <td>6.0</td>\n",
       "      <td>0</td>\n",
       "      <td>5.0</td>\n",
       "      <td>380</td>\n",
       "      <td>0</td>\n",
       "      <td>1815</td>\n",
       "      <td>2269.53</td>\n",
       "      <td>...</td>\n",
       "      <td>4</td>\n",
       "      <td>451025</td>\n",
       "      <td>1</td>\n",
       "      <td>1</td>\n",
       "      <td>-16.566566</td>\n",
       "      <td>-68.100983</td>\n",
       "      <td>0</td>\n",
       "      <td>328000</td>\n",
       "      <td>2</td>\n",
       "      <td>2015.0</td>\n",
       "    </tr>\n",
       "    <tr>\n",
       "      <th>3</th>\n",
       "      <td>0</td>\n",
       "      <td>40002059.0</td>\n",
       "      <td>5831204.0</td>\n",
       "      <td>4.0</td>\n",
       "      <td>0</td>\n",
       "      <td>3.0</td>\n",
       "      <td>271</td>\n",
       "      <td>0</td>\n",
       "      <td>1494</td>\n",
       "      <td>NaN</td>\n",
       "      <td>...</td>\n",
       "      <td>2</td>\n",
       "      <td>537017</td>\n",
       "      <td>1</td>\n",
       "      <td>1</td>\n",
       "      <td>-16.539755</td>\n",
       "      <td>-68.057640</td>\n",
       "      <td>0</td>\n",
       "      <td>270000</td>\n",
       "      <td>2</td>\n",
       "      <td>NaN</td>\n",
       "    </tr>\n",
       "    <tr>\n",
       "      <th>4</th>\n",
       "      <td>0</td>\n",
       "      <td>40002059.0</td>\n",
       "      <td>5831204.0</td>\n",
       "      <td>6.0</td>\n",
       "      <td>0</td>\n",
       "      <td>4.0</td>\n",
       "      <td>320</td>\n",
       "      <td>0</td>\n",
       "      <td>2324</td>\n",
       "      <td>NaN</td>\n",
       "      <td>...</td>\n",
       "      <td>4</td>\n",
       "      <td>539274</td>\n",
       "      <td>1</td>\n",
       "      <td>1</td>\n",
       "      <td>-16.547251</td>\n",
       "      <td>-68.077873</td>\n",
       "      <td>0</td>\n",
       "      <td>420000</td>\n",
       "      <td>1</td>\n",
       "      <td>NaN</td>\n",
       "    </tr>\n",
       "  </tbody>\n",
       "</table>\n",
       "<p>5 rows × 23 columns</p>\n",
       "</div>"
      ],
      "text/plain": [
       "   amoblado  amount_max_bs  amount_max_usd  bathroom  baulera  bedroom  \\\n",
       "0         0     40002059.0       5831204.0       4.0        0      5.0   \n",
       "1         0     40002059.0       5831204.0       5.0        0      3.0   \n",
       "2         0     40002059.0       5831204.0       6.0        0      5.0   \n",
       "3         0     40002059.0       5831204.0       4.0        0      3.0   \n",
       "4         0     40002059.0       5831204.0       6.0        0      4.0   \n",
       "\n",
       "   dimension  elevator   fee  fee_bnb_usd     ...      garage      id  \\\n",
       "0        280         0  1881          NaN     ...           4  537418   \n",
       "1        554         0  2545          NaN     ...           5  539099   \n",
       "2        380         0  1815      2269.53     ...           4  451025   \n",
       "3        271         0  1494          NaN     ...           2  537017   \n",
       "4        320         0  2324          NaN     ...           4  539274   \n",
       "\n",
       "   id_type  id_type_offer    latitud   longitud  pool   price  status  \\\n",
       "0        1              1 -16.521725 -68.060249     0  340000       2   \n",
       "1        1              1 -16.514791 -68.058067     0  460000       2   \n",
       "2        1              1 -16.566566 -68.100983     0  328000       2   \n",
       "3        1              1 -16.539755 -68.057640     0  270000       2   \n",
       "4        1              1 -16.547251 -68.077873     0  420000       1   \n",
       "\n",
       "   year_built  \n",
       "0      2009.0  \n",
       "1      2009.0  \n",
       "2      2015.0  \n",
       "3         NaN  \n",
       "4         NaN  \n",
       "\n",
       "[5 rows x 23 columns]"
      ]
     },
     "execution_count": 26,
     "metadata": {},
     "output_type": "execute_result"
    }
   ],
   "source": [
    "houses_num.head(5)"
   ]
  },
  {
   "cell_type": "code",
   "execution_count": 27,
   "metadata": {},
   "outputs": [
    {
     "data": {
      "text/html": [
       "<div>\n",
       "<style scoped>\n",
       "    .dataframe tbody tr th:only-of-type {\n",
       "        vertical-align: middle;\n",
       "    }\n",
       "\n",
       "    .dataframe tbody tr th {\n",
       "        vertical-align: top;\n",
       "    }\n",
       "\n",
       "    .dataframe thead th {\n",
       "        text-align: right;\n",
       "    }\n",
       "</style>\n",
       "<table border=\"1\" class=\"dataframe\">\n",
       "  <thead>\n",
       "    <tr style=\"text-align: right;\">\n",
       "      <th></th>\n",
       "      <th>amoblado</th>\n",
       "      <th>amount_max_bs</th>\n",
       "      <th>amount_max_usd</th>\n",
       "      <th>bathroom</th>\n",
       "      <th>baulera</th>\n",
       "      <th>bedroom</th>\n",
       "      <th>dimension</th>\n",
       "      <th>elevator</th>\n",
       "      <th>fee</th>\n",
       "      <th>fee_bnb_usd</th>\n",
       "      <th>...</th>\n",
       "      <th>garage</th>\n",
       "      <th>id</th>\n",
       "      <th>id_type</th>\n",
       "      <th>id_type_offer</th>\n",
       "      <th>latitud</th>\n",
       "      <th>longitud</th>\n",
       "      <th>pool</th>\n",
       "      <th>price</th>\n",
       "      <th>status</th>\n",
       "      <th>year_built</th>\n",
       "    </tr>\n",
       "  </thead>\n",
       "  <tbody>\n",
       "    <tr>\n",
       "      <th>count</th>\n",
       "      <td>823.000000</td>\n",
       "      <td>6.450000e+02</td>\n",
       "      <td>6.450000e+02</td>\n",
       "      <td>814.000000</td>\n",
       "      <td>823.000000</td>\n",
       "      <td>814.000000</td>\n",
       "      <td>823.000000</td>\n",
       "      <td>823.000000</td>\n",
       "      <td>823.000000</td>\n",
       "      <td>397.000000</td>\n",
       "      <td>...</td>\n",
       "      <td>823.000000</td>\n",
       "      <td>823.000000</td>\n",
       "      <td>823.0</td>\n",
       "      <td>823.000000</td>\n",
       "      <td>823.000000</td>\n",
       "      <td>823.000000</td>\n",
       "      <td>823.000000</td>\n",
       "      <td>8.230000e+02</td>\n",
       "      <td>823.000000</td>\n",
       "      <td>341.000000</td>\n",
       "    </tr>\n",
       "    <tr>\n",
       "      <th>mean</th>\n",
       "      <td>0.023086</td>\n",
       "      <td>4.023927e+07</td>\n",
       "      <td>5.865783e+06</td>\n",
       "      <td>4.603194</td>\n",
       "      <td>0.017011</td>\n",
       "      <td>4.455774</td>\n",
       "      <td>639.264885</td>\n",
       "      <td>0.001215</td>\n",
       "      <td>2010.295261</td>\n",
       "      <td>3152.396373</td>\n",
       "      <td>...</td>\n",
       "      <td>2.761847</td>\n",
       "      <td>459476.189550</td>\n",
       "      <td>1.0</td>\n",
       "      <td>1.252734</td>\n",
       "      <td>-16.532177</td>\n",
       "      <td>-68.081973</td>\n",
       "      <td>0.006075</td>\n",
       "      <td>1.215102e+10</td>\n",
       "      <td>1.856622</td>\n",
       "      <td>2004.480938</td>\n",
       "    </tr>\n",
       "    <tr>\n",
       "      <th>std</th>\n",
       "      <td>0.150269</td>\n",
       "      <td>1.327146e+06</td>\n",
       "      <td>1.934615e+05</td>\n",
       "      <td>1.747545</td>\n",
       "      <td>0.129391</td>\n",
       "      <td>2.373466</td>\n",
       "      <td>3382.789667</td>\n",
       "      <td>0.034858</td>\n",
       "      <td>2828.693058</td>\n",
       "      <td>2572.854485</td>\n",
       "      <td>...</td>\n",
       "      <td>1.624524</td>\n",
       "      <td>119010.862787</td>\n",
       "      <td>0.0</td>\n",
       "      <td>0.504760</td>\n",
       "      <td>0.057126</td>\n",
       "      <td>0.029126</td>\n",
       "      <td>0.077755</td>\n",
       "      <td>3.485781e+11</td>\n",
       "      <td>0.350671</td>\n",
       "      <td>14.979312</td>\n",
       "    </tr>\n",
       "    <tr>\n",
       "      <th>min</th>\n",
       "      <td>0.000000</td>\n",
       "      <td>3.880346e+07</td>\n",
       "      <td>5.656480e+06</td>\n",
       "      <td>1.000000</td>\n",
       "      <td>0.000000</td>\n",
       "      <td>1.000000</td>\n",
       "      <td>0.000000</td>\n",
       "      <td>0.000000</td>\n",
       "      <td>0.000000</td>\n",
       "      <td>8.580000</td>\n",
       "      <td>...</td>\n",
       "      <td>0.000000</td>\n",
       "      <td>1354.000000</td>\n",
       "      <td>1.0</td>\n",
       "      <td>1.000000</td>\n",
       "      <td>-16.664749</td>\n",
       "      <td>-68.524712</td>\n",
       "      <td>0.000000</td>\n",
       "      <td>3.200000e+02</td>\n",
       "      <td>1.000000</td>\n",
       "      <td>1900.000000</td>\n",
       "    </tr>\n",
       "    <tr>\n",
       "      <th>25%</th>\n",
       "      <td>0.000000</td>\n",
       "      <td>4.000206e+07</td>\n",
       "      <td>5.831204e+06</td>\n",
       "      <td>4.000000</td>\n",
       "      <td>0.000000</td>\n",
       "      <td>3.000000</td>\n",
       "      <td>278.500000</td>\n",
       "      <td>0.000000</td>\n",
       "      <td>942.000000</td>\n",
       "      <td>1927.920000</td>\n",
       "      <td>...</td>\n",
       "      <td>2.000000</td>\n",
       "      <td>464697.000000</td>\n",
       "      <td>1.0</td>\n",
       "      <td>1.000000</td>\n",
       "      <td>-16.544852</td>\n",
       "      <td>-68.094681</td>\n",
       "      <td>0.000000</td>\n",
       "      <td>1.490000e+05</td>\n",
       "      <td>2.000000</td>\n",
       "      <td>1999.000000</td>\n",
       "    </tr>\n",
       "    <tr>\n",
       "      <th>50%</th>\n",
       "      <td>0.000000</td>\n",
       "      <td>4.000206e+07</td>\n",
       "      <td>5.831204e+06</td>\n",
       "      <td>4.000000</td>\n",
       "      <td>0.000000</td>\n",
       "      <td>4.000000</td>\n",
       "      <td>362.000000</td>\n",
       "      <td>0.000000</td>\n",
       "      <td>1604.000000</td>\n",
       "      <td>2570.600000</td>\n",
       "      <td>...</td>\n",
       "      <td>2.000000</td>\n",
       "      <td>510076.000000</td>\n",
       "      <td>1.0</td>\n",
       "      <td>1.000000</td>\n",
       "      <td>-16.529593</td>\n",
       "      <td>-68.077873</td>\n",
       "      <td>0.000000</td>\n",
       "      <td>2.900000e+05</td>\n",
       "      <td>2.000000</td>\n",
       "      <td>2008.000000</td>\n",
       "    </tr>\n",
       "    <tr>\n",
       "      <th>75%</th>\n",
       "      <td>0.000000</td>\n",
       "      <td>4.000206e+07</td>\n",
       "      <td>5.831204e+06</td>\n",
       "      <td>5.000000</td>\n",
       "      <td>0.000000</td>\n",
       "      <td>5.000000</td>\n",
       "      <td>472.000000</td>\n",
       "      <td>0.000000</td>\n",
       "      <td>2462.000000</td>\n",
       "      <td>3770.020000</td>\n",
       "      <td>...</td>\n",
       "      <td>3.000000</td>\n",
       "      <td>531510.000000</td>\n",
       "      <td>1.0</td>\n",
       "      <td>1.000000</td>\n",
       "      <td>-16.517890</td>\n",
       "      <td>-68.062103</td>\n",
       "      <td>0.000000</td>\n",
       "      <td>4.450000e+05</td>\n",
       "      <td>2.000000</td>\n",
       "      <td>2015.000000</td>\n",
       "    </tr>\n",
       "    <tr>\n",
       "      <th>max</th>\n",
       "      <td>1.000000</td>\n",
       "      <td>4.846384e+07</td>\n",
       "      <td>7.064699e+06</td>\n",
       "      <td>19.000000</td>\n",
       "      <td>1.000000</td>\n",
       "      <td>35.000000</td>\n",
       "      <td>55789.000000</td>\n",
       "      <td>1.000000</td>\n",
       "      <td>46088.000000</td>\n",
       "      <td>24533.480000</td>\n",
       "      <td>...</td>\n",
       "      <td>10.000000</td>\n",
       "      <td>544884.000000</td>\n",
       "      <td>1.0</td>\n",
       "      <td>3.000000</td>\n",
       "      <td>-15.089242</td>\n",
       "      <td>-68.015587</td>\n",
       "      <td>1.000000</td>\n",
       "      <td>1.000000e+13</td>\n",
       "      <td>2.000000</td>\n",
       "      <td>2019.000000</td>\n",
       "    </tr>\n",
       "  </tbody>\n",
       "</table>\n",
       "<p>8 rows × 23 columns</p>\n",
       "</div>"
      ],
      "text/plain": [
       "         amoblado  amount_max_bs  amount_max_usd    bathroom     baulera  \\\n",
       "count  823.000000   6.450000e+02    6.450000e+02  814.000000  823.000000   \n",
       "mean     0.023086   4.023927e+07    5.865783e+06    4.603194    0.017011   \n",
       "std      0.150269   1.327146e+06    1.934615e+05    1.747545    0.129391   \n",
       "min      0.000000   3.880346e+07    5.656480e+06    1.000000    0.000000   \n",
       "25%      0.000000   4.000206e+07    5.831204e+06    4.000000    0.000000   \n",
       "50%      0.000000   4.000206e+07    5.831204e+06    4.000000    0.000000   \n",
       "75%      0.000000   4.000206e+07    5.831204e+06    5.000000    0.000000   \n",
       "max      1.000000   4.846384e+07    7.064699e+06   19.000000    1.000000   \n",
       "\n",
       "          bedroom     dimension    elevator           fee   fee_bnb_usd  \\\n",
       "count  814.000000    823.000000  823.000000    823.000000    397.000000   \n",
       "mean     4.455774    639.264885    0.001215   2010.295261   3152.396373   \n",
       "std      2.373466   3382.789667    0.034858   2828.693058   2572.854485   \n",
       "min      1.000000      0.000000    0.000000      0.000000      8.580000   \n",
       "25%      3.000000    278.500000    0.000000    942.000000   1927.920000   \n",
       "50%      4.000000    362.000000    0.000000   1604.000000   2570.600000   \n",
       "75%      5.000000    472.000000    0.000000   2462.000000   3770.020000   \n",
       "max     35.000000  55789.000000    1.000000  46088.000000  24533.480000   \n",
       "\n",
       "          ...           garage             id  id_type  id_type_offer  \\\n",
       "count     ...       823.000000     823.000000    823.0     823.000000   \n",
       "mean      ...         2.761847  459476.189550      1.0       1.252734   \n",
       "std       ...         1.624524  119010.862787      0.0       0.504760   \n",
       "min       ...         0.000000    1354.000000      1.0       1.000000   \n",
       "25%       ...         2.000000  464697.000000      1.0       1.000000   \n",
       "50%       ...         2.000000  510076.000000      1.0       1.000000   \n",
       "75%       ...         3.000000  531510.000000      1.0       1.000000   \n",
       "max       ...        10.000000  544884.000000      1.0       3.000000   \n",
       "\n",
       "          latitud    longitud        pool         price      status  \\\n",
       "count  823.000000  823.000000  823.000000  8.230000e+02  823.000000   \n",
       "mean   -16.532177  -68.081973    0.006075  1.215102e+10    1.856622   \n",
       "std      0.057126    0.029126    0.077755  3.485781e+11    0.350671   \n",
       "min    -16.664749  -68.524712    0.000000  3.200000e+02    1.000000   \n",
       "25%    -16.544852  -68.094681    0.000000  1.490000e+05    2.000000   \n",
       "50%    -16.529593  -68.077873    0.000000  2.900000e+05    2.000000   \n",
       "75%    -16.517890  -68.062103    0.000000  4.450000e+05    2.000000   \n",
       "max    -15.089242  -68.015587    1.000000  1.000000e+13    2.000000   \n",
       "\n",
       "        year_built  \n",
       "count   341.000000  \n",
       "mean   2004.480938  \n",
       "std      14.979312  \n",
       "min    1900.000000  \n",
       "25%    1999.000000  \n",
       "50%    2008.000000  \n",
       "75%    2015.000000  \n",
       "max    2019.000000  \n",
       "\n",
       "[8 rows x 23 columns]"
      ]
     },
     "execution_count": 27,
     "metadata": {},
     "output_type": "execute_result"
    }
   ],
   "source": [
    "# estadisticas de las columnas numericas\n",
    "houses_num.describe()"
   ]
  },
  {
   "cell_type": "markdown",
   "metadata": {},
   "source": []
  },
  {
   "cell_type": "code",
   "execution_count": null,
   "metadata": {},
   "outputs": [],
   "source": []
  },
  {
   "cell_type": "markdown",
   "metadata": {},
   "source": [
    "#### **2. - SOLO LOS VALORES DE TEXTO**"
   ]
  },
  {
   "cell_type": "code",
   "execution_count": 29,
   "metadata": {},
   "outputs": [],
   "source": [
    "# houses[obj_cols]\n",
    "# creamos otro DATAFRAME CON SLO TEXTO\n",
    "houses_obj = houses[obj_cols]"
   ]
  },
  {
   "cell_type": "code",
   "execution_count": 30,
   "metadata": {},
   "outputs": [
    {
     "data": {
      "text/html": [
       "<div>\n",
       "<style scoped>\n",
       "    .dataframe tbody tr th:only-of-type {\n",
       "        vertical-align: middle;\n",
       "    }\n",
       "\n",
       "    .dataframe tbody tr th {\n",
       "        vertical-align: top;\n",
       "    }\n",
       "\n",
       "    .dataframe thead th {\n",
       "        text-align: right;\n",
       "    }\n",
       "</style>\n",
       "<table border=\"1\" class=\"dataframe\">\n",
       "  <thead>\n",
       "    <tr style=\"text-align: right;\">\n",
       "      <th></th>\n",
       "      <th>address</th>\n",
       "      <th>availability</th>\n",
       "      <th>code</th>\n",
       "      <th>credit_type</th>\n",
       "      <th>date_released</th>\n",
       "      <th>fecentrega</th>\n",
       "      <th>location</th>\n",
       "      <th>moneda</th>\n",
       "      <th>neighborhood</th>\n",
       "      <th>region</th>\n",
       "      <th>type</th>\n",
       "      <th>type_offer</th>\n",
       "      <th>warranty</th>\n",
       "    </tr>\n",
       "  </thead>\n",
       "  <tbody>\n",
       "    <tr>\n",
       "      <th>0</th>\n",
       "      <td>Achumani</td>\n",
       "      <td>ENABLED</td>\n",
       "      <td>UC-537418</td>\n",
       "      <td>no social con 20% de aporte propio.</td>\n",
       "      <td>22/03/2019</td>\n",
       "      <td>Inmediata</td>\n",
       "      <td>La Paz</td>\n",
       "      <td>$us</td>\n",
       "      <td>Achumani</td>\n",
       "      <td>La Paz</td>\n",
       "      <td>Casa</td>\n",
       "      <td>Venta</td>\n",
       "      <td>NaN</td>\n",
       "    </tr>\n",
       "    <tr>\n",
       "      <th>1</th>\n",
       "      <td>EN JARDINES DEL SUR ACHUMANI PRECIOSA CASA EN ...</td>\n",
       "      <td>ENABLED</td>\n",
       "      <td>UC-539099</td>\n",
       "      <td>no social con 20% de aporte propio.</td>\n",
       "      <td>29/03/2019</td>\n",
       "      <td>Inmediata</td>\n",
       "      <td>La Paz</td>\n",
       "      <td>$us</td>\n",
       "      <td>Achumani</td>\n",
       "      <td>La Paz</td>\n",
       "      <td>Casa</td>\n",
       "      <td>Venta</td>\n",
       "      <td>NaN</td>\n",
       "    </tr>\n",
       "    <tr>\n",
       "      <th>2</th>\n",
       "      <td>Mallasilla  Condominio  Mirasol</td>\n",
       "      <td>ENABLED</td>\n",
       "      <td>UC-451025</td>\n",
       "      <td>no social con 20% de aporte propio.</td>\n",
       "      <td>31/03/2019</td>\n",
       "      <td>Inmediata</td>\n",
       "      <td>La Paz</td>\n",
       "      <td>$us</td>\n",
       "      <td>Mallasilla</td>\n",
       "      <td>La Paz</td>\n",
       "      <td>Casa</td>\n",
       "      <td>Venta</td>\n",
       "      <td>NaN</td>\n",
       "    </tr>\n",
       "  </tbody>\n",
       "</table>\n",
       "</div>"
      ],
      "text/plain": [
       "                                             address availability       code  \\\n",
       "0                                          Achumani       ENABLED  UC-537418   \n",
       "1  EN JARDINES DEL SUR ACHUMANI PRECIOSA CASA EN ...      ENABLED  UC-539099   \n",
       "2                    Mallasilla  Condominio  Mirasol      ENABLED  UC-451025   \n",
       "\n",
       "                             credit_type date_released fecentrega location  \\\n",
       "0   no social con 20% de aporte propio.     22/03/2019  Inmediata   La Paz   \n",
       "1   no social con 20% de aporte propio.     29/03/2019  Inmediata   La Paz   \n",
       "2   no social con 20% de aporte propio.     31/03/2019  Inmediata   La Paz   \n",
       "\n",
       "  moneda neighborhood  region  type type_offer warranty  \n",
       "0    $us     Achumani  La Paz  Casa      Venta      NaN  \n",
       "1    $us     Achumani  La Paz  Casa      Venta      NaN  \n",
       "2    $us   Mallasilla  La Paz  Casa      Venta      NaN  "
      ]
     },
     "execution_count": 30,
     "metadata": {},
     "output_type": "execute_result"
    }
   ],
   "source": [
    "houses_obj.head(3)"
   ]
  },
  {
   "cell_type": "code",
   "execution_count": 31,
   "metadata": {},
   "outputs": [
    {
     "data": {
      "text/html": [
       "<div>\n",
       "<style scoped>\n",
       "    .dataframe tbody tr th:only-of-type {\n",
       "        vertical-align: middle;\n",
       "    }\n",
       "\n",
       "    .dataframe tbody tr th {\n",
       "        vertical-align: top;\n",
       "    }\n",
       "\n",
       "    .dataframe thead th {\n",
       "        text-align: right;\n",
       "    }\n",
       "</style>\n",
       "<table border=\"1\" class=\"dataframe\">\n",
       "  <thead>\n",
       "    <tr style=\"text-align: right;\">\n",
       "      <th></th>\n",
       "      <th>address</th>\n",
       "      <th>availability</th>\n",
       "      <th>code</th>\n",
       "      <th>credit_type</th>\n",
       "      <th>date_released</th>\n",
       "      <th>fecentrega</th>\n",
       "      <th>location</th>\n",
       "      <th>moneda</th>\n",
       "      <th>neighborhood</th>\n",
       "      <th>region</th>\n",
       "      <th>type</th>\n",
       "      <th>type_offer</th>\n",
       "      <th>warranty</th>\n",
       "    </tr>\n",
       "  </thead>\n",
       "  <tbody>\n",
       "    <tr>\n",
       "      <th>count</th>\n",
       "      <td>823</td>\n",
       "      <td>823</td>\n",
       "      <td>823</td>\n",
       "      <td>645</td>\n",
       "      <td>823</td>\n",
       "      <td>823</td>\n",
       "      <td>823</td>\n",
       "      <td>823</td>\n",
       "      <td>823</td>\n",
       "      <td>823</td>\n",
       "      <td>823</td>\n",
       "      <td>823</td>\n",
       "      <td>93</td>\n",
       "    </tr>\n",
       "    <tr>\n",
       "      <th>unique</th>\n",
       "      <td>595</td>\n",
       "      <td>2</td>\n",
       "      <td>823</td>\n",
       "      <td>2</td>\n",
       "      <td>191</td>\n",
       "      <td>9</td>\n",
       "      <td>1</td>\n",
       "      <td>2</td>\n",
       "      <td>39</td>\n",
       "      <td>1</td>\n",
       "      <td>1</td>\n",
       "      <td>3</td>\n",
       "      <td>54</td>\n",
       "    </tr>\n",
       "    <tr>\n",
       "      <th>top</th>\n",
       "      <td>Achumani</td>\n",
       "      <td>ENABLED</td>\n",
       "      <td>UC-466369</td>\n",
       "      <td>no social con 20% de aporte propio.</td>\n",
       "      <td>06/04/2019</td>\n",
       "      <td>Inmediata</td>\n",
       "      <td>La Paz</td>\n",
       "      <td>$us</td>\n",
       "      <td>Achumani</td>\n",
       "      <td>La Paz</td>\n",
       "      <td>Casa</td>\n",
       "      <td>Venta</td>\n",
       "      <td>7000.00 $us</td>\n",
       "    </tr>\n",
       "    <tr>\n",
       "      <th>freq</th>\n",
       "      <td>37</td>\n",
       "      <td>814</td>\n",
       "      <td>1</td>\n",
       "      <td>624</td>\n",
       "      <td>226</td>\n",
       "      <td>792</td>\n",
       "      <td>823</td>\n",
       "      <td>816</td>\n",
       "      <td>254</td>\n",
       "      <td>823</td>\n",
       "      <td>823</td>\n",
       "      <td>642</td>\n",
       "      <td>6</td>\n",
       "    </tr>\n",
       "  </tbody>\n",
       "</table>\n",
       "</div>"
      ],
      "text/plain": [
       "         address availability       code  \\\n",
       "count        823          823        823   \n",
       "unique       595            2        823   \n",
       "top     Achumani      ENABLED  UC-466369   \n",
       "freq          37          814          1   \n",
       "\n",
       "                                  credit_type date_released fecentrega  \\\n",
       "count                                     645           823        823   \n",
       "unique                                      2           191          9   \n",
       "top      no social con 20% de aporte propio.     06/04/2019  Inmediata   \n",
       "freq                                      624           226        792   \n",
       "\n",
       "       location moneda neighborhood  region  type type_offer     warranty  \n",
       "count       823    823          823     823   823        823           93  \n",
       "unique        1      2           39       1     1          3           54  \n",
       "top      La Paz    $us     Achumani  La Paz  Casa      Venta  7000.00 $us  \n",
       "freq        823    816          254     823   823        642            6  "
      ]
     },
     "execution_count": 31,
     "metadata": {},
     "output_type": "execute_result"
    }
   ],
   "source": [
    "houses_obj.describe()"
   ]
  },
  {
   "cell_type": "markdown",
   "metadata": {},
   "source": [
    "# ADDING THE NEIGHBORHOOD"
   ]
  },
  {
   "cell_type": "code",
   "execution_count": 240,
   "metadata": {},
   "outputs": [
    {
     "data": {
      "text/plain": [
       "0      Achumani\n",
       "1      Achumani\n",
       "2    Mallasilla\n",
       "Name: neighborhood, dtype: object"
      ]
     },
     "execution_count": 240,
     "metadata": {},
     "output_type": "execute_result"
    }
   ],
   "source": [
    "nh = houses_obj['neighborhood']\n",
    "nh.head(3)"
   ]
  },
  {
   "cell_type": "code",
   "execution_count": 241,
   "metadata": {},
   "outputs": [
    {
     "data": {
      "text/plain": [
       "0    Venta\n",
       "1    Venta\n",
       "2    Venta\n",
       "Name: type_offer, dtype: object"
      ]
     },
     "execution_count": 241,
     "metadata": {},
     "output_type": "execute_result"
    }
   ],
   "source": [
    "to = houses_obj['type_offer']\n",
    "to.head(3)"
   ]
  },
  {
   "cell_type": "code",
   "execution_count": 242,
   "metadata": {},
   "outputs": [
    {
     "data": {
      "text/plain": [
       "0    Casa\n",
       "1    Casa\n",
       "2    Casa\n",
       "Name: type, dtype: object"
      ]
     },
     "execution_count": 242,
     "metadata": {},
     "output_type": "execute_result"
    }
   ],
   "source": [
    "ty = houses_obj['type']\n",
    "ty.head(3)"
   ]
  },
  {
   "cell_type": "code",
   "execution_count": 243,
   "metadata": {},
   "outputs": [
    {
     "data": {
      "text/html": [
       "<div>\n",
       "<style scoped>\n",
       "    .dataframe tbody tr th:only-of-type {\n",
       "        vertical-align: middle;\n",
       "    }\n",
       "\n",
       "    .dataframe tbody tr th {\n",
       "        vertical-align: top;\n",
       "    }\n",
       "\n",
       "    .dataframe thead th {\n",
       "        text-align: right;\n",
       "    }\n",
       "</style>\n",
       "<table border=\"1\" class=\"dataframe\">\n",
       "  <thead>\n",
       "    <tr style=\"text-align: right;\">\n",
       "      <th></th>\n",
       "      <th>address</th>\n",
       "      <th>availability</th>\n",
       "      <th>code</th>\n",
       "      <th>credit_type</th>\n",
       "      <th>date_released</th>\n",
       "      <th>fecentrega</th>\n",
       "      <th>location</th>\n",
       "      <th>moneda</th>\n",
       "      <th>region</th>\n",
       "      <th>warranty</th>\n",
       "    </tr>\n",
       "  </thead>\n",
       "  <tbody>\n",
       "    <tr>\n",
       "      <th>0</th>\n",
       "      <td>Achumani</td>\n",
       "      <td>ENABLED</td>\n",
       "      <td>UC-537418</td>\n",
       "      <td>no social con 20% de aporte propio.</td>\n",
       "      <td>22/03/2019</td>\n",
       "      <td>Inmediata</td>\n",
       "      <td>La Paz</td>\n",
       "      <td>$us</td>\n",
       "      <td>La Paz</td>\n",
       "      <td>NaN</td>\n",
       "    </tr>\n",
       "    <tr>\n",
       "      <th>1</th>\n",
       "      <td>EN JARDINES DEL SUR ACHUMANI PRECIOSA CASA EN ...</td>\n",
       "      <td>ENABLED</td>\n",
       "      <td>UC-539099</td>\n",
       "      <td>no social con 20% de aporte propio.</td>\n",
       "      <td>29/03/2019</td>\n",
       "      <td>Inmediata</td>\n",
       "      <td>La Paz</td>\n",
       "      <td>$us</td>\n",
       "      <td>La Paz</td>\n",
       "      <td>NaN</td>\n",
       "    </tr>\n",
       "    <tr>\n",
       "      <th>2</th>\n",
       "      <td>Mallasilla  Condominio  Mirasol</td>\n",
       "      <td>ENABLED</td>\n",
       "      <td>UC-451025</td>\n",
       "      <td>no social con 20% de aporte propio.</td>\n",
       "      <td>31/03/2019</td>\n",
       "      <td>Inmediata</td>\n",
       "      <td>La Paz</td>\n",
       "      <td>$us</td>\n",
       "      <td>La Paz</td>\n",
       "      <td>NaN</td>\n",
       "    </tr>\n",
       "    <tr>\n",
       "      <th>3</th>\n",
       "      <td>COTA COTA</td>\n",
       "      <td>ENABLED</td>\n",
       "      <td>UC-537017</td>\n",
       "      <td>no social con 20% de aporte propio.</td>\n",
       "      <td>19/03/2019</td>\n",
       "      <td>Inmediata</td>\n",
       "      <td>La Paz</td>\n",
       "      <td>$us</td>\n",
       "      <td>La Paz</td>\n",
       "      <td>NaN</td>\n",
       "    </tr>\n",
       "    <tr>\n",
       "      <th>4</th>\n",
       "      <td>AUQUISAMAÑA</td>\n",
       "      <td>ENABLED</td>\n",
       "      <td>UC-539274</td>\n",
       "      <td>no social con 20% de aporte propio.</td>\n",
       "      <td>24/03/2019</td>\n",
       "      <td>Inmediata</td>\n",
       "      <td>La Paz</td>\n",
       "      <td>$us</td>\n",
       "      <td>La Paz</td>\n",
       "      <td>NaN</td>\n",
       "    </tr>\n",
       "  </tbody>\n",
       "</table>\n",
       "</div>"
      ],
      "text/plain": [
       "                                             address availability       code  \\\n",
       "0                                          Achumani       ENABLED  UC-537418   \n",
       "1  EN JARDINES DEL SUR ACHUMANI PRECIOSA CASA EN ...      ENABLED  UC-539099   \n",
       "2                    Mallasilla  Condominio  Mirasol      ENABLED  UC-451025   \n",
       "3                                         COTA COTA       ENABLED  UC-537017   \n",
       "4                                        AUQUISAMAÑA      ENABLED  UC-539274   \n",
       "\n",
       "                             credit_type date_released fecentrega location  \\\n",
       "0   no social con 20% de aporte propio.     22/03/2019  Inmediata   La Paz   \n",
       "1   no social con 20% de aporte propio.     29/03/2019  Inmediata   La Paz   \n",
       "2   no social con 20% de aporte propio.     31/03/2019  Inmediata   La Paz   \n",
       "3   no social con 20% de aporte propio.     19/03/2019  Inmediata   La Paz   \n",
       "4   no social con 20% de aporte propio.     24/03/2019  Inmediata   La Paz   \n",
       "\n",
       "  moneda  region warranty  \n",
       "0    $us  La Paz      NaN  \n",
       "1    $us  La Paz      NaN  \n",
       "2    $us  La Paz      NaN  \n",
       "3    $us  La Paz      NaN  \n",
       "4    $us  La Paz      NaN  "
      ]
     },
     "execution_count": 243,
     "metadata": {},
     "output_type": "execute_result"
    }
   ],
   "source": [
    "neighb= houses_obj.drop(['neighborhood', 'type_offer', 'type'], axis=1)\n",
    "neighb.head()\n",
    "# houses_num = "
   ]
  },
  {
   "cell_type": "code",
   "execution_count": 244,
   "metadata": {},
   "outputs": [
    {
     "data": {
      "text/html": [
       "<div>\n",
       "<style scoped>\n",
       "    .dataframe tbody tr th:only-of-type {\n",
       "        vertical-align: middle;\n",
       "    }\n",
       "\n",
       "    .dataframe tbody tr th {\n",
       "        vertical-align: top;\n",
       "    }\n",
       "\n",
       "    .dataframe thead th {\n",
       "        text-align: right;\n",
       "    }\n",
       "</style>\n",
       "<table border=\"1\" class=\"dataframe\">\n",
       "  <thead>\n",
       "    <tr style=\"text-align: right;\">\n",
       "      <th></th>\n",
       "      <th>amoblado</th>\n",
       "      <th>amount_max_bs</th>\n",
       "      <th>amount_max_usd</th>\n",
       "      <th>bathroom</th>\n",
       "      <th>baulera</th>\n",
       "      <th>bedroom</th>\n",
       "      <th>dimension</th>\n",
       "      <th>elevator</th>\n",
       "      <th>fee</th>\n",
       "      <th>fee_bnb_usd</th>\n",
       "      <th>...</th>\n",
       "      <th>id</th>\n",
       "      <th>id_type</th>\n",
       "      <th>id_type_offer</th>\n",
       "      <th>latitud</th>\n",
       "      <th>longitud</th>\n",
       "      <th>pool</th>\n",
       "      <th>price</th>\n",
       "      <th>status</th>\n",
       "      <th>year_built</th>\n",
       "      <th>neighborhood</th>\n",
       "    </tr>\n",
       "  </thead>\n",
       "  <tbody>\n",
       "    <tr>\n",
       "      <th>0</th>\n",
       "      <td>0</td>\n",
       "      <td>40002059.0</td>\n",
       "      <td>5831204.0</td>\n",
       "      <td>4.0</td>\n",
       "      <td>0</td>\n",
       "      <td>5.0</td>\n",
       "      <td>280</td>\n",
       "      <td>0</td>\n",
       "      <td>1881</td>\n",
       "      <td>NaN</td>\n",
       "      <td>...</td>\n",
       "      <td>537418</td>\n",
       "      <td>1</td>\n",
       "      <td>1</td>\n",
       "      <td>-16.521725</td>\n",
       "      <td>-68.060249</td>\n",
       "      <td>0</td>\n",
       "      <td>340000</td>\n",
       "      <td>2</td>\n",
       "      <td>2009.0</td>\n",
       "      <td>Achumani</td>\n",
       "    </tr>\n",
       "    <tr>\n",
       "      <th>1</th>\n",
       "      <td>0</td>\n",
       "      <td>40002059.0</td>\n",
       "      <td>5831204.0</td>\n",
       "      <td>5.0</td>\n",
       "      <td>0</td>\n",
       "      <td>3.0</td>\n",
       "      <td>554</td>\n",
       "      <td>0</td>\n",
       "      <td>2545</td>\n",
       "      <td>NaN</td>\n",
       "      <td>...</td>\n",
       "      <td>539099</td>\n",
       "      <td>1</td>\n",
       "      <td>1</td>\n",
       "      <td>-16.514791</td>\n",
       "      <td>-68.058067</td>\n",
       "      <td>0</td>\n",
       "      <td>460000</td>\n",
       "      <td>2</td>\n",
       "      <td>2009.0</td>\n",
       "      <td>Achumani</td>\n",
       "    </tr>\n",
       "    <tr>\n",
       "      <th>2</th>\n",
       "      <td>0</td>\n",
       "      <td>40002059.0</td>\n",
       "      <td>5831204.0</td>\n",
       "      <td>6.0</td>\n",
       "      <td>0</td>\n",
       "      <td>5.0</td>\n",
       "      <td>380</td>\n",
       "      <td>0</td>\n",
       "      <td>1815</td>\n",
       "      <td>2269.53</td>\n",
       "      <td>...</td>\n",
       "      <td>451025</td>\n",
       "      <td>1</td>\n",
       "      <td>1</td>\n",
       "      <td>-16.566566</td>\n",
       "      <td>-68.100983</td>\n",
       "      <td>0</td>\n",
       "      <td>328000</td>\n",
       "      <td>2</td>\n",
       "      <td>2015.0</td>\n",
       "      <td>Mallasilla</td>\n",
       "    </tr>\n",
       "    <tr>\n",
       "      <th>3</th>\n",
       "      <td>0</td>\n",
       "      <td>40002059.0</td>\n",
       "      <td>5831204.0</td>\n",
       "      <td>4.0</td>\n",
       "      <td>0</td>\n",
       "      <td>3.0</td>\n",
       "      <td>271</td>\n",
       "      <td>0</td>\n",
       "      <td>1494</td>\n",
       "      <td>NaN</td>\n",
       "      <td>...</td>\n",
       "      <td>537017</td>\n",
       "      <td>1</td>\n",
       "      <td>1</td>\n",
       "      <td>-16.539755</td>\n",
       "      <td>-68.057640</td>\n",
       "      <td>0</td>\n",
       "      <td>270000</td>\n",
       "      <td>2</td>\n",
       "      <td>NaN</td>\n",
       "      <td>Cota Cota</td>\n",
       "    </tr>\n",
       "    <tr>\n",
       "      <th>4</th>\n",
       "      <td>0</td>\n",
       "      <td>40002059.0</td>\n",
       "      <td>5831204.0</td>\n",
       "      <td>6.0</td>\n",
       "      <td>0</td>\n",
       "      <td>4.0</td>\n",
       "      <td>320</td>\n",
       "      <td>0</td>\n",
       "      <td>2324</td>\n",
       "      <td>NaN</td>\n",
       "      <td>...</td>\n",
       "      <td>539274</td>\n",
       "      <td>1</td>\n",
       "      <td>1</td>\n",
       "      <td>-16.547251</td>\n",
       "      <td>-68.077873</td>\n",
       "      <td>0</td>\n",
       "      <td>420000</td>\n",
       "      <td>1</td>\n",
       "      <td>NaN</td>\n",
       "      <td>Auquisamaña</td>\n",
       "    </tr>\n",
       "  </tbody>\n",
       "</table>\n",
       "<p>5 rows × 24 columns</p>\n",
       "</div>"
      ],
      "text/plain": [
       "   amoblado  amount_max_bs  amount_max_usd  bathroom  baulera  bedroom  \\\n",
       "0         0     40002059.0       5831204.0       4.0        0      5.0   \n",
       "1         0     40002059.0       5831204.0       5.0        0      3.0   \n",
       "2         0     40002059.0       5831204.0       6.0        0      5.0   \n",
       "3         0     40002059.0       5831204.0       4.0        0      3.0   \n",
       "4         0     40002059.0       5831204.0       6.0        0      4.0   \n",
       "\n",
       "   dimension  elevator   fee  fee_bnb_usd      ...           id  id_type  \\\n",
       "0        280         0  1881          NaN      ...       537418        1   \n",
       "1        554         0  2545          NaN      ...       539099        1   \n",
       "2        380         0  1815      2269.53      ...       451025        1   \n",
       "3        271         0  1494          NaN      ...       537017        1   \n",
       "4        320         0  2324          NaN      ...       539274        1   \n",
       "\n",
       "   id_type_offer    latitud   longitud  pool   price  status  year_built  \\\n",
       "0              1 -16.521725 -68.060249     0  340000       2      2009.0   \n",
       "1              1 -16.514791 -68.058067     0  460000       2      2009.0   \n",
       "2              1 -16.566566 -68.100983     0  328000       2      2015.0   \n",
       "3              1 -16.539755 -68.057640     0  270000       2         NaN   \n",
       "4              1 -16.547251 -68.077873     0  420000       1         NaN   \n",
       "\n",
       "   neighborhood  \n",
       "0      Achumani  \n",
       "1      Achumani  \n",
       "2    Mallasilla  \n",
       "3     Cota Cota  \n",
       "4   Auquisamaña  \n",
       "\n",
       "[5 rows x 24 columns]"
      ]
     },
     "execution_count": 244,
     "metadata": {},
     "output_type": "execute_result"
    }
   ],
   "source": [
    "z = pd.concat([houses_num,nh], axis=1)\n",
    "z.head()"
   ]
  },
  {
   "cell_type": "code",
   "execution_count": 245,
   "metadata": {},
   "outputs": [],
   "source": [
    "Xnh = pd.DataFrame(z)"
   ]
  },
  {
   "cell_type": "code",
   "execution_count": 246,
   "metadata": {},
   "outputs": [
    {
     "data": {
      "text/html": [
       "<div>\n",
       "<style scoped>\n",
       "    .dataframe tbody tr th:only-of-type {\n",
       "        vertical-align: middle;\n",
       "    }\n",
       "\n",
       "    .dataframe tbody tr th {\n",
       "        vertical-align: top;\n",
       "    }\n",
       "\n",
       "    .dataframe thead th {\n",
       "        text-align: right;\n",
       "    }\n",
       "</style>\n",
       "<table border=\"1\" class=\"dataframe\">\n",
       "  <thead>\n",
       "    <tr style=\"text-align: right;\">\n",
       "      <th></th>\n",
       "      <th>amoblado</th>\n",
       "      <th>amount_max_bs</th>\n",
       "      <th>amount_max_usd</th>\n",
       "      <th>bathroom</th>\n",
       "      <th>baulera</th>\n",
       "      <th>bedroom</th>\n",
       "      <th>dimension</th>\n",
       "      <th>elevator</th>\n",
       "      <th>fee</th>\n",
       "      <th>fee_bnb_usd</th>\n",
       "      <th>...</th>\n",
       "      <th>id</th>\n",
       "      <th>id_type</th>\n",
       "      <th>id_type_offer</th>\n",
       "      <th>latitud</th>\n",
       "      <th>longitud</th>\n",
       "      <th>pool</th>\n",
       "      <th>price</th>\n",
       "      <th>status</th>\n",
       "      <th>year_built</th>\n",
       "      <th>neighborhood</th>\n",
       "    </tr>\n",
       "  </thead>\n",
       "  <tbody>\n",
       "    <tr>\n",
       "      <th>0</th>\n",
       "      <td>0</td>\n",
       "      <td>40002059.0</td>\n",
       "      <td>5831204.0</td>\n",
       "      <td>4.0</td>\n",
       "      <td>0</td>\n",
       "      <td>5.0</td>\n",
       "      <td>280</td>\n",
       "      <td>0</td>\n",
       "      <td>1881</td>\n",
       "      <td>NaN</td>\n",
       "      <td>...</td>\n",
       "      <td>537418</td>\n",
       "      <td>1</td>\n",
       "      <td>1</td>\n",
       "      <td>-16.521725</td>\n",
       "      <td>-68.060249</td>\n",
       "      <td>0</td>\n",
       "      <td>340000</td>\n",
       "      <td>2</td>\n",
       "      <td>2009.0</td>\n",
       "      <td>Achumani</td>\n",
       "    </tr>\n",
       "    <tr>\n",
       "      <th>1</th>\n",
       "      <td>0</td>\n",
       "      <td>40002059.0</td>\n",
       "      <td>5831204.0</td>\n",
       "      <td>5.0</td>\n",
       "      <td>0</td>\n",
       "      <td>3.0</td>\n",
       "      <td>554</td>\n",
       "      <td>0</td>\n",
       "      <td>2545</td>\n",
       "      <td>NaN</td>\n",
       "      <td>...</td>\n",
       "      <td>539099</td>\n",
       "      <td>1</td>\n",
       "      <td>1</td>\n",
       "      <td>-16.514791</td>\n",
       "      <td>-68.058067</td>\n",
       "      <td>0</td>\n",
       "      <td>460000</td>\n",
       "      <td>2</td>\n",
       "      <td>2009.0</td>\n",
       "      <td>Achumani</td>\n",
       "    </tr>\n",
       "    <tr>\n",
       "      <th>2</th>\n",
       "      <td>0</td>\n",
       "      <td>40002059.0</td>\n",
       "      <td>5831204.0</td>\n",
       "      <td>6.0</td>\n",
       "      <td>0</td>\n",
       "      <td>5.0</td>\n",
       "      <td>380</td>\n",
       "      <td>0</td>\n",
       "      <td>1815</td>\n",
       "      <td>2269.53</td>\n",
       "      <td>...</td>\n",
       "      <td>451025</td>\n",
       "      <td>1</td>\n",
       "      <td>1</td>\n",
       "      <td>-16.566566</td>\n",
       "      <td>-68.100983</td>\n",
       "      <td>0</td>\n",
       "      <td>328000</td>\n",
       "      <td>2</td>\n",
       "      <td>2015.0</td>\n",
       "      <td>Mallasilla</td>\n",
       "    </tr>\n",
       "    <tr>\n",
       "      <th>3</th>\n",
       "      <td>0</td>\n",
       "      <td>40002059.0</td>\n",
       "      <td>5831204.0</td>\n",
       "      <td>4.0</td>\n",
       "      <td>0</td>\n",
       "      <td>3.0</td>\n",
       "      <td>271</td>\n",
       "      <td>0</td>\n",
       "      <td>1494</td>\n",
       "      <td>NaN</td>\n",
       "      <td>...</td>\n",
       "      <td>537017</td>\n",
       "      <td>1</td>\n",
       "      <td>1</td>\n",
       "      <td>-16.539755</td>\n",
       "      <td>-68.057640</td>\n",
       "      <td>0</td>\n",
       "      <td>270000</td>\n",
       "      <td>2</td>\n",
       "      <td>NaN</td>\n",
       "      <td>Cota Cota</td>\n",
       "    </tr>\n",
       "    <tr>\n",
       "      <th>4</th>\n",
       "      <td>0</td>\n",
       "      <td>40002059.0</td>\n",
       "      <td>5831204.0</td>\n",
       "      <td>6.0</td>\n",
       "      <td>0</td>\n",
       "      <td>4.0</td>\n",
       "      <td>320</td>\n",
       "      <td>0</td>\n",
       "      <td>2324</td>\n",
       "      <td>NaN</td>\n",
       "      <td>...</td>\n",
       "      <td>539274</td>\n",
       "      <td>1</td>\n",
       "      <td>1</td>\n",
       "      <td>-16.547251</td>\n",
       "      <td>-68.077873</td>\n",
       "      <td>0</td>\n",
       "      <td>420000</td>\n",
       "      <td>1</td>\n",
       "      <td>NaN</td>\n",
       "      <td>Auquisamaña</td>\n",
       "    </tr>\n",
       "  </tbody>\n",
       "</table>\n",
       "<p>5 rows × 24 columns</p>\n",
       "</div>"
      ],
      "text/plain": [
       "   amoblado  amount_max_bs  amount_max_usd  bathroom  baulera  bedroom  \\\n",
       "0         0     40002059.0       5831204.0       4.0        0      5.0   \n",
       "1         0     40002059.0       5831204.0       5.0        0      3.0   \n",
       "2         0     40002059.0       5831204.0       6.0        0      5.0   \n",
       "3         0     40002059.0       5831204.0       4.0        0      3.0   \n",
       "4         0     40002059.0       5831204.0       6.0        0      4.0   \n",
       "\n",
       "   dimension  elevator   fee  fee_bnb_usd      ...           id  id_type  \\\n",
       "0        280         0  1881          NaN      ...       537418        1   \n",
       "1        554         0  2545          NaN      ...       539099        1   \n",
       "2        380         0  1815      2269.53      ...       451025        1   \n",
       "3        271         0  1494          NaN      ...       537017        1   \n",
       "4        320         0  2324          NaN      ...       539274        1   \n",
       "\n",
       "   id_type_offer    latitud   longitud  pool   price  status  year_built  \\\n",
       "0              1 -16.521725 -68.060249     0  340000       2      2009.0   \n",
       "1              1 -16.514791 -68.058067     0  460000       2      2009.0   \n",
       "2              1 -16.566566 -68.100983     0  328000       2      2015.0   \n",
       "3              1 -16.539755 -68.057640     0  270000       2         NaN   \n",
       "4              1 -16.547251 -68.077873     0  420000       1         NaN   \n",
       "\n",
       "   neighborhood  \n",
       "0      Achumani  \n",
       "1      Achumani  \n",
       "2    Mallasilla  \n",
       "3     Cota Cota  \n",
       "4   Auquisamaña  \n",
       "\n",
       "[5 rows x 24 columns]"
      ]
     },
     "execution_count": 246,
     "metadata": {},
     "output_type": "execute_result"
    }
   ],
   "source": [
    "Xnh.head()"
   ]
  },
  {
   "cell_type": "code",
   "execution_count": 247,
   "metadata": {},
   "outputs": [
    {
     "data": {
      "text/plain": [
       "Index(['amoblado', 'amount_max_bs', 'amount_max_usd', 'bathroom', 'baulera',\n",
       "       'bedroom', 'dimension', 'elevator', 'fee', 'fee_bnb_usd', 'fee_bs',\n",
       "       'fee_regular', 'fee_regular_bs', 'garage', 'id', 'id_type',\n",
       "       'id_type_offer', 'latitud', 'longitud', 'pool', 'price', 'status',\n",
       "       'year_built', 'neighborhood'],\n",
       "      dtype='object')"
      ]
     },
     "execution_count": 247,
     "metadata": {},
     "output_type": "execute_result"
    }
   ],
   "source": [
    "Xnh.columns"
   ]
  },
  {
   "cell_type": "code",
   "execution_count": 248,
   "metadata": {},
   "outputs": [
    {
     "data": {
      "text/plain": [
       "0       Achumani\n",
       "1       Achumani\n",
       "2     Mallasilla\n",
       "3      Cota Cota\n",
       "4    Auquisamaña\n",
       "Name: neighborhood, dtype: object"
      ]
     },
     "execution_count": 248,
     "metadata": {},
     "output_type": "execute_result"
    }
   ],
   "source": [
    "Xnh['neighborhood'].head()"
   ]
  },
  {
   "cell_type": "markdown",
   "metadata": {},
   "source": [
    "# ALGUNAS ZONAS DE RIESGOS DE LA CUIDAD DE LA PAZ"
   ]
  },
  {
   "cell_type": "markdown",
   "metadata": {},
   "source": [
    "-----------------\n"
   ]
  },
  {
   "cell_type": "markdown",
   "metadata": {},
   "source": [
    "\"rojo = muy alto\n",
    "naranja = alto\n",
    "amarillo = moderado\n",
    "verde agua = bajo\n",
    "verde = muy bajo\"\t\t\n",
    "rojo\tmuy alto \t5\n",
    "naranja\talto\t4\n",
    "amarillo\tmoderado\t3\n",
    "verde agua\tbajo\t2\n",
    "verde \tmuy bajo\t1\n",
    "\t\t\n",
    "Achumani\t\t0\n",
    "Alto Irpavi\tbajo\t2\n",
    "Alto Obrajes\tmoderado\t3\n",
    "Aranjuez\tmoderado\t3\n",
    "Auquisamaña\tbajo\t2\n",
    "Bella Vista\tmoderado\t3\n",
    "Bolognia\tbajo\t2\n",
    "Calacoto\tbajo\t2\n",
    "Centro\t\t0\n",
    "Chasquipampa\tbajo\t2\n",
    "Cota Cota\tmoderado\t3\n",
    "El Pedregal\talto\t4\n",
    "El Tejar\tmoderado\t3\n",
    "Irpavi\tmoderado\t3\n",
    "Koani\tbajo\t2\n",
    "La Florida\tmoderado\t3\n",
    "Llojeta\talto\t4\n",
    "Los Pinos\tmoderado\t3\n",
    "Mallasa\talto\t4\n",
    "Mallasilla\talto\t4\n",
    "Mecapaca\t\t0\n",
    "Miraflores\tmuy bajo\t1\n",
    "Obrajes\tbajo\t2\n",
    "Ovejuyo\tmoderado\t3\n",
    "Pampahasi\tbajo\t2\n",
    "San Alberto\t\t0\n",
    "San Jorge\tmuy bajo\t1\n",
    "San Miguel\tbajo\t2\n",
    "San Pedro\tmoderado\t3\n",
    "Seguencoma\tbajo\t2\n",
    "Sopocachi\tmoderado\t3\n",
    "Tembladerani\tmoderado\t3\n",
    "Urb. Autopista\tbajo\t2\n",
    "Villa Copacabana\tmuy bajo\t1\n",
    "Villa Fatima\tbajo\t2\n",
    "Villa San Antonio\talto\t4"
   ]
  },
  {
   "cell_type": "markdown",
   "metadata": {},
   "source": [
    "-------------"
   ]
  },
  {
   "cell_type": "markdown",
   "metadata": {},
   "source": [
    "Achumani\n",
    "Alto Irpavi\n",
    "Alto Obrajes\n",
    "Aranjuez\n",
    "Auquisamaña\n",
    "Bella Vista\n",
    "Bolognia\n",
    "Calacoto\n",
    "Centro\n",
    "Chasquipampa\n",
    "Cota Cota\n",
    "El Pedregal\n",
    "El Tejar\n",
    "Irpavi\n",
    "Koani\n",
    "La Florida\n",
    "Llojeta\n",
    "Los Pinos\n",
    "Mallasa\n",
    "Mallasilla\n",
    "Mecapaca\n",
    "Miraflores\n",
    "Obrajes\n",
    "Ovejuyo\n",
    "Pampahasi\n",
    "San Alberto\n",
    "San Jorge\n",
    "San Miguel\n",
    "San Pedro\n",
    "Seguencoma\n",
    "Sopocachi\n",
    "Tembladerani\n",
    "Urb. Autopista\n",
    "Villa Copacabana\n",
    "Villa Fatima\n",
    "Villa San Antonio"
   ]
  },
  {
   "cell_type": "markdown",
   "metadata": {},
   "source": [
    "-----------"
   ]
  },
  {
   "cell_type": "markdown",
   "metadata": {},
   "source": []
  },
  {
   "cell_type": "code",
   "execution_count": 100,
   "metadata": {},
   "outputs": [],
   "source": [
    "diccNeighborhoods = {'Achumani' : 'alto', 'Alto Irpavi' : 'bajo', 'Alto Obrajes': 'moderado',  'Aranjuez': 'moderado',  'Auquisamaña': 'bajo',  'Bella Vista': 'Bella Vista',  'Bolognia': 'bajo', \n",
    "                     'Calacoto': 'bajo',  'Centro': 'bajo', 'Chasquipampa': 'bajo',  'Cota Cota': 'moderado',  'El Pedregal': 'alto', 'El Tejar ':'moderado',  'Irpavi':'moderado',  'Koani':' bajo', \n",
    "                     'La Florida':'moderado',  'Llojeta':'alto',  'Los Pinos':'moderado',  'Mallasa':'alto',  'Mallasilla':'alto',  'Mecapaca':'alto',  'Miraflores':'muy bajo',  'Obrajes':'bajo',\n",
    "                     'Ovejuyo':'moderado',  'Pampahasi':'bajo',  'San Alberto':'alto',  'San Jorge':'muy bajo',  'San Miguel':'bajo', 'San Pedro':'moderado',  'Seguencoma':'bajo',  \n",
    "                     'Sopocachi':'moderado', 'Tembladerani':'moderado', 'Urb. Autopista':'bajo', 'Villa Copacabana':'muy bajo', 'Villa Fatima':'bajo', 'Villa San Antonio':'alto' }"
   ]
  },
  {
   "cell_type": "code",
   "execution_count": 108,
   "metadata": {},
   "outputs": [
    {
     "data": {
      "text/plain": [
       "dict_values(['alto', 'bajo', 'moderado', 'moderado', 'bajo', 'Bella Vista', 'bajo', 'bajo', 'bajo', 'bajo', 'moderado', 'alto', 'moderado', 'moderado', ' bajo', 'moderado', 'alto', 'moderado', 'alto', 'alto', 'alto', 'muy bajo', 'bajo', 'moderado', 'bajo', 'alto', 'muy bajo', 'bajo', 'moderado', 'bajo', 'moderado', 'moderado', 'bajo', 'muy bajo', 'bajo', 'alto'])"
      ]
     },
     "execution_count": 108,
     "metadata": {},
     "output_type": "execute_result"
    }
   ],
   "source": [
    "diccNeighborhoods.values()"
   ]
  },
  {
   "cell_type": "code",
   "execution_count": null,
   "metadata": {},
   "outputs": [],
   "source": []
  },
  {
   "cell_type": "code",
   "execution_count": 141,
   "metadata": {},
   "outputs": [
    {
     "data": {
      "text/plain": [
       "dict_keys(['Achumani', 'Alto Irpavi', 'Alto Obrajes', 'Aranjuez', 'Auquisamaña', 'Bella Vista', 'Bolognia', 'Calacoto', 'Centro', 'Chasquipampa', 'Cota Cota', 'El Pedregal', 'El Tejar ', 'Irpavi', 'Koani', 'La Florida', 'Llojeta', 'Los Pinos', 'Mallasa', 'Mallasilla', 'Mecapaca', 'Miraflores', 'Obrajes', 'Ovejuyo', 'Pampahasi', 'San Alberto', 'San Jorge', 'San Miguel', 'San Pedro', 'Seguencoma', 'Sopocachi', 'Tembladerani', 'Urb. Autopista', 'Villa Copacabana', 'Villa Fatima', 'Villa San Antonio'])"
      ]
     },
     "execution_count": 141,
     "metadata": {},
     "output_type": "execute_result"
    }
   ],
   "source": [
    "diccNeighborhoods.keys()"
   ]
  },
  {
   "cell_type": "code",
   "execution_count": 142,
   "metadata": {},
   "outputs": [
    {
     "data": {
      "text/plain": [
       "0       Achumani\n",
       "1       Achumani\n",
       "2     Mallasilla\n",
       "3      Cota Cota\n",
       "4    Auquisamaña\n",
       "Name: neighborhood, dtype: object"
      ]
     },
     "execution_count": 142,
     "metadata": {},
     "output_type": "execute_result"
    }
   ],
   "source": [
    "Xnh['neighborhood'].head()\n"
   ]
  },
  {
   "cell_type": "code",
   "execution_count": 143,
   "metadata": {},
   "outputs": [
    {
     "data": {
      "text/plain": [
       "0         Achumani\n",
       "1         Achumani\n",
       "2       Mallasilla\n",
       "3        Cota Cota\n",
       "4      Auquisamaña\n",
       "5           Irpavi\n",
       "6           Irpavi\n",
       "7       La Florida\n",
       "8       Mallasilla\n",
       "9         Calacoto\n",
       "10     Auquisamaña\n",
       "11        Achumani\n",
       "12       San Pedro\n",
       "13       Cota Cota\n",
       "14        Achumani\n",
       "15        Achumani\n",
       "16        Achumani\n",
       "17       Río Abajo\n",
       "18        Calacoto\n",
       "19        Achumani\n",
       "20        Achumani\n",
       "21        Calacoto\n",
       "22        Calacoto\n",
       "23        Achumani\n",
       "24       Cota Cota\n",
       "25        Achumani\n",
       "26      Miraflores\n",
       "27      Seguencoma\n",
       "28       Cota Cota\n",
       "29          Irpavi\n",
       "          ...     \n",
       "793       Achumani\n",
       "794      Sopocachi\n",
       "795      Sopocachi\n",
       "796       Achumani\n",
       "797         Irpavi\n",
       "798       Calacoto\n",
       "799        Obrajes\n",
       "800       Achumani\n",
       "801        Obrajes\n",
       "802       Calacoto\n",
       "803       Achumani\n",
       "804       Achumani\n",
       "805         Irpavi\n",
       "806      Sopocachi\n",
       "807     San Miguel\n",
       "808        Obrajes\n",
       "809         Irpavi\n",
       "810         Irpavi\n",
       "811    Bella Vista\n",
       "812       Achumani\n",
       "813       Calacoto\n",
       "814       Calacoto\n",
       "815         Irpavi\n",
       "816       Achumani\n",
       "817     La Florida\n",
       "818       Calacoto\n",
       "819       Aranjuez\n",
       "820       Achumani\n",
       "821     La Florida\n",
       "822      Sopocachi\n",
       "Name: neighborhood, Length: 823, dtype: object"
      ]
     },
     "execution_count": 143,
     "metadata": {},
     "output_type": "execute_result"
    }
   ],
   "source": [
    "# n = Xnh.dtypes == int\n",
    "# n\n",
    "\n",
    "N = Xnh['neighborhood']\n",
    "N\n",
    "\n",
    "# Xnh.loc[:, 'neighborhood']\n",
    "\n",
    "# num.index"
   ]
  },
  {
   "cell_type": "code",
   "execution_count": 209,
   "metadata": {},
   "outputs": [
    {
     "data": {
      "text/html": [
       "<div>\n",
       "<style scoped>\n",
       "    .dataframe tbody tr th:only-of-type {\n",
       "        vertical-align: middle;\n",
       "    }\n",
       "\n",
       "    .dataframe tbody tr th {\n",
       "        vertical-align: top;\n",
       "    }\n",
       "\n",
       "    .dataframe thead th {\n",
       "        text-align: right;\n",
       "    }\n",
       "</style>\n",
       "<table border=\"1\" class=\"dataframe\">\n",
       "  <thead>\n",
       "    <tr style=\"text-align: right;\">\n",
       "      <th></th>\n",
       "      <th>A</th>\n",
       "      <th>B</th>\n",
       "      <th>C</th>\n",
       "    </tr>\n",
       "  </thead>\n",
       "  <tbody>\n",
       "    <tr>\n",
       "      <th>0</th>\n",
       "      <td>2</td>\n",
       "      <td>4</td>\n",
       "      <td>5</td>\n",
       "    </tr>\n",
       "  </tbody>\n",
       "</table>\n",
       "</div>"
      ],
      "text/plain": [
       "   A  B  C\n",
       "0  2  4  5"
      ]
     },
     "execution_count": 209,
     "metadata": {},
     "output_type": "execute_result"
    }
   ],
   "source": [
    "# for i in Xnh['neighborhood']:\n",
    "# #     print (i)\n",
    "#     n = getNeighborhood(i)\n",
    "# #     print(i , n) \n",
    "#     return n\n",
    "\n",
    "# df = pd.DataFrame({'neighborhood': [], 'riesgo':[]})\n",
    "#     print(df)\n",
    "\n",
    "# newDF = pd.DataFrame()\n",
    "\n",
    "# pd.DataFrame([diccNeighborhoods],index=[0], columns=['neighborhood', 'riesgo'])\n",
    "# print(df)\n",
    "\n",
    "# newDF = newDF.append(Xnh, ignore_index = True)\n",
    "# print newDF.head() #again optiona\n",
    "\n",
    "\n",
    "\n",
    "# import pandas as pd\n",
    "# columns=['neighborhood', 'riesgo', 'riesgo']\n",
    "# my_df  = pd.DataFrame(columns = columns)\n",
    "# my_df\n",
    "# # You also might want to pass a dictionary:\n",
    "\n",
    "# my_dic = {'A':2, 'B':4, 'C':5}\n",
    "# my_df.loc[len(my_df)] = my_dic \n",
    "\n",
    "# df = pd.DataFrame(data, index=index, )\n",
    "# df\n",
    "\n",
    "import pandas as pd\n",
    "# ----------------------------------------\n",
    "col_names =  ['A', 'B', 'C']\n",
    "my_df  = pd.DataFrame(columns = col_names)\n",
    "\n",
    "\n",
    "my_df.loc[len(my_df)] = [2, 4, 5]\n",
    "# print(my_df)\n",
    "my_df\n",
    "\n",
    "# -------------------------------------------\n",
    "# my_dic = {'A':2, 'B':4, 'C':5}\n",
    "# my_df.loc[len(my_df)] = my_dic\n",
    "\n",
    "# col_names =  ['A', 'B', 'C']\n",
    "# my_df2  = pd.DataFrame(columns = col_names)\n",
    "# my_df = my_df.append(my_df2)\n"
   ]
  },
  {
   "cell_type": "code",
   "execution_count": 249,
   "metadata": {},
   "outputs": [],
   "source": [
    "def getNeighborhood(nh):\n",
    "    if nh in diccNeighborhoods:\n",
    "        return diccNeighborhoods[nh]\n",
    "        \n",
    "# if 'Alto Irpavi' in diccNeighborhoods:\n",
    "#   print(diccNeighborhoods['Alto Irpavi'])\n",
    "# else:\n",
    "#   print('Esta clave no existe')\n",
    "\n",
    "   \n",
    "    # diccNeighborhoods.keys()\n",
    "\n",
    "# d = {'x': 12, 'y': 7}\n",
    "# if diccNeighborhoods.has_key('Achumani'):\n",
    "#    print (diccNeighborhoods['Achumani'])   # Imprime\n",
    "\n",
    "\n",
    "# df1 = df1.assign(e=e.values)\n",
    "# apply\n",
    "# Xnh = Xnh.assign(if (diccNeighborhoods.keys()).equals(Xnh['neighborhood']) riesgo=diccNeighborhoods.values())\n",
    "# diccNeighborhoods\n",
    "\n",
    "\n",
    "\n",
    "\n",
    "\n",
    "\n",
    "\n",
    "\n",
    "# my_df  = pd.DataFrame(columns =  ['neighborhood', 'riesgo'])\n",
    "# for i in Xnh['neighborhood']:\n",
    "# #     print (i)\n",
    "#     n = getNeighborhood(i)\n",
    "# #     print(i , n) \n",
    "#     my_df.loc[len(my_df)] = [i, n]\n",
    "#     print(my_df)\n",
    "\n",
    "    \n",
    "    \n",
    "    \n",
    "    \n",
    "    \n",
    "    \n",
    "\n",
    "# df = pd.DataFrame({'neighborhood': [], 'riesgo':[]})\n",
    "#     print(df)\n",
    "#     df.assign(neighborhood=i, riesgo=n)\n",
    "#     zz = pd.concat([Xnh,df], axis=1)\n",
    "     \n",
    "# zz = pd.concat([Xnh,df], axis=1)\n",
    "# zz.head(4)\n",
    "    \n",
    "#     pd.DataFrame.from_dict(df, orient='index', columns=['neighborhood', 'riesgo'])\n",
    "\n",
    "# df.head(3)\n",
    "# pd.Series(data).to_frame('ColumnName') is shorter, although this equivalent is perhaps more direct: \n",
    "# pd.DataFrame.from_dict(data, orient='index', columns=['ColumnName'])\n",
    "\n",
    "# Xnh.concat\n",
    "\n",
    "\n",
    "# df2 = pd.DataFrame({'A':[a],'B':[b]})\n",
    "#     df = pd.DataFrame.from_records([{ 'A':a,'B':b }], index='A')\n",
    "# houses[num_cols\n",
    "# creamos otro DATAFRAME CON SLO NUMEROS\n",
    "# houses_num = houses[num_cols]\n",
    "#     if i==n:\n",
    "#         Xnh = Xnh.assign(riesgo=diccNeighborhoods.values())\n",
    "    \n",
    "# Xnh.apply(np.sqrt)\n",
    "\n",
    "# Xnh = Xnh.assign(if (diccNeighborhoods.keys()).equals(Xnh['neighborhood']) riesgo=diccNeighborhoods.values())"
   ]
  },
  {
   "cell_type": "code",
   "execution_count": null,
   "metadata": {},
   "outputs": [],
   "source": [
    " my_df  = pd.DataFrame(columns =  ['', ''])\n",
    "#     my_df.loc[len(my_df)] = [i, n]\n",
    "#     # print(my_df)\n",
    "#     print(my_df)\n",
    "#     print(i , n) \n",
    "#     return n"
   ]
  },
  {
   "cell_type": "code",
   "execution_count": 181,
   "metadata": {},
   "outputs": [
    {
     "data": {
      "text/html": [
       "<div>\n",
       "<style scoped>\n",
       "    .dataframe tbody tr th:only-of-type {\n",
       "        vertical-align: middle;\n",
       "    }\n",
       "\n",
       "    .dataframe tbody tr th {\n",
       "        vertical-align: top;\n",
       "    }\n",
       "\n",
       "    .dataframe thead th {\n",
       "        text-align: right;\n",
       "    }\n",
       "</style>\n",
       "<table border=\"1\" class=\"dataframe\">\n",
       "  <thead>\n",
       "    <tr style=\"text-align: right;\">\n",
       "      <th></th>\n",
       "      <th>amoblado</th>\n",
       "      <th>amount_max_bs</th>\n",
       "      <th>amount_max_usd</th>\n",
       "      <th>bathroom</th>\n",
       "      <th>baulera</th>\n",
       "      <th>bedroom</th>\n",
       "      <th>dimension</th>\n",
       "      <th>elevator</th>\n",
       "      <th>fee</th>\n",
       "      <th>fee_bnb_usd</th>\n",
       "      <th>...</th>\n",
       "      <th>id_type_offer</th>\n",
       "      <th>latitud</th>\n",
       "      <th>longitud</th>\n",
       "      <th>pool</th>\n",
       "      <th>price</th>\n",
       "      <th>status</th>\n",
       "      <th>year_built</th>\n",
       "      <th>neighborhood</th>\n",
       "      <th>neighborhood</th>\n",
       "      <th>riesgo</th>\n",
       "    </tr>\n",
       "  </thead>\n",
       "  <tbody>\n",
       "    <tr>\n",
       "      <th>0</th>\n",
       "      <td>0</td>\n",
       "      <td>40002059.0</td>\n",
       "      <td>5831204.0</td>\n",
       "      <td>4.0</td>\n",
       "      <td>0</td>\n",
       "      <td>5.0</td>\n",
       "      <td>280</td>\n",
       "      <td>0</td>\n",
       "      <td>1881</td>\n",
       "      <td>NaN</td>\n",
       "      <td>...</td>\n",
       "      <td>1</td>\n",
       "      <td>-16.521725</td>\n",
       "      <td>-68.060249</td>\n",
       "      <td>0</td>\n",
       "      <td>340000</td>\n",
       "      <td>2</td>\n",
       "      <td>2009.0</td>\n",
       "      <td>Achumani</td>\n",
       "      <td>NaN</td>\n",
       "      <td>NaN</td>\n",
       "    </tr>\n",
       "    <tr>\n",
       "      <th>1</th>\n",
       "      <td>0</td>\n",
       "      <td>40002059.0</td>\n",
       "      <td>5831204.0</td>\n",
       "      <td>5.0</td>\n",
       "      <td>0</td>\n",
       "      <td>3.0</td>\n",
       "      <td>554</td>\n",
       "      <td>0</td>\n",
       "      <td>2545</td>\n",
       "      <td>NaN</td>\n",
       "      <td>...</td>\n",
       "      <td>1</td>\n",
       "      <td>-16.514791</td>\n",
       "      <td>-68.058067</td>\n",
       "      <td>0</td>\n",
       "      <td>460000</td>\n",
       "      <td>2</td>\n",
       "      <td>2009.0</td>\n",
       "      <td>Achumani</td>\n",
       "      <td>NaN</td>\n",
       "      <td>NaN</td>\n",
       "    </tr>\n",
       "    <tr>\n",
       "      <th>2</th>\n",
       "      <td>0</td>\n",
       "      <td>40002059.0</td>\n",
       "      <td>5831204.0</td>\n",
       "      <td>6.0</td>\n",
       "      <td>0</td>\n",
       "      <td>5.0</td>\n",
       "      <td>380</td>\n",
       "      <td>0</td>\n",
       "      <td>1815</td>\n",
       "      <td>2269.53</td>\n",
       "      <td>...</td>\n",
       "      <td>1</td>\n",
       "      <td>-16.566566</td>\n",
       "      <td>-68.100983</td>\n",
       "      <td>0</td>\n",
       "      <td>328000</td>\n",
       "      <td>2</td>\n",
       "      <td>2015.0</td>\n",
       "      <td>Mallasilla</td>\n",
       "      <td>NaN</td>\n",
       "      <td>NaN</td>\n",
       "    </tr>\n",
       "    <tr>\n",
       "      <th>3</th>\n",
       "      <td>0</td>\n",
       "      <td>40002059.0</td>\n",
       "      <td>5831204.0</td>\n",
       "      <td>4.0</td>\n",
       "      <td>0</td>\n",
       "      <td>3.0</td>\n",
       "      <td>271</td>\n",
       "      <td>0</td>\n",
       "      <td>1494</td>\n",
       "      <td>NaN</td>\n",
       "      <td>...</td>\n",
       "      <td>1</td>\n",
       "      <td>-16.539755</td>\n",
       "      <td>-68.057640</td>\n",
       "      <td>0</td>\n",
       "      <td>270000</td>\n",
       "      <td>2</td>\n",
       "      <td>NaN</td>\n",
       "      <td>Cota Cota</td>\n",
       "      <td>NaN</td>\n",
       "      <td>NaN</td>\n",
       "    </tr>\n",
       "    <tr>\n",
       "      <th>4</th>\n",
       "      <td>0</td>\n",
       "      <td>40002059.0</td>\n",
       "      <td>5831204.0</td>\n",
       "      <td>6.0</td>\n",
       "      <td>0</td>\n",
       "      <td>4.0</td>\n",
       "      <td>320</td>\n",
       "      <td>0</td>\n",
       "      <td>2324</td>\n",
       "      <td>NaN</td>\n",
       "      <td>...</td>\n",
       "      <td>1</td>\n",
       "      <td>-16.547251</td>\n",
       "      <td>-68.077873</td>\n",
       "      <td>0</td>\n",
       "      <td>420000</td>\n",
       "      <td>1</td>\n",
       "      <td>NaN</td>\n",
       "      <td>Auquisamaña</td>\n",
       "      <td>NaN</td>\n",
       "      <td>NaN</td>\n",
       "    </tr>\n",
       "  </tbody>\n",
       "</table>\n",
       "<p>5 rows × 26 columns</p>\n",
       "</div>"
      ],
      "text/plain": [
       "   amoblado  amount_max_bs  amount_max_usd  bathroom  baulera  bedroom  \\\n",
       "0         0     40002059.0       5831204.0       4.0        0      5.0   \n",
       "1         0     40002059.0       5831204.0       5.0        0      3.0   \n",
       "2         0     40002059.0       5831204.0       6.0        0      5.0   \n",
       "3         0     40002059.0       5831204.0       4.0        0      3.0   \n",
       "4         0     40002059.0       5831204.0       6.0        0      4.0   \n",
       "\n",
       "   dimension  elevator   fee  fee_bnb_usd   ...    id_type_offer    latitud  \\\n",
       "0        280         0  1881          NaN   ...                1 -16.521725   \n",
       "1        554         0  2545          NaN   ...                1 -16.514791   \n",
       "2        380         0  1815      2269.53   ...                1 -16.566566   \n",
       "3        271         0  1494          NaN   ...                1 -16.539755   \n",
       "4        320         0  2324          NaN   ...                1 -16.547251   \n",
       "\n",
       "    longitud  pool   price  status  year_built  neighborhood  neighborhood  \\\n",
       "0 -68.060249     0  340000       2      2009.0      Achumani           NaN   \n",
       "1 -68.058067     0  460000       2      2009.0      Achumani           NaN   \n",
       "2 -68.100983     0  328000       2      2015.0    Mallasilla           NaN   \n",
       "3 -68.057640     0  270000       2         NaN     Cota Cota           NaN   \n",
       "4 -68.077873     0  420000       1         NaN   Auquisamaña           NaN   \n",
       "\n",
       "   riesgo  \n",
       "0     NaN  \n",
       "1     NaN  \n",
       "2     NaN  \n",
       "3     NaN  \n",
       "4     NaN  \n",
       "\n",
       "[5 rows x 26 columns]"
      ]
     },
     "execution_count": 181,
     "metadata": {},
     "output_type": "execute_result"
    }
   ],
   "source": [
    "zz.head()"
   ]
  },
  {
   "cell_type": "code",
   "execution_count": 179,
   "metadata": {},
   "outputs": [
    {
     "data": {
      "text/html": [
       "<div>\n",
       "<style scoped>\n",
       "    .dataframe tbody tr th:only-of-type {\n",
       "        vertical-align: middle;\n",
       "    }\n",
       "\n",
       "    .dataframe tbody tr th {\n",
       "        vertical-align: top;\n",
       "    }\n",
       "\n",
       "    .dataframe thead th {\n",
       "        text-align: right;\n",
       "    }\n",
       "</style>\n",
       "<table border=\"1\" class=\"dataframe\">\n",
       "  <thead>\n",
       "    <tr style=\"text-align: right;\">\n",
       "      <th></th>\n",
       "      <th>amoblado</th>\n",
       "      <th>amount_max_bs</th>\n",
       "      <th>amount_max_usd</th>\n",
       "      <th>bathroom</th>\n",
       "      <th>baulera</th>\n",
       "      <th>bedroom</th>\n",
       "      <th>dimension</th>\n",
       "      <th>elevator</th>\n",
       "      <th>fee</th>\n",
       "      <th>fee_bnb_usd</th>\n",
       "      <th>...</th>\n",
       "      <th>id_type_offer</th>\n",
       "      <th>latitud</th>\n",
       "      <th>longitud</th>\n",
       "      <th>pool</th>\n",
       "      <th>price</th>\n",
       "      <th>status</th>\n",
       "      <th>year_built</th>\n",
       "      <th>neighborhood</th>\n",
       "      <th>neighborhood</th>\n",
       "      <th>riesgo</th>\n",
       "    </tr>\n",
       "  </thead>\n",
       "  <tbody>\n",
       "    <tr>\n",
       "      <th>0</th>\n",
       "      <td>0</td>\n",
       "      <td>40002059.0</td>\n",
       "      <td>5831204.0</td>\n",
       "      <td>4.0</td>\n",
       "      <td>0</td>\n",
       "      <td>5.0</td>\n",
       "      <td>280</td>\n",
       "      <td>0</td>\n",
       "      <td>1881</td>\n",
       "      <td>NaN</td>\n",
       "      <td>...</td>\n",
       "      <td>1</td>\n",
       "      <td>-16.521725</td>\n",
       "      <td>-68.060249</td>\n",
       "      <td>0</td>\n",
       "      <td>340000</td>\n",
       "      <td>2</td>\n",
       "      <td>2009.0</td>\n",
       "      <td>Achumani</td>\n",
       "      <td>NaN</td>\n",
       "      <td>NaN</td>\n",
       "    </tr>\n",
       "    <tr>\n",
       "      <th>1</th>\n",
       "      <td>0</td>\n",
       "      <td>40002059.0</td>\n",
       "      <td>5831204.0</td>\n",
       "      <td>5.0</td>\n",
       "      <td>0</td>\n",
       "      <td>3.0</td>\n",
       "      <td>554</td>\n",
       "      <td>0</td>\n",
       "      <td>2545</td>\n",
       "      <td>NaN</td>\n",
       "      <td>...</td>\n",
       "      <td>1</td>\n",
       "      <td>-16.514791</td>\n",
       "      <td>-68.058067</td>\n",
       "      <td>0</td>\n",
       "      <td>460000</td>\n",
       "      <td>2</td>\n",
       "      <td>2009.0</td>\n",
       "      <td>Achumani</td>\n",
       "      <td>NaN</td>\n",
       "      <td>NaN</td>\n",
       "    </tr>\n",
       "    <tr>\n",
       "      <th>2</th>\n",
       "      <td>0</td>\n",
       "      <td>40002059.0</td>\n",
       "      <td>5831204.0</td>\n",
       "      <td>6.0</td>\n",
       "      <td>0</td>\n",
       "      <td>5.0</td>\n",
       "      <td>380</td>\n",
       "      <td>0</td>\n",
       "      <td>1815</td>\n",
       "      <td>2269.53</td>\n",
       "      <td>...</td>\n",
       "      <td>1</td>\n",
       "      <td>-16.566566</td>\n",
       "      <td>-68.100983</td>\n",
       "      <td>0</td>\n",
       "      <td>328000</td>\n",
       "      <td>2</td>\n",
       "      <td>2015.0</td>\n",
       "      <td>Mallasilla</td>\n",
       "      <td>NaN</td>\n",
       "      <td>NaN</td>\n",
       "    </tr>\n",
       "    <tr>\n",
       "      <th>3</th>\n",
       "      <td>0</td>\n",
       "      <td>40002059.0</td>\n",
       "      <td>5831204.0</td>\n",
       "      <td>4.0</td>\n",
       "      <td>0</td>\n",
       "      <td>3.0</td>\n",
       "      <td>271</td>\n",
       "      <td>0</td>\n",
       "      <td>1494</td>\n",
       "      <td>NaN</td>\n",
       "      <td>...</td>\n",
       "      <td>1</td>\n",
       "      <td>-16.539755</td>\n",
       "      <td>-68.057640</td>\n",
       "      <td>0</td>\n",
       "      <td>270000</td>\n",
       "      <td>2</td>\n",
       "      <td>NaN</td>\n",
       "      <td>Cota Cota</td>\n",
       "      <td>NaN</td>\n",
       "      <td>NaN</td>\n",
       "    </tr>\n",
       "  </tbody>\n",
       "</table>\n",
       "<p>4 rows × 26 columns</p>\n",
       "</div>"
      ],
      "text/plain": [
       "   amoblado  amount_max_bs  amount_max_usd  bathroom  baulera  bedroom  \\\n",
       "0         0     40002059.0       5831204.0       4.0        0      5.0   \n",
       "1         0     40002059.0       5831204.0       5.0        0      3.0   \n",
       "2         0     40002059.0       5831204.0       6.0        0      5.0   \n",
       "3         0     40002059.0       5831204.0       4.0        0      3.0   \n",
       "\n",
       "   dimension  elevator   fee  fee_bnb_usd   ...    id_type_offer    latitud  \\\n",
       "0        280         0  1881          NaN   ...                1 -16.521725   \n",
       "1        554         0  2545          NaN   ...                1 -16.514791   \n",
       "2        380         0  1815      2269.53   ...                1 -16.566566   \n",
       "3        271         0  1494          NaN   ...                1 -16.539755   \n",
       "\n",
       "    longitud  pool   price  status  year_built  neighborhood  neighborhood  \\\n",
       "0 -68.060249     0  340000       2      2009.0      Achumani           NaN   \n",
       "1 -68.058067     0  460000       2      2009.0      Achumani           NaN   \n",
       "2 -68.100983     0  328000       2      2015.0    Mallasilla           NaN   \n",
       "3 -68.057640     0  270000       2         NaN     Cota Cota           NaN   \n",
       "\n",
       "   riesgo  \n",
       "0     NaN  \n",
       "1     NaN  \n",
       "2     NaN  \n",
       "3     NaN  \n",
       "\n",
       "[4 rows x 26 columns]"
      ]
     },
     "execution_count": 179,
     "metadata": {},
     "output_type": "execute_result"
    }
   ],
   "source": [
    "zz = pd.concat([Xnh,df], axis=1)\n",
    "zz.head(4)"
   ]
  },
  {
   "cell_type": "code",
   "execution_count": 174,
   "metadata": {},
   "outputs": [
    {
     "name": "stdout",
     "output_type": "stream",
     "text": [
      "alto\n"
     ]
    }
   ],
   "source": [
    "def getNeighborhood(nh):\n",
    "    if nh in diccNeighborhoods:\n",
    "        return diccNeighborhoods[nh]\n",
    "print(getNeighborhood('Achumani'))"
   ]
  },
  {
   "cell_type": "code",
   "execution_count": null,
   "metadata": {},
   "outputs": [],
   "source": []
  },
  {
   "cell_type": "code",
   "execution_count": 94,
   "metadata": {},
   "outputs": [],
   "source": [
    "#QUERIA AGREGAR DOS COLUMNAS MAS\n",
    "# z = pd.concat([houses_num,to], axis=1)\n",
    "# z.head()\n",
    "# z = pd.concat([houses_num,ty], axis=1)\n",
    "# z.head()"
   ]
  },
  {
   "cell_type": "code",
   "execution_count": 93,
   "metadata": {},
   "outputs": [],
   "source": []
  },
  {
   "cell_type": "code",
   "execution_count": 79,
   "metadata": {},
   "outputs": [],
   "source": []
  },
  {
   "cell_type": "code",
   "execution_count": null,
   "metadata": {},
   "outputs": [],
   "source": []
  },
  {
   "cell_type": "code",
   "execution_count": null,
   "metadata": {},
   "outputs": [],
   "source": []
  },
  {
   "cell_type": "markdown",
   "metadata": {},
   "source": [
    "## **PLOTS**"
   ]
  },
  {
   "cell_type": "code",
   "execution_count": 60,
   "metadata": {},
   "outputs": [
    {
     "data": {
      "text/plain": [
       "<matplotlib.axes._subplots.AxesSubplot at 0x7f5b55a276a0>"
      ]
     },
     "execution_count": 60,
     "metadata": {},
     "output_type": "execute_result"
    },
    {
     "data": {
      "image/png": "[encoded data removed]",
      "text/plain": [
       "<Figure size 432x288 with 1 Axes>"
      ]
     },
     "metadata": {
      "needs_background": "light"
     },
     "output_type": "display_data"
    }
   ],
   "source": [
    "# propio de la API de PANDAS\n",
    "houses_num['year_built'].hist()"
   ]
  },
  {
   "cell_type": "code",
   "execution_count": 61,
   "metadata": {},
   "outputs": [
    {
     "data": {
      "text/plain": [
       "<matplotlib.axes._subplots.AxesSubplot at 0x7f5b556a49e8>"
      ]
     },
     "execution_count": 61,
     "metadata": {},
     "output_type": "execute_result"
    },
    {
     "data": {
      "image/png": "[encoded data removed]",
      "text/plain": [
       "<Figure size 432x288 with 1 Axes>"
      ]
     },
     "metadata": {
      "needs_background": "light"
     },
     "output_type": "display_data"
    }
   ],
   "source": [
    "# propio de la API de PANDAS\n",
    "houses_num['bathroom'].hist()"
   ]
  },
  {
   "cell_type": "code",
   "execution_count": 62,
   "metadata": {},
   "outputs": [
    {
     "data": {
      "text/plain": [
       "<matplotlib.axes._subplots.AxesSubplot at 0x7f5b55631198>"
      ]
     },
     "execution_count": 62,
     "metadata": {},
     "output_type": "execute_result"
    },
    {
     "data": {
      "image/png": "[encoded data removed]",
      "text/plain": [
       "<Figure size 432x288 with 1 Axes>"
      ]
     },
     "metadata": {
      "needs_background": "light"
     },
     "output_type": "display_data"
    }
   ],
   "source": [
    "houses_num['baulera'].hist()"
   ]
  },
  {
   "cell_type": "code",
   "execution_count": 63,
   "metadata": {},
   "outputs": [
    {
     "data": {
      "text/plain": [
       "<matplotlib.axes._subplots.AxesSubplot at 0x7f5b555ac1d0>"
      ]
     },
     "execution_count": 63,
     "metadata": {},
     "output_type": "execute_result"
    },
    {
     "data": {
      "image/png": "[encoded data removed]",
      "text/plain": [
       "<Figure size 432x288 with 1 Axes>"
      ]
     },
     "metadata": {
      "needs_background": "light"
     },
     "output_type": "display_data"
    }
   ],
   "source": [
    "houses_num['garage'].hist()"
   ]
  },
  {
   "cell_type": "code",
   "execution_count": 64,
   "metadata": {},
   "outputs": [
    {
     "data": {
      "text/plain": [
       "<matplotlib.axes._subplots.AxesSubplot at 0x7f5b55600a58>"
      ]
     },
     "execution_count": 64,
     "metadata": {},
     "output_type": "execute_result"
    },
    {
     "data": {
      "image/png": "[encoded data removed]",
      "text/plain": [
       "<Figure size 432x288 with 1 Axes>"
      ]
     },
     "metadata": {
      "needs_background": "light"
     },
     "output_type": "display_data"
    }
   ],
   "source": [
    "houses_num['dimension'].hist()"
   ]
  },
  {
   "cell_type": "code",
   "execution_count": 65,
   "metadata": {},
   "outputs": [
    {
     "data": {
      "text/plain": [
       "<matplotlib.axes._subplots.AxesSubplot at 0x7f5b554f96d8>"
      ]
     },
     "execution_count": 65,
     "metadata": {},
     "output_type": "execute_result"
    },
    {
     "data": {
      "image/png": "[encoded data removed]",
      "text/plain": [
       "<Figure size 432x288 with 1 Axes>"
      ]
     },
     "metadata": {
      "needs_background": "light"
     },
     "output_type": "display_data"
    }
   ],
   "source": [
    "houses_num['bedroom'].hist()"
   ]
  },
  {
   "cell_type": "code",
   "execution_count": 66,
   "metadata": {},
   "outputs": [
    {
     "data": {
      "text/plain": [
       "<matplotlib.axes._subplots.AxesSubplot at 0x7f5b5546ea20>"
      ]
     },
     "execution_count": 66,
     "metadata": {},
     "output_type": "execute_result"
    },
    {
     "data": {
      "image/png": "[encoded data removed]",
      "text/plain": [
       "<Figure size 432x288 with 1 Axes>"
      ]
     },
     "metadata": {
      "needs_background": "light"
     },
     "output_type": "display_data"
    }
   ],
   "source": [
    "houses_num['amoblado'].hist()"
   ]
  },
  {
   "cell_type": "code",
   "execution_count": 67,
   "metadata": {},
   "outputs": [
    {
     "data": {
      "text/plain": [
       "<matplotlib.axes._subplots.AxesSubplot at 0x7f5b5543ac88>"
      ]
     },
     "execution_count": 67,
     "metadata": {},
     "output_type": "execute_result"
    },
    {
     "data": {
      "image/png": "[encoded data removed]",
      "text/plain": [
       "<Figure size 432x288 with 1 Axes>"
      ]
     },
     "metadata": {
      "needs_background": "light"
     },
     "output_type": "display_data"
    }
   ],
   "source": [
    "houses_num['status'].hist()"
   ]
  },
  {
   "cell_type": "code",
   "execution_count": 68,
   "metadata": {},
   "outputs": [
    {
     "data": {
      "text/plain": [
       "<matplotlib.axes._subplots.AxesSubplot at 0x7f5b5546ee48>"
      ]
     },
     "execution_count": 68,
     "metadata": {},
     "output_type": "execute_result"
    },
    {
     "data": {
      "image/png": "[encoded data removed]",
      "text/plain": [
       "<Figure size 432x288 with 1 Axes>"
      ]
     },
     "metadata": {
      "needs_background": "light"
     },
     "output_type": "display_data"
    }
   ],
   "source": [
    "houses_num['latitud'].hist()"
   ]
  },
  {
   "cell_type": "code",
   "execution_count": 69,
   "metadata": {},
   "outputs": [
    {
     "data": {
      "text/plain": [
       "<matplotlib.axes._subplots.AxesSubplot at 0x7f5b553334a8>"
      ]
     },
     "execution_count": 69,
     "metadata": {},
     "output_type": "execute_result"
    },
    {
     "data": {
      "image/png": "[encoded data removed]",
      "text/plain": [
       "<Figure size 432x288 with 1 Axes>"
      ]
     },
     "metadata": {
      "needs_background": "light"
     },
     "output_type": "display_data"
    }
   ],
   "source": [
    "houses_num['longitud'].hist()"
   ]
  },
  {
   "cell_type": "code",
   "execution_count": 70,
   "metadata": {},
   "outputs": [
    {
     "data": {
      "text/plain": [
       "<matplotlib.axes._subplots.AxesSubplot at 0x7f5b552572e8>"
      ]
     },
     "execution_count": 70,
     "metadata": {},
     "output_type": "execute_result"
    },
    {
     "data": {
      "image/png": "[encoded data removed]",
      "text/plain": [
       "<Figure size 432x288 with 1 Axes>"
      ]
     },
     "metadata": {
      "needs_background": "light"
     },
     "output_type": "display_data"
    }
   ],
   "source": [
    "houses_num['price'].hist()"
   ]
  },
  {
   "cell_type": "code",
   "execution_count": 71,
   "metadata": {},
   "outputs": [],
   "source": [
    "# houses_num['price']"
   ]
  },
  {
   "cell_type": "code",
   "execution_count": 72,
   "metadata": {},
   "outputs": [
    {
     "data": {
      "text/plain": [
       "Index(['amoblado', 'amount_max_bs', 'amount_max_usd', 'bathroom', 'baulera',\n",
       "       'bedroom', 'dimension', 'elevator', 'fee', 'fee_bnb_usd', 'fee_bs',\n",
       "       'fee_regular', 'fee_regular_bs', 'garage', 'id', 'id_type',\n",
       "       'id_type_offer', 'latitud', 'longitud', 'pool', 'price', 'status',\n",
       "       'year_built'],\n",
       "      dtype='object')"
      ]
     },
     "execution_count": 72,
     "metadata": {},
     "output_type": "execute_result"
    }
   ],
   "source": [
    "houses_num.columns"
   ]
  },
  {
   "cell_type": "markdown",
   "metadata": {},
   "source": [
    "## **verificando que PRICE no tenga nulos**"
   ]
  },
  {
   "cell_type": "code",
   "execution_count": 73,
   "metadata": {},
   "outputs": [
    {
     "data": {
      "text/plain": [
       "True    823\n",
       "Name: price, dtype: int64"
      ]
     },
     "execution_count": 73,
     "metadata": {},
     "output_type": "execute_result"
    }
   ],
   "source": [
    "((houses_num !=0) & houses_num.notnull()).price.value_counts()"
   ]
  },
  {
   "cell_type": "markdown",
   "metadata": {},
   "source": [
    "### **PREPROCESSING OF SCIKITLEARN (IMPUTER)**"
   ]
  },
  {
   "cell_type": "code",
   "execution_count": 74,
   "metadata": {},
   "outputs": [],
   "source": [
    "# from sklearn.preprocessing import Imputer\n",
    "# from sklearn.impute import SimpleImputer\n",
    "# imputer = Imputer(missing_values = np.nan, strategy = 'mean', axis = 1)\n"
   ]
  },
  {
   "cell_type": "code",
   "execution_count": 75,
   "metadata": {},
   "outputs": [],
   "source": [
    "# REEMPLAZANDO CON IMPUTER DE SCIKIT-LEARN\n",
    "# houses_v2 no existe en este caso ----AUN---\n",
    "# values = imputer.fit_transform(houses_v2)\n",
    "# values # este nos da un array de NumPy\n",
    "# houses_v2.values"
   ]
  },
  {
   "cell_type": "code",
   "execution_count": 76,
   "metadata": {},
   "outputs": [],
   "source": [
    "# X.columns = movies_v2.columns\n",
    "X = pd.DataFrame(houses_num)"
   ]
  },
  {
   "cell_type": "code",
   "execution_count": 77,
   "metadata": {},
   "outputs": [
    {
     "data": {
      "text/html": [
       "<div>\n",
       "<style scoped>\n",
       "    .dataframe tbody tr th:only-of-type {\n",
       "        vertical-align: middle;\n",
       "    }\n",
       "\n",
       "    .dataframe tbody tr th {\n",
       "        vertical-align: top;\n",
       "    }\n",
       "\n",
       "    .dataframe thead th {\n",
       "        text-align: right;\n",
       "    }\n",
       "</style>\n",
       "<table border=\"1\" class=\"dataframe\">\n",
       "  <thead>\n",
       "    <tr style=\"text-align: right;\">\n",
       "      <th></th>\n",
       "      <th>amoblado</th>\n",
       "      <th>amount_max_bs</th>\n",
       "      <th>amount_max_usd</th>\n",
       "      <th>bathroom</th>\n",
       "      <th>baulera</th>\n",
       "      <th>bedroom</th>\n",
       "      <th>dimension</th>\n",
       "      <th>elevator</th>\n",
       "      <th>fee</th>\n",
       "      <th>fee_bnb_usd</th>\n",
       "      <th>...</th>\n",
       "      <th>garage</th>\n",
       "      <th>id</th>\n",
       "      <th>id_type</th>\n",
       "      <th>id_type_offer</th>\n",
       "      <th>latitud</th>\n",
       "      <th>longitud</th>\n",
       "      <th>pool</th>\n",
       "      <th>price</th>\n",
       "      <th>status</th>\n",
       "      <th>year_built</th>\n",
       "    </tr>\n",
       "  </thead>\n",
       "  <tbody>\n",
       "    <tr>\n",
       "      <th>0</th>\n",
       "      <td>0</td>\n",
       "      <td>40002059.0</td>\n",
       "      <td>5831204.0</td>\n",
       "      <td>4.0</td>\n",
       "      <td>0</td>\n",
       "      <td>5.0</td>\n",
       "      <td>280</td>\n",
       "      <td>0</td>\n",
       "      <td>1881</td>\n",
       "      <td>NaN</td>\n",
       "      <td>...</td>\n",
       "      <td>4</td>\n",
       "      <td>537418</td>\n",
       "      <td>1</td>\n",
       "      <td>1</td>\n",
       "      <td>-16.521725</td>\n",
       "      <td>-68.060249</td>\n",
       "      <td>0</td>\n",
       "      <td>340000</td>\n",
       "      <td>2</td>\n",
       "      <td>2009.0</td>\n",
       "    </tr>\n",
       "    <tr>\n",
       "      <th>1</th>\n",
       "      <td>0</td>\n",
       "      <td>40002059.0</td>\n",
       "      <td>5831204.0</td>\n",
       "      <td>5.0</td>\n",
       "      <td>0</td>\n",
       "      <td>3.0</td>\n",
       "      <td>554</td>\n",
       "      <td>0</td>\n",
       "      <td>2545</td>\n",
       "      <td>NaN</td>\n",
       "      <td>...</td>\n",
       "      <td>5</td>\n",
       "      <td>539099</td>\n",
       "      <td>1</td>\n",
       "      <td>1</td>\n",
       "      <td>-16.514791</td>\n",
       "      <td>-68.058067</td>\n",
       "      <td>0</td>\n",
       "      <td>460000</td>\n",
       "      <td>2</td>\n",
       "      <td>2009.0</td>\n",
       "    </tr>\n",
       "    <tr>\n",
       "      <th>2</th>\n",
       "      <td>0</td>\n",
       "      <td>40002059.0</td>\n",
       "      <td>5831204.0</td>\n",
       "      <td>6.0</td>\n",
       "      <td>0</td>\n",
       "      <td>5.0</td>\n",
       "      <td>380</td>\n",
       "      <td>0</td>\n",
       "      <td>1815</td>\n",
       "      <td>2269.53</td>\n",
       "      <td>...</td>\n",
       "      <td>4</td>\n",
       "      <td>451025</td>\n",
       "      <td>1</td>\n",
       "      <td>1</td>\n",
       "      <td>-16.566566</td>\n",
       "      <td>-68.100983</td>\n",
       "      <td>0</td>\n",
       "      <td>328000</td>\n",
       "      <td>2</td>\n",
       "      <td>2015.0</td>\n",
       "    </tr>\n",
       "    <tr>\n",
       "      <th>3</th>\n",
       "      <td>0</td>\n",
       "      <td>40002059.0</td>\n",
       "      <td>5831204.0</td>\n",
       "      <td>4.0</td>\n",
       "      <td>0</td>\n",
       "      <td>3.0</td>\n",
       "      <td>271</td>\n",
       "      <td>0</td>\n",
       "      <td>1494</td>\n",
       "      <td>NaN</td>\n",
       "      <td>...</td>\n",
       "      <td>2</td>\n",
       "      <td>537017</td>\n",
       "      <td>1</td>\n",
       "      <td>1</td>\n",
       "      <td>-16.539755</td>\n",
       "      <td>-68.057640</td>\n",
       "      <td>0</td>\n",
       "      <td>270000</td>\n",
       "      <td>2</td>\n",
       "      <td>NaN</td>\n",
       "    </tr>\n",
       "    <tr>\n",
       "      <th>4</th>\n",
       "      <td>0</td>\n",
       "      <td>40002059.0</td>\n",
       "      <td>5831204.0</td>\n",
       "      <td>6.0</td>\n",
       "      <td>0</td>\n",
       "      <td>4.0</td>\n",
       "      <td>320</td>\n",
       "      <td>0</td>\n",
       "      <td>2324</td>\n",
       "      <td>NaN</td>\n",
       "      <td>...</td>\n",
       "      <td>4</td>\n",
       "      <td>539274</td>\n",
       "      <td>1</td>\n",
       "      <td>1</td>\n",
       "      <td>-16.547251</td>\n",
       "      <td>-68.077873</td>\n",
       "      <td>0</td>\n",
       "      <td>420000</td>\n",
       "      <td>1</td>\n",
       "      <td>NaN</td>\n",
       "    </tr>\n",
       "  </tbody>\n",
       "</table>\n",
       "<p>5 rows × 23 columns</p>\n",
       "</div>"
      ],
      "text/plain": [
       "   amoblado  amount_max_bs  amount_max_usd  bathroom  baulera  bedroom  \\\n",
       "0         0     40002059.0       5831204.0       4.0        0      5.0   \n",
       "1         0     40002059.0       5831204.0       5.0        0      3.0   \n",
       "2         0     40002059.0       5831204.0       6.0        0      5.0   \n",
       "3         0     40002059.0       5831204.0       4.0        0      3.0   \n",
       "4         0     40002059.0       5831204.0       6.0        0      4.0   \n",
       "\n",
       "   dimension  elevator   fee  fee_bnb_usd     ...      garage      id  \\\n",
       "0        280         0  1881          NaN     ...           4  537418   \n",
       "1        554         0  2545          NaN     ...           5  539099   \n",
       "2        380         0  1815      2269.53     ...           4  451025   \n",
       "3        271         0  1494          NaN     ...           2  537017   \n",
       "4        320         0  2324          NaN     ...           4  539274   \n",
       "\n",
       "   id_type  id_type_offer    latitud   longitud  pool   price  status  \\\n",
       "0        1              1 -16.521725 -68.060249     0  340000       2   \n",
       "1        1              1 -16.514791 -68.058067     0  460000       2   \n",
       "2        1              1 -16.566566 -68.100983     0  328000       2   \n",
       "3        1              1 -16.539755 -68.057640     0  270000       2   \n",
       "4        1              1 -16.547251 -68.077873     0  420000       1   \n",
       "\n",
       "   year_built  \n",
       "0      2009.0  \n",
       "1      2009.0  \n",
       "2      2015.0  \n",
       "3         NaN  \n",
       "4         NaN  \n",
       "\n",
       "[5 rows x 23 columns]"
      ]
     },
     "execution_count": 77,
     "metadata": {},
     "output_type": "execute_result"
    }
   ],
   "source": [
    "X.head(5)"
   ]
  },
  {
   "cell_type": "code",
   "execution_count": null,
   "metadata": {},
   "outputs": [],
   "source": []
  },
  {
   "cell_type": "code",
   "execution_count": 126,
   "metadata": {},
   "outputs": [],
   "source": [
    "# X.index = movies_v2.index\n",
    "\n",
    "X.to_csv('./X.csv', index=False)"
   ]
  },
  {
   "cell_type": "code",
   "execution_count": null,
   "metadata": {},
   "outputs": [],
   "source": []
  },
  {
   "cell_type": "code",
   "execution_count": null,
   "metadata": {},
   "outputs": [],
   "source": []
  },
  {
   "cell_type": "code",
   "execution_count": null,
   "metadata": {},
   "outputs": [],
   "source": []
  },
  {
   "cell_type": "code",
   "execution_count": null,
   "metadata": {},
   "outputs": [],
   "source": []
  },
  {
   "cell_type": "code",
   "execution_count": null,
   "metadata": {},
   "outputs": [],
   "source": []
  },
  {
   "cell_type": "code",
   "execution_count": 120,
   "metadata": {},
   "outputs": [
    {
     "data": {
      "text/plain": [
       "False    589\n",
       "True     234\n",
       "Name: year_built, dtype: int64"
      ]
     },
     "execution_count": 120,
     "metadata": {},
     "output_type": "execute_result"
    }
   ],
   "source": [
    "# metodo de PANDAS -->  .value_counts()\n",
    "(houses_num['year_built'] > 2000).value_counts()"
   ]
  },
  {
   "cell_type": "code",
   "execution_count": 121,
   "metadata": {},
   "outputs": [
    {
     "data": {
      "text/plain": [
       "array([[0.0000000e+00, 4.0002059e+07, 5.8312040e+06, ..., 3.4000000e+05,\n",
       "        2.0000000e+00, 2.0090000e+03],\n",
       "       [0.0000000e+00, 4.0002059e+07, 5.8312040e+06, ..., 4.6000000e+05,\n",
       "        2.0000000e+00, 2.0090000e+03],\n",
       "       [0.0000000e+00, 4.0002059e+07, 5.8312040e+06, ..., 3.2800000e+05,\n",
       "        2.0000000e+00, 2.0150000e+03],\n",
       "       ...,\n",
       "       [0.0000000e+00,           nan,           nan, ..., 2.3000000e+03,\n",
       "        2.0000000e+00,           nan],\n",
       "       [0.0000000e+00,           nan,           nan, ..., 6.0000000e+02,\n",
       "        2.0000000e+00,           nan],\n",
       "       [0.0000000e+00,           nan,           nan, ..., 1.0000000e+03,\n",
       "        2.0000000e+00, 1.9850000e+03]])"
      ]
     },
     "execution_count": 121,
     "metadata": {},
     "output_type": "execute_result"
    }
   ],
   "source": [
    "houses_num.values"
   ]
  },
  {
   "cell_type": "code",
   "execution_count": 122,
   "metadata": {},
   "outputs": [],
   "source": [
    "# llevando este array a un Dataframe\n",
    "X = pd.DataFrame(houses_num)"
   ]
  },
  {
   "cell_type": "code",
   "execution_count": 107,
   "metadata": {},
   "outputs": [
    {
     "data": {
      "text/html": [
       "<div>\n",
       "<style scoped>\n",
       "    .dataframe tbody tr th:only-of-type {\n",
       "        vertical-align: middle;\n",
       "    }\n",
       "\n",
       "    .dataframe tbody tr th {\n",
       "        vertical-align: top;\n",
       "    }\n",
       "\n",
       "    .dataframe thead th {\n",
       "        text-align: right;\n",
       "    }\n",
       "</style>\n",
       "<table border=\"1\" class=\"dataframe\">\n",
       "  <thead>\n",
       "    <tr style=\"text-align: right;\">\n",
       "      <th></th>\n",
       "      <th>amoblado</th>\n",
       "      <th>amount_max_bs</th>\n",
       "      <th>amount_max_usd</th>\n",
       "      <th>bathroom</th>\n",
       "      <th>baulera</th>\n",
       "      <th>bedroom</th>\n",
       "      <th>dimension</th>\n",
       "      <th>elevator</th>\n",
       "      <th>fee</th>\n",
       "      <th>fee_bnb_usd</th>\n",
       "      <th>...</th>\n",
       "      <th>garage</th>\n",
       "      <th>id</th>\n",
       "      <th>id_type</th>\n",
       "      <th>id_type_offer</th>\n",
       "      <th>latitud</th>\n",
       "      <th>longitud</th>\n",
       "      <th>pool</th>\n",
       "      <th>price</th>\n",
       "      <th>status</th>\n",
       "      <th>year_built</th>\n",
       "    </tr>\n",
       "  </thead>\n",
       "  <tbody>\n",
       "    <tr>\n",
       "      <th>False</th>\n",
       "      <td>NaN</td>\n",
       "      <td>178</td>\n",
       "      <td>178</td>\n",
       "      <td>9</td>\n",
       "      <td>NaN</td>\n",
       "      <td>9</td>\n",
       "      <td>NaN</td>\n",
       "      <td>NaN</td>\n",
       "      <td>NaN</td>\n",
       "      <td>426</td>\n",
       "      <td>...</td>\n",
       "      <td>NaN</td>\n",
       "      <td>NaN</td>\n",
       "      <td>NaN</td>\n",
       "      <td>NaN</td>\n",
       "      <td>NaN</td>\n",
       "      <td>NaN</td>\n",
       "      <td>NaN</td>\n",
       "      <td>NaN</td>\n",
       "      <td>NaN</td>\n",
       "      <td>482</td>\n",
       "    </tr>\n",
       "    <tr>\n",
       "      <th>True</th>\n",
       "      <td>823.0</td>\n",
       "      <td>645</td>\n",
       "      <td>645</td>\n",
       "      <td>814</td>\n",
       "      <td>823.0</td>\n",
       "      <td>814</td>\n",
       "      <td>823.0</td>\n",
       "      <td>823.0</td>\n",
       "      <td>823.0</td>\n",
       "      <td>397</td>\n",
       "      <td>...</td>\n",
       "      <td>823.0</td>\n",
       "      <td>823.0</td>\n",
       "      <td>823.0</td>\n",
       "      <td>823.0</td>\n",
       "      <td>823.0</td>\n",
       "      <td>823.0</td>\n",
       "      <td>823.0</td>\n",
       "      <td>823.0</td>\n",
       "      <td>823.0</td>\n",
       "      <td>341</td>\n",
       "    </tr>\n",
       "  </tbody>\n",
       "</table>\n",
       "<p>2 rows × 23 columns</p>\n",
       "</div>"
      ],
      "text/plain": [
       "       amoblado  amount_max_bs  amount_max_usd  bathroom  baulera  bedroom  \\\n",
       "False       NaN            178             178         9      NaN        9   \n",
       "True      823.0            645             645       814    823.0      814   \n",
       "\n",
       "       dimension  elevator    fee  fee_bnb_usd     ...      garage     id  \\\n",
       "False        NaN       NaN    NaN          426     ...         NaN    NaN   \n",
       "True       823.0     823.0  823.0          397     ...       823.0  823.0   \n",
       "\n",
       "       id_type  id_type_offer  latitud  longitud   pool  price  status  \\\n",
       "False      NaN            NaN      NaN       NaN    NaN    NaN     NaN   \n",
       "True     823.0          823.0    823.0     823.0  823.0  823.0   823.0   \n",
       "\n",
       "       year_built  \n",
       "False         482  \n",
       "True          341  \n",
       "\n",
       "[2 rows x 23 columns]"
      ]
     },
     "execution_count": 107,
     "metadata": {},
     "output_type": "execute_result"
    }
   ],
   "source": [
    "# apply(pd.Series.value_counts) = equivalente a hacer un for loop, columna por columna aplica esta funcion\n",
    "# .notnull().   = un booleano\n",
    "houses_num.notnull().apply(pd.Series.value_counts)"
   ]
  },
  {
   "cell_type": "code",
   "execution_count": 108,
   "metadata": {},
   "outputs": [
    {
     "data": {
      "text/html": [
       "<div>\n",
       "<style scoped>\n",
       "    .dataframe tbody tr th:only-of-type {\n",
       "        vertical-align: middle;\n",
       "    }\n",
       "\n",
       "    .dataframe tbody tr th {\n",
       "        vertical-align: top;\n",
       "    }\n",
       "\n",
       "    .dataframe thead th {\n",
       "        text-align: right;\n",
       "    }\n",
       "</style>\n",
       "<table border=\"1\" class=\"dataframe\">\n",
       "  <thead>\n",
       "    <tr style=\"text-align: right;\">\n",
       "      <th></th>\n",
       "      <th>amoblado</th>\n",
       "      <th>amount_max_bs</th>\n",
       "      <th>amount_max_usd</th>\n",
       "      <th>bathroom</th>\n",
       "      <th>baulera</th>\n",
       "      <th>bedroom</th>\n",
       "      <th>dimension</th>\n",
       "      <th>elevator</th>\n",
       "      <th>fee</th>\n",
       "      <th>fee_bnb_usd</th>\n",
       "      <th>...</th>\n",
       "      <th>garage</th>\n",
       "      <th>id</th>\n",
       "      <th>id_type</th>\n",
       "      <th>id_type_offer</th>\n",
       "      <th>latitud</th>\n",
       "      <th>longitud</th>\n",
       "      <th>pool</th>\n",
       "      <th>price</th>\n",
       "      <th>status</th>\n",
       "      <th>year_built</th>\n",
       "    </tr>\n",
       "  </thead>\n",
       "  <tbody>\n",
       "    <tr>\n",
       "      <th>False</th>\n",
       "      <td>804</td>\n",
       "      <td>NaN</td>\n",
       "      <td>NaN</td>\n",
       "      <td>NaN</td>\n",
       "      <td>809</td>\n",
       "      <td>NaN</td>\n",
       "      <td>12</td>\n",
       "      <td>822</td>\n",
       "      <td>178</td>\n",
       "      <td>NaN</td>\n",
       "      <td>...</td>\n",
       "      <td>45</td>\n",
       "      <td>NaN</td>\n",
       "      <td>NaN</td>\n",
       "      <td>NaN</td>\n",
       "      <td>NaN</td>\n",
       "      <td>NaN</td>\n",
       "      <td>818</td>\n",
       "      <td>NaN</td>\n",
       "      <td>NaN</td>\n",
       "      <td>NaN</td>\n",
       "    </tr>\n",
       "    <tr>\n",
       "      <th>True</th>\n",
       "      <td>19</td>\n",
       "      <td>823.0</td>\n",
       "      <td>823.0</td>\n",
       "      <td>823.0</td>\n",
       "      <td>14</td>\n",
       "      <td>823.0</td>\n",
       "      <td>811</td>\n",
       "      <td>1</td>\n",
       "      <td>645</td>\n",
       "      <td>823.0</td>\n",
       "      <td>...</td>\n",
       "      <td>778</td>\n",
       "      <td>823.0</td>\n",
       "      <td>823.0</td>\n",
       "      <td>823.0</td>\n",
       "      <td>823.0</td>\n",
       "      <td>823.0</td>\n",
       "      <td>5</td>\n",
       "      <td>823.0</td>\n",
       "      <td>823.0</td>\n",
       "      <td>823.0</td>\n",
       "    </tr>\n",
       "  </tbody>\n",
       "</table>\n",
       "<p>2 rows × 23 columns</p>\n",
       "</div>"
      ],
      "text/plain": [
       "       amoblado  amount_max_bs  amount_max_usd  bathroom  baulera  bedroom  \\\n",
       "False       804            NaN             NaN       NaN      809      NaN   \n",
       "True         19          823.0           823.0     823.0       14    823.0   \n",
       "\n",
       "       dimension  elevator  fee  fee_bnb_usd     ...      garage     id  \\\n",
       "False         12       822  178          NaN     ...          45    NaN   \n",
       "True         811         1  645        823.0     ...         778  823.0   \n",
       "\n",
       "       id_type  id_type_offer  latitud  longitud  pool  price  status  \\\n",
       "False      NaN            NaN      NaN       NaN   818    NaN     NaN   \n",
       "True     823.0          823.0    823.0     823.0     5  823.0   823.0   \n",
       "\n",
       "       year_built  \n",
       "False         NaN  \n",
       "True        823.0  \n",
       "\n",
       "[2 rows x 23 columns]"
      ]
     },
     "execution_count": 108,
     "metadata": {},
     "output_type": "execute_result"
    }
   ],
   "source": [
    "# NOS DA CANTIDAD DE NULOS QUE EXISTE, O LO TIENEN EN CERO (0)\n",
    "(houses_num !=0).apply(pd.Series.value_counts)"
   ]
  },
  {
   "cell_type": "code",
   "execution_count": 111,
   "metadata": {},
   "outputs": [],
   "source": [
    "available = ((houses_num !=0) & houses_num.notnull())\n",
    "\n",
    "# false = cuando hay datos faltantes o null\n",
    "# available"
   ]
  },
  {
   "cell_type": "code",
   "execution_count": 112,
   "metadata": {},
   "outputs": [
    {
     "data": {
      "text/plain": [
       "False    823\n",
       "dtype: int64"
      ]
     },
     "execution_count": 112,
     "metadata": {},
     "output_type": "execute_result"
    }
   ],
   "source": [
    "# all => revisa todas las lineas  |  axis=1   =>  revisa por columnas(se va moviendo por las columnas) \n",
    "# |  .value_counts() => \n",
    "\n",
    "# revisa que lineas tienen VALORES FALSOS\n",
    "available.all(axis=1).value_counts()\n",
    "# TENEMOS 718 VALORES FASOS"
   ]
  },
  {
   "cell_type": "code",
   "execution_count": null,
   "metadata": {},
   "outputs": [],
   "source": []
  }
 ],
 "metadata": {
  "kernelspec": {
   "display_name": "Python 3",
   "language": "python",
   "name": "python3"
  },
  "language_info": {
   "codemirror_mode": {
    "name": "ipython",
    "version": 3
   },
   "file_extension": ".py",
   "mimetype": "text/x-python",
   "name": "python",
   "nbconvert_exporter": "python",
   "pygments_lexer": "ipython3",
   "version": "3.7.1"
  }
 },
 "nbformat": 4,
 "nbformat_minor": 2
}
