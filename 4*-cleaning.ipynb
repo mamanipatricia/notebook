{
 "cells": [
  {
   "cell_type": "markdown",
   "metadata": {},
   "source": [
    "## DATA CLEANING"
   ]
  },
  {
   "cell_type": "code",
   "execution_count": 1,
   "metadata": {},
   "outputs": [],
   "source": [
    "# importando las librerias\n",
    "import numpy as np\n",
    "import pandas as pd"
   ]
  },
  {
   "cell_type": "code",
   "execution_count": 2,
   "metadata": {},
   "outputs": [],
   "source": [
    "dfc = pd.read_csv('./casasN.csv')"
   ]
  },
  {
   "cell_type": "code",
   "execution_count": 3,
   "metadata": {},
   "outputs": [],
   "source": [
    "dfd = pd.read_csv('./departamentosN.csv')"
   ]
  },
  {
   "cell_type": "code",
   "execution_count": 4,
   "metadata": {},
   "outputs": [
    {
     "data": {
      "text/plain": [
       "Index(['address', 'amoblado', 'amount_max_bs', 'amount_max_usd',\n",
       "       'availability', 'bathroom', 'baulera', 'bedroom', 'code', 'credit_type',\n",
       "       'date_released', 'dimension_built', 'dimension_ground', 'elevator',\n",
       "       'fecentrega', 'fee', 'fee_bnb_usd', 'fee_bs', 'fee_regular',\n",
       "       'fee_regular_bs', 'garage', 'id', 'id_neighborhood', 'id_type',\n",
       "       'id_type_offer', 'latitud', 'location', 'longitud', 'moneda',\n",
       "       'neighborhood', 'pool', 'price', 'region', 'status', 'type',\n",
       "       'type_offer', 'warranty', 'year_built'],\n",
       "      dtype='object')"
      ]
     },
     "execution_count": 4,
     "metadata": {},
     "output_type": "execute_result"
    }
   ],
   "source": [
    "# dfc.columns\n",
    "dfd.columns"
   ]
  },
  {
   "cell_type": "code",
   "execution_count": 5,
   "metadata": {},
   "outputs": [
    {
     "data": {
      "text/html": [
       "<div>\n",
       "<style scoped>\n",
       "    .dataframe tbody tr th:only-of-type {\n",
       "        vertical-align: middle;\n",
       "    }\n",
       "\n",
       "    .dataframe tbody tr th {\n",
       "        vertical-align: top;\n",
       "    }\n",
       "\n",
       "    .dataframe thead th {\n",
       "        text-align: right;\n",
       "    }\n",
       "</style>\n",
       "<table border=\"1\" class=\"dataframe\">\n",
       "  <thead>\n",
       "    <tr style=\"text-align: right;\">\n",
       "      <th></th>\n",
       "      <th>address</th>\n",
       "      <th>amoblado</th>\n",
       "      <th>amount_max_bs</th>\n",
       "      <th>amount_max_usd</th>\n",
       "      <th>availability</th>\n",
       "      <th>bathroom</th>\n",
       "      <th>baulera</th>\n",
       "      <th>bedroom</th>\n",
       "      <th>code</th>\n",
       "      <th>credit_type</th>\n",
       "      <th>...</th>\n",
       "      <th>moneda</th>\n",
       "      <th>neighborhood</th>\n",
       "      <th>pool</th>\n",
       "      <th>price</th>\n",
       "      <th>region</th>\n",
       "      <th>status</th>\n",
       "      <th>type</th>\n",
       "      <th>type_offer</th>\n",
       "      <th>warranty</th>\n",
       "      <th>year_built</th>\n",
       "    </tr>\n",
       "  </thead>\n",
       "  <tbody>\n",
       "    <tr>\n",
       "      <th>0</th>\n",
       "      <td>Koani</td>\n",
       "      <td>0</td>\n",
       "      <td>40002059.0</td>\n",
       "      <td>5831204.0</td>\n",
       "      <td>ENABLED</td>\n",
       "      <td>4.0</td>\n",
       "      <td>0</td>\n",
       "      <td>4.0</td>\n",
       "      <td>UC-551279</td>\n",
       "      <td>no social con 20% de aporte propio.</td>\n",
       "      <td>...</td>\n",
       "      <td>$us</td>\n",
       "      <td>Koani</td>\n",
       "      <td>0</td>\n",
       "      <td>250000</td>\n",
       "      <td>La Paz</td>\n",
       "      <td>2</td>\n",
       "      <td>Casa</td>\n",
       "      <td>Venta</td>\n",
       "      <td>NaN</td>\n",
       "      <td>NaN</td>\n",
       "    </tr>\n",
       "    <tr>\n",
       "      <th>1</th>\n",
       "      <td>Casa hermosa en venta-Condominio Abierto en ba...</td>\n",
       "      <td>0</td>\n",
       "      <td>40002059.0</td>\n",
       "      <td>5831204.0</td>\n",
       "      <td>ENABLED</td>\n",
       "      <td>3.0</td>\n",
       "      <td>0</td>\n",
       "      <td>4.0</td>\n",
       "      <td>UC-549803</td>\n",
       "      <td>no social con 20% de aporte propio.</td>\n",
       "      <td>...</td>\n",
       "      <td>$us</td>\n",
       "      <td>Cota Cota</td>\n",
       "      <td>0</td>\n",
       "      <td>250000</td>\n",
       "      <td>La Paz</td>\n",
       "      <td>2</td>\n",
       "      <td>Casa</td>\n",
       "      <td>Venta</td>\n",
       "      <td>NaN</td>\n",
       "      <td>NaN</td>\n",
       "    </tr>\n",
       "    <tr>\n",
       "      <th>2</th>\n",
       "      <td>ARANJUEZ</td>\n",
       "      <td>0</td>\n",
       "      <td>40002059.0</td>\n",
       "      <td>5831204.0</td>\n",
       "      <td>ENABLED</td>\n",
       "      <td>4.0</td>\n",
       "      <td>0</td>\n",
       "      <td>4.0</td>\n",
       "      <td>UC-551243</td>\n",
       "      <td>no social con 20% de aporte propio.</td>\n",
       "      <td>...</td>\n",
       "      <td>$us</td>\n",
       "      <td>Aranjuez</td>\n",
       "      <td>0</td>\n",
       "      <td>530000</td>\n",
       "      <td>La Paz</td>\n",
       "      <td>2</td>\n",
       "      <td>Casa</td>\n",
       "      <td>Venta</td>\n",
       "      <td>NaN</td>\n",
       "      <td>NaN</td>\n",
       "    </tr>\n",
       "    <tr>\n",
       "      <th>3</th>\n",
       "      <td>IRPAVI</td>\n",
       "      <td>0</td>\n",
       "      <td>40002059.0</td>\n",
       "      <td>5831204.0</td>\n",
       "      <td>ENABLED</td>\n",
       "      <td>6.0</td>\n",
       "      <td>0</td>\n",
       "      <td>3.0</td>\n",
       "      <td>UC-551407</td>\n",
       "      <td>no social con 20% de aporte propio.</td>\n",
       "      <td>...</td>\n",
       "      <td>$us</td>\n",
       "      <td>Irpavi</td>\n",
       "      <td>0</td>\n",
       "      <td>580000</td>\n",
       "      <td>La Paz</td>\n",
       "      <td>2</td>\n",
       "      <td>Casa</td>\n",
       "      <td>Venta</td>\n",
       "      <td>NaN</td>\n",
       "      <td>NaN</td>\n",
       "    </tr>\n",
       "    <tr>\n",
       "      <th>4</th>\n",
       "      <td>ACHUMANI</td>\n",
       "      <td>0</td>\n",
       "      <td>40002059.0</td>\n",
       "      <td>5831204.0</td>\n",
       "      <td>ENABLED</td>\n",
       "      <td>4.0</td>\n",
       "      <td>0</td>\n",
       "      <td>5.0</td>\n",
       "      <td>UC-547411</td>\n",
       "      <td>no social con 20% de aporte propio.</td>\n",
       "      <td>...</td>\n",
       "      <td>$us</td>\n",
       "      <td>Achumani</td>\n",
       "      <td>0</td>\n",
       "      <td>169000</td>\n",
       "      <td>La Paz</td>\n",
       "      <td>1</td>\n",
       "      <td>Casa</td>\n",
       "      <td>Venta</td>\n",
       "      <td>NaN</td>\n",
       "      <td>2019.0</td>\n",
       "    </tr>\n",
       "  </tbody>\n",
       "</table>\n",
       "<p>5 rows × 38 columns</p>\n",
       "</div>"
      ],
      "text/plain": [
       "                                             address  amoblado  amount_max_bs  \\\n",
       "0                                              Koani         0     40002059.0   \n",
       "1  Casa hermosa en venta-Condominio Abierto en ba...         0     40002059.0   \n",
       "2                                           ARANJUEZ         0     40002059.0   \n",
       "3                                             IRPAVI         0     40002059.0   \n",
       "4                                           ACHUMANI         0     40002059.0   \n",
       "\n",
       "   amount_max_usd availability  bathroom  baulera  bedroom       code  \\\n",
       "0       5831204.0      ENABLED       4.0        0      4.0  UC-551279   \n",
       "1       5831204.0      ENABLED       3.0        0      4.0  UC-549803   \n",
       "2       5831204.0      ENABLED       4.0        0      4.0  UC-551243   \n",
       "3       5831204.0      ENABLED       6.0        0      3.0  UC-551407   \n",
       "4       5831204.0      ENABLED       4.0        0      5.0  UC-547411   \n",
       "\n",
       "                             credit_type  ... moneda  neighborhood  pool  \\\n",
       "0   no social con 20% de aporte propio.   ...    $us         Koani     0   \n",
       "1   no social con 20% de aporte propio.   ...    $us     Cota Cota     0   \n",
       "2   no social con 20% de aporte propio.   ...    $us      Aranjuez     0   \n",
       "3   no social con 20% de aporte propio.   ...    $us        Irpavi     0   \n",
       "4   no social con 20% de aporte propio.   ...    $us      Achumani     0   \n",
       "\n",
       "    price  region  status  type  type_offer  warranty  year_built  \n",
       "0  250000  La Paz       2  Casa       Venta       NaN         NaN  \n",
       "1  250000  La Paz       2  Casa       Venta       NaN         NaN  \n",
       "2  530000  La Paz       2  Casa       Venta       NaN         NaN  \n",
       "3  580000  La Paz       2  Casa       Venta       NaN         NaN  \n",
       "4  169000  La Paz       1  Casa       Venta       NaN      2019.0  \n",
       "\n",
       "[5 rows x 38 columns]"
      ]
     },
     "execution_count": 5,
     "metadata": {},
     "output_type": "execute_result"
    }
   ],
   "source": [
    "dfc.head()"
   ]
  },
  {
   "cell_type": "code",
   "execution_count": 342,
   "metadata": {},
   "outputs": [],
   "source": [
    "# df.dtypes"
   ]
  },
  {
   "cell_type": "code",
   "execution_count": 343,
   "metadata": {},
   "outputs": [
    {
     "data": {
      "text/plain": [
       "(820, 38)"
      ]
     },
     "execution_count": 343,
     "metadata": {},
     "output_type": "execute_result"
    }
   ],
   "source": [
    "dfc.shape"
   ]
  },
  {
   "cell_type": "code",
   "execution_count": 344,
   "metadata": {},
   "outputs": [
    {
     "data": {
      "text/plain": [
       "(1635, 38)"
      ]
     },
     "execution_count": 344,
     "metadata": {},
     "output_type": "execute_result"
    }
   ],
   "source": [
    "dfd.shape"
   ]
  },
  {
   "cell_type": "code",
   "execution_count": 345,
   "metadata": {},
   "outputs": [
    {
     "name": "stdout",
     "output_type": "stream",
     "text": [
      "(12, 38)\n",
      "(39, 38)\n"
     ]
    }
   ],
   "source": [
    "print(dfc[dfc['availability']=='SOLD'].shape)\n",
    "print(dfd[dfd['availability']=='SOLD'].shape)"
   ]
  },
  {
   "cell_type": "markdown",
   "metadata": {},
   "source": [
    "# updating real dimension values (HOUSES)"
   ]
  },
  {
   "cell_type": "code",
   "execution_count": 346,
   "metadata": {},
   "outputs": [],
   "source": [
    "# updating dimensions\n",
    "# 96901\n",
    "# 466142\n",
    "# 4990937\n",
    "# 514499\n",
    "# 514500\n",
    "\n",
    "# no es necesario actualizar las dimensiones xq ya se tiene en dos columas\n",
    "# dfc.loc[dfc['id']==96901,['dimension']]=670\n",
    "# dfc.loc[dfc['id']==466142,['dimension']]=670\n",
    "# dfc.loc[dfc['id']==4990937,['dimension']]=1218\n",
    "# dfc.loc[dfc['id']==514499,['dimension']]=375\n",
    "# dfc.loc[dfc['id']==514500,['dimension']]=375\n",
    "\n",
    "# 506439 14 banios y repetido\n",
    "# 441532   3banios\n",
    "# 530963 3 banios\n",
    "\n",
    "dfc.loc[dfc['id']==506439,['bathroom']]=14\n",
    "dfc.loc[dfc['id']==441532,['bathroom']]=3\n",
    "\n",
    "dfc.loc[dfc['id']==530963,['bathroom']]=3\n",
    "\n",
    "\n",
    "# bedrooms\n",
    "# 490912 4 dormitorios\n",
    "# 490906 3 dormitorios\n",
    "#  73067 4 dormi suite y vestidores\n",
    "#  465750 4 dormitorios\n",
    "dfc.loc[dfc['id']==490912,['bedroom']]=4\n",
    "dfc.loc[dfc['id']==530963,['bedroom']]=4\n",
    "dfc.loc[dfc['id']==490906,['bedroom']]=3\n",
    "dfc.loc[dfc['id']==73067,['bedroom']]=4\n",
    "dfc.loc[dfc['id']==465750,['bedroom']]=4\n",
    "\n"
   ]
  },
  {
   "cell_type": "code",
   "execution_count": 347,
   "metadata": {},
   "outputs": [
    {
     "name": "stdout",
     "output_type": "stream",
     "text": [
      "(10, 38)\n",
      "(42, 38)\n"
     ]
    }
   ],
   "source": [
    "print(dfc[dfc['moneda']=='Bs'].shape)\n",
    "print(dfd[dfd['moneda']=='Bs'].shape)"
   ]
  },
  {
   "cell_type": "markdown",
   "metadata": {},
   "source": [
    "# DEPARTAMENTOS"
   ]
  },
  {
   "cell_type": "code",
   "execution_count": 348,
   "metadata": {},
   "outputs": [],
   "source": [
    "# *************updating*********\n",
    "# 511579   #bathroom & baulera\n",
    "# 534527 1 banio, dim 145,3 dorm \n",
    "# 507713 3 banios, 3 bathrpoom,3 debroom\n",
    "# 73900 3 dorm\n",
    "# 96386 3 dormi\n",
    "# 504311 3 drmi, garage 1\n",
    "# dimension \n",
    "\n",
    "# 537811 dim 162 \n",
    "# 486460 dim 241\n",
    "# 100897 dim 280, 3 dormitorios, garage 1\n",
    "\n",
    "# ********DELETING***********\n",
    "# BAthroom\n",
    "\n",
    "# 545401  \n",
    "# 539946 repetido\n",
    "\n",
    "# 515495 por oficinas\n",
    "# 524126 por recien construido\n",
    "# 490953 por muchas cosas \n",
    "# 195038 no tiene banio\n",
    "# 542398 no tiene banio\n",
    "# 545400 no tiene banio\n",
    "# 545401 duplicado*\n",
    "# 550645 no tiene banio\n",
    "# 513051 no tiene banio\n",
    "# 50671 no tiene bainoll\n",
    "# 546653 no tien dimension\n",
    "# 539049 notiene dim\n",
    "# 537809\n",
    "# 507226 no tiene dm\n",
    "# 507225 no tiene dm\n",
    "# 354396  no tiene dm\n",
    "# 259605  no tiene dm\n",
    "# 119611 \n",
    "# ''''''\n",
    "# 16943\n",
    "# 539216 VENDIDO\n",
    "# 546973 no dimens\n",
    "# 548832 no dime\n",
    "# 548831 no dime\n",
    "# 549740 no dim\n",
    "# 513049 no dim\n",
    "# 513047 no dim\n",
    "# 537093 no dim\n",
    "# 539051 no dm\n",
    "# 536081 no dim\n",
    "# 529451 no dim\n",
    "# 513509 no dim\n",
    "# 460196 no dim\n",
    "# 119594 no dim\n",
    "# 119654 no dim\n",
    "# 172326 n d\n",
    "# 175517 nd\n",
    "# 175511\n",
    "# 150212 nd\n",
    "# 119657\n",
    "# 169943 dm\n",
    "# --prices\n",
    "# 546037   1234567890\n",
    "# 516305\n",
    "# 550040\n",
    "# 243006\n",
    "# 476602\n",
    "# 243011\n",
    "# 516305\n",
    "# 550040\n",
    "# 243006\n",
    "# 476602\n",
    "\n",
    "# 531058\n",
    "#---prueba\n",
    "# 243011 \n",
    "# 522571\n",
    "# TEST\n",
    "# 498090\n",
    "# 531058\n",
    "# 536595\n",
    "# "
   ]
  },
  {
   "cell_type": "code",
   "execution_count": 349,
   "metadata": {},
   "outputs": [],
   "source": [
    "# UPDATE\n",
    "\n",
    "dfd.loc[dfd['id']==511579,['baulera']]=1\n",
    "dfd.loc[dfd['id']==511579,['bathroom']]=1\n",
    "\n",
    "dfd.loc[dfd['id']==534527,['bedroom']]=3\n",
    "dfd.loc[dfd['id']==534527,['bathroom']]=1\n",
    "# dfd.loc[dfd['id']==534527,['dimension']]=145\n",
    "\n",
    "dfd.loc[dfd['id']==507713,['bathroom']]=3\n",
    "dfd.loc[dfd['id']==507713,['bedroom']]=3\n",
    "dfd.loc[dfd['id']==507713,['garage']]=1\n",
    "\n",
    "dfd.loc[dfd['id']==73900,['bedroom']]=3\n",
    "\n",
    "dfd.loc[dfd['id']==96386,['bedroom']]=3\n",
    "\n",
    "dfd.loc[dfd['id']==504311,['bedroom']]=3\n",
    "dfd.loc[dfd['id']==504311,['garage']]=1\n",
    "\n",
    "# dfd.loc[dfd['id']==537811,['dimension']]=162\n",
    "\n",
    "# dfd.loc[dfd['id']==486460,['dimension']]=241\n",
    "\n",
    "# dfd.loc[dfd['id']==100897,['dimension']]=280\n",
    "dfd.loc[dfd['id']==100897,['bedroom']]=3\n",
    "dfd.loc[dfd['id']==100897,['garage']]=1\n",
    "\n"
   ]
  },
  {
   "cell_type": "code",
   "execution_count": 350,
   "metadata": {},
   "outputs": [
    {
     "data": {
      "text/plain": [
       "(1635, 38)"
      ]
     },
     "execution_count": 350,
     "metadata": {},
     "output_type": "execute_result"
    }
   ],
   "source": [
    "dfd.shape"
   ]
  },
  {
   "cell_type": "code",
   "execution_count": 351,
   "metadata": {},
   "outputs": [],
   "source": [
    "# DELETE\n",
    "\n",
    "dfd = dfd.drop(dfd[dfd.id.isin([545401, 539946, 515495, 524126,\n",
    "                            490953, 195038, 542398, 545400, \n",
    "                            550645, 513051, 50671, 546653, \n",
    "                            539049, 537809, 507226, 507225, \n",
    "                            354396, 259605, 119611, 16943, \n",
    "                            539216, 546973, 548832, 548831,\n",
    "                            549740, 513049, 513047, 537093,\n",
    "                            539051, 536081, 529451, 513509,\n",
    "                            460196, 119594, 119654, 172326,\n",
    "                            175517, 175511, 150212, 119657,\n",
    "                            546037,  516305, 550040, 243006, \n",
    "                            476602, 243011, 531058, 522571, \n",
    "                            498090, 536595, 169943, 528874, \n",
    "                            531058])].index)\n",
    "dfd = dfd.drop(dfd[dfd.dimension_built>=600].index)\n",
    "\n",
    "dfd = dfd.drop(dfd[dfd.price>=600000].index)\n",
    "dfd = dfd.drop(dfd[dfd.garage>=5].index)"
   ]
  },
  {
   "cell_type": "code",
   "execution_count": 352,
   "metadata": {},
   "outputs": [
    {
     "data": {
      "text/plain": [
       "(1562, 38)"
      ]
     },
     "execution_count": 352,
     "metadata": {},
     "output_type": "execute_result"
    }
   ],
   "source": [
    "dfd.shape"
   ]
  },
  {
   "cell_type": "code",
   "execution_count": 353,
   "metadata": {},
   "outputs": [],
   "source": [
    "# df[df['moneda']=='Bs'].shape\n",
    "# APPLY A INTEGERS THEN...\n",
    "# en fecha 18 de mayo de 2019, \n",
    "# con precio de VENTA de dolares = 6.96 [Bs]\n",
    "# con precio de COMPRA de dolares = 6.86 [Bs]\n",
    "\n",
    "dfc.loc[dfc.moneda.eq('Bs'), 'price']/=6.96\n",
    "dfd.loc[dfd.moneda.eq('Bs'), 'price']/=6.96\n"
   ]
  },
  {
   "cell_type": "code",
   "execution_count": 354,
   "metadata": {},
   "outputs": [
    {
     "name": "stdout",
     "output_type": "stream",
     "text": [
      "(10, 38)\n",
      "(41, 38)\n"
     ]
    }
   ],
   "source": [
    "print(dfc[dfc['moneda']=='Bs'].shape)\n",
    "\n",
    "print(dfd[dfd['moneda']=='Bs'].shape)"
   ]
  },
  {
   "cell_type": "markdown",
   "metadata": {},
   "source": [
    "# deleting some rows by ID CASAS"
   ]
  },
  {
   "cell_type": "code",
   "execution_count": 355,
   "metadata": {},
   "outputs": [],
   "source": [
    "# 507745 elevator\n",
    "# 514499 repetido\n",
    "# 542036 exajerado 999999\n",
    "# 542281 sup 1[m2]\n",
    "# 466142 duplicado/repetido\n",
    "# 457396 prueba\n",
    "# 8308 320$ precio muy bajo\n",
    "# 507792 dimension muy grande 55550000....\n",
    "# 542038 precio 100000000...\n",
    "\n",
    "# 496771 14 banios y repetido\n",
    "\n",
    "# 465750 duplicados\n",
    "# 465823 duplicados *\n",
    "# 441532 duplicado\n",
    "\n",
    "# 520263 por que si jeje\n",
    "# 420362 por que si jeje *\n",
    "# 530964  por duplicado\n",
    "# 546452 po rq siii\n",
    "\n",
    "# 507728 por oficinas\n",
    "# 515496 3 banios de una casa q disq no tenia banios  ******\n",
    "\n",
    "\n",
    "dfc = dfc.drop(dfc[dfc.id.isin([507745, 514499,542036,542281, \n",
    "                            466142, 457396, 8308, 507792,\n",
    "                            542038, 496771, 465750, 465823,\n",
    "                            520263, 420362, 530964, 546452,\n",
    "                            507728 , 515496, 441532, 96901, 514500,\n",
    "                            490937, 551237])].index)\n",
    "dfc = dfc.drop(dfc[dfc.dimension_built>=1200].index)\n",
    "dfc = dfc.drop(dfc[dfc.garage>19].index)"
   ]
  },
  {
   "cell_type": "code",
   "execution_count": 356,
   "metadata": {},
   "outputs": [],
   "source": [
    "\n",
    "# print(dfc[dfc['dimension']==0].shape)\n",
    "\n",
    "# print(dfd[dfd['dimension']==0].shape)"
   ]
  },
  {
   "cell_type": "code",
   "execution_count": 357,
   "metadata": {},
   "outputs": [],
   "source": [
    "# DELETING DIMENSION = 0\n",
    "# df = df.drop(df[df.dimension==0].index)\n",
    "# df.shape"
   ]
  },
  {
   "cell_type": "code",
   "execution_count": 358,
   "metadata": {},
   "outputs": [],
   "source": [
    "# DELETING AVAILABILITY = SOLD \n",
    "# df= df.drop(df[df.availability == 'SOLD'].index)\n",
    "# df.shape\n",
    "\n",
    "# DELETE POOL"
   ]
  },
  {
   "cell_type": "code",
   "execution_count": 359,
   "metadata": {},
   "outputs": [],
   "source": [
    "# deleting categorial column \n",
    "dfc= dfc.drop(['address', 'amount_max_bs', 'amount_max_usd', 'availability','code','credit_type','date_released','elevator','fecentrega','fee', 'fee_bnb_usd', 'fee_bs','fee_regular', 'fee_regular_bs','id','id_type','id_type_offer', 'location', 'moneda', 'pool', 'region', 'type','warranty'], axis = 1)\n",
    "dfd= dfd.drop(['address', 'amount_max_bs', 'amount_max_usd', 'availability','code','credit_type','date_released', 'fecentrega','fee', 'fee_bnb_usd', 'fee_bs','fee_regular', 'fee_regular_bs','id','id_type','id_type_offer', 'location', 'moneda', 'pool', 'region', 'type','warranty'], axis = 1)\n"
   ]
  },
  {
   "cell_type": "code",
   "execution_count": 360,
   "metadata": {},
   "outputs": [
    {
     "name": "stdout",
     "output_type": "stream",
     "text": [
      "   amoblado  bathroom  baulera  bedroom  dimension_built  dimension_ground  \\\n",
      "0         0       4.0        0      4.0              286               261   \n",
      "1         0       3.0        0      4.0              225               225   \n",
      "2         0       4.0        0      4.0              432               850   \n",
      "3         0       6.0        0      3.0              600               603   \n",
      "4         0       4.0        0      5.0              250               300   \n",
      "\n",
      "   garage  id_neighborhood    latitud   longitud neighborhood     price  \\\n",
      "0       2               38 -16.532234 -68.079918        Koani  250000.0   \n",
      "1       0               35 -16.538757 -68.057556    Cota Cota  250000.0   \n",
      "2       3              151 -16.559860 -68.094620     Aranjuez  530000.0   \n",
      "3       2               37 -16.514441 -68.086395       Irpavi  580000.0   \n",
      "4       3               29 -16.513678 -68.053596     Achumani  169000.0   \n",
      "\n",
      "   status type_offer  year_built  \n",
      "0       2      Venta         NaN  \n",
      "1       2      Venta         NaN  \n",
      "2       2      Venta         NaN  \n",
      "3       2      Venta         NaN  \n",
      "4       1      Venta      2019.0  \n",
      "   amoblado  bathroom  baulera  bedroom  dimension_built  dimension_ground  \\\n",
      "0         0       1.0        0      3.0               85                 0   \n",
      "1         0       2.0        0      2.0               83                 0   \n",
      "2         0       3.0        0      4.0              128                 0   \n",
      "3         0       3.0        0      2.0              149                 0   \n",
      "4         0       2.0        0      1.0               60                 0   \n",
      "\n",
      "   elevator  garage  id_neighborhood    latitud   longitud  neighborhood  \\\n",
      "0         0       1               29 -16.527618 -68.053825      Achumani   \n",
      "1         0       1              180 -16.514166 -68.084206   Alto Irpavi   \n",
      "2         1       1               33 -16.539625 -68.047394  Chasquipampa   \n",
      "3         0       2               32 -16.541565 -68.084267      Calacoto   \n",
      "4         0       1               29 -16.514936 -68.061073      Achumani   \n",
      "\n",
      "      price  status type_offer  year_built  \n",
      "0   89000.0       1      Venta      2017.0  \n",
      "1   83000.0       2      Venta      2002.0  \n",
      "2  105000.0       1      Venta      2016.0  \n",
      "3  228000.0       2      Venta         NaN  \n",
      "4   94500.0       1      Venta      2019.0  \n"
     ]
    }
   ],
   "source": [
    "print(dfc.head())\n",
    "print(dfd.head())"
   ]
  },
  {
   "cell_type": "code",
   "execution_count": 361,
   "metadata": {},
   "outputs": [],
   "source": [
    "# dfc['neighborhood'].unique()"
   ]
  },
  {
   "cell_type": "markdown",
   "metadata": {},
   "source": [
    "# ADDING RISK"
   ]
  },
  {
   "cell_type": "code",
   "execution_count": 362,
   "metadata": {},
   "outputs": [],
   "source": [
    "def getRisk(n):\n",
    "    diccNeighborhoods = {'Achumani' : 'alto', 'Alto Irpavi' : 'bajo', 'Alto Obrajes': 'moderado',  'Aranjuez': 'moderado',  'Auquisamaña': 'bajo',  'Bella Vista': 'moderado',  'Bolognia': 'bajo', \n",
    "                     'Calacoto': 'bajo',  'Centro': 'bajo', 'Chasquipampa': 'bajo',  'Cota Cota': 'moderado',  'El Pedregal': 'alto', 'El Tejar ':'moderado',  'Irpavi':'moderado',  'Koani':'bajo', \n",
    "                     'La Florida':'moderado',  'Llojeta':'alto',  'Los Pinos':'moderado',  'Mallasa':'alto',  'Mallasilla':'alto',  'Mecapaca':'alto',  'Miraflores':'muy bajo',  'Obrajes':'bajo',\n",
    "                     'Ovejuyo':'moderado',  'Pampahasi':'bajo', 'Pura Pura':'moderado', 'San Alberto':'alto',  'San Jorge':'muy bajo',  'San Miguel':'bajo', 'San Pedro':'moderado',  'Seguencoma':'bajo',  \n",
    "                     'Sopocachi':'moderado', 'Tembladerani':'moderado', 'Urb. Autopista':'bajo', 'Villa Copacabana':'muy bajo', 'Villa Fatima':'bajo', 'Villa San Antonio':'alto' }\n",
    "    for key, value in diccNeighborhoods.items():\n",
    "        if key.lower().strip() == n.lower().strip():\n",
    "            return value\n",
    "    return 'S/N'"
   ]
  },
  {
   "cell_type": "code",
   "execution_count": 363,
   "metadata": {},
   "outputs": [],
   "source": [
    "dfc['riesgo'] = dfc.apply (lambda row: getRisk(row['neighborhood']), axis=1)\n",
    "dfd['riesgo'] = dfd.apply (lambda row: getRisk(row['neighborhood']), axis=1)"
   ]
  },
  {
   "cell_type": "code",
   "execution_count": 364,
   "metadata": {},
   "outputs": [
    {
     "name": "stdout",
     "output_type": "stream",
     "text": [
      "(33, 16)\n",
      "(2, 17)\n"
     ]
    }
   ],
   "source": [
    "print(dfc[dfc['riesgo'] == 'S/N'].shape)\n",
    "print(dfd[dfd['riesgo'] == 'S/N'].shape)"
   ]
  },
  {
   "cell_type": "code",
   "execution_count": 365,
   "metadata": {},
   "outputs": [],
   "source": [
    "# dfc[dfc['riesgo'] == 'S/N']['neighborhood'].unique()"
   ]
  },
  {
   "cell_type": "code",
   "execution_count": 366,
   "metadata": {},
   "outputs": [],
   "source": [
    "dfc = dfc.drop(dfc[dfc['riesgo'] == 'S/N'].index) \n",
    "dfd = dfd.drop(dfd[dfd['riesgo'] == 'S/N'].index) "
   ]
  },
  {
   "cell_type": "code",
   "execution_count": 367,
   "metadata": {},
   "outputs": [
    {
     "name": "stdout",
     "output_type": "stream",
     "text": [
      "(761, 16)\n",
      "(1560, 17)\n"
     ]
    }
   ],
   "source": [
    "print(dfc.shape)\n",
    "print(dfd.shape)"
   ]
  },
  {
   "cell_type": "markdown",
   "metadata": {},
   "source": [
    "## Type offer"
   ]
  },
  {
   "cell_type": "code",
   "execution_count": 368,
   "metadata": {},
   "outputs": [
    {
     "name": "stdout",
     "output_type": "stream",
     "text": [
      " --- Casas ----\n",
      "Venta:  (602, 16)\n",
      "Alquiler:  (141, 16)\n",
      "Anticretico:  (18, 16)\n",
      " --- Departamentos ----\n",
      "Venta:  (1006, 17)\n",
      "Alquiler:  (457, 17)\n",
      "Anticretico:  (97, 17)\n"
     ]
    }
   ],
   "source": [
    "print(\" --- Casas ----\")\n",
    "print(\"Venta: \",dfc[dfc.type_offer=='Venta'].shape)\n",
    "print(\"Alquiler: \",dfc[dfc.type_offer=='Alquiler'].shape)\n",
    "print(\"Anticretico: \",dfc[dfc.type_offer=='Anticretico'].shape)\n",
    "\n",
    "print(\" --- Departamentos ----\")\n",
    "print(\"Venta: \",dfd[dfd.type_offer=='Venta'].shape)\n",
    "print(\"Alquiler: \",dfd[dfd.type_offer=='Alquiler'].shape)\n",
    "print(\"Anticretico: \",dfd[dfd.type_offer=='Anticretico'].shape)"
   ]
  },
  {
   "cell_type": "code",
   "execution_count": 369,
   "metadata": {},
   "outputs": [],
   "source": [
    "dfc = dfc.drop(dfc[dfc.type_offer=='Alquiler'].index)\n",
    "dfc = dfc.drop(dfc[dfc.type_offer=='Anticretico'].index)\n",
    "dfd = dfd.drop(dfd[dfd.type_offer=='Alquiler'].index)\n",
    "dfd = dfd.drop(dfd[dfd.type_offer=='Anticretico'].index)"
   ]
  },
  {
   "cell_type": "code",
   "execution_count": 370,
   "metadata": {},
   "outputs": [
    {
     "name": "stdout",
     "output_type": "stream",
     "text": [
      " --- Casas ----\n",
      "Venta:  (602, 16)\n",
      "Alquiler:  (0, 16)\n",
      "Anticretico:  (0, 16)\n",
      " --- Departamentos ----\n",
      "Venta:  (1006, 17)\n",
      "Alquiler:  (0, 17)\n",
      "Anticretico:  (0, 17)\n"
     ]
    }
   ],
   "source": [
    "print(\" --- Casas ----\")\n",
    "print(\"Venta: \",dfc[dfc.type_offer=='Venta'].shape)\n",
    "print(\"Alquiler: \",dfc[dfc.type_offer=='Alquiler'].shape)\n",
    "print(\"Anticretico: \",dfc[dfc.type_offer=='Anticretico'].shape)\n",
    "\n",
    "print(\" --- Departamentos ----\")\n",
    "print(\"Venta: \",dfd[dfd.type_offer=='Venta'].shape)\n",
    "print(\"Alquiler: \",dfd[dfd.type_offer=='Alquiler'].shape)\n",
    "print(\"Anticretico: \",dfd[dfd.type_offer=='Anticretico'].shape)"
   ]
  },
  {
   "cell_type": "code",
   "execution_count": 371,
   "metadata": {},
   "outputs": [
    {
     "data": {
      "text/html": [
       "<div>\n",
       "<style scoped>\n",
       "    .dataframe tbody tr th:only-of-type {\n",
       "        vertical-align: middle;\n",
       "    }\n",
       "\n",
       "    .dataframe tbody tr th {\n",
       "        vertical-align: top;\n",
       "    }\n",
       "\n",
       "    .dataframe thead th {\n",
       "        text-align: right;\n",
       "    }\n",
       "</style>\n",
       "<table border=\"1\" class=\"dataframe\">\n",
       "  <thead>\n",
       "    <tr style=\"text-align: right;\">\n",
       "      <th></th>\n",
       "      <th>amoblado</th>\n",
       "      <th>bathroom</th>\n",
       "      <th>baulera</th>\n",
       "      <th>bedroom</th>\n",
       "      <th>dimension_built</th>\n",
       "      <th>dimension_ground</th>\n",
       "      <th>garage</th>\n",
       "      <th>id_neighborhood</th>\n",
       "      <th>latitud</th>\n",
       "      <th>longitud</th>\n",
       "      <th>neighborhood</th>\n",
       "      <th>price</th>\n",
       "      <th>status</th>\n",
       "      <th>type_offer</th>\n",
       "      <th>year_built</th>\n",
       "      <th>riesgo</th>\n",
       "    </tr>\n",
       "  </thead>\n",
       "  <tbody>\n",
       "    <tr>\n",
       "      <th>0</th>\n",
       "      <td>0</td>\n",
       "      <td>4.0</td>\n",
       "      <td>0</td>\n",
       "      <td>4.0</td>\n",
       "      <td>286</td>\n",
       "      <td>261</td>\n",
       "      <td>2</td>\n",
       "      <td>38</td>\n",
       "      <td>-16.532234</td>\n",
       "      <td>-68.079918</td>\n",
       "      <td>Koani</td>\n",
       "      <td>250000.0</td>\n",
       "      <td>2</td>\n",
       "      <td>Venta</td>\n",
       "      <td>NaN</td>\n",
       "      <td>bajo</td>\n",
       "    </tr>\n",
       "    <tr>\n",
       "      <th>1</th>\n",
       "      <td>0</td>\n",
       "      <td>3.0</td>\n",
       "      <td>0</td>\n",
       "      <td>4.0</td>\n",
       "      <td>225</td>\n",
       "      <td>225</td>\n",
       "      <td>0</td>\n",
       "      <td>35</td>\n",
       "      <td>-16.538757</td>\n",
       "      <td>-68.057556</td>\n",
       "      <td>Cota Cota</td>\n",
       "      <td>250000.0</td>\n",
       "      <td>2</td>\n",
       "      <td>Venta</td>\n",
       "      <td>NaN</td>\n",
       "      <td>moderado</td>\n",
       "    </tr>\n",
       "  </tbody>\n",
       "</table>\n",
       "</div>"
      ],
      "text/plain": [
       "   amoblado  bathroom  baulera  bedroom  dimension_built  dimension_ground  \\\n",
       "0         0       4.0        0      4.0              286               261   \n",
       "1         0       3.0        0      4.0              225               225   \n",
       "\n",
       "   garage  id_neighborhood    latitud   longitud neighborhood     price  \\\n",
       "0       2               38 -16.532234 -68.079918        Koani  250000.0   \n",
       "1       0               35 -16.538757 -68.057556    Cota Cota  250000.0   \n",
       "\n",
       "   status type_offer  year_built    riesgo  \n",
       "0       2      Venta         NaN      bajo  \n",
       "1       2      Venta         NaN  moderado  "
      ]
     },
     "execution_count": 371,
     "metadata": {},
     "output_type": "execute_result"
    }
   ],
   "source": [
    "dfc.head(2)"
   ]
  },
  {
   "cell_type": "markdown",
   "metadata": {},
   "source": [
    "# EXPORT DATASET"
   ]
  },
  {
   "cell_type": "code",
   "execution_count": 372,
   "metadata": {},
   "outputs": [],
   "source": [
    "dfc.to_csv('./XC.csv', index=False)"
   ]
  },
  {
   "cell_type": "code",
   "execution_count": 373,
   "metadata": {},
   "outputs": [],
   "source": [
    "dfd.to_csv('./XD.csv', index=False)"
   ]
  }
 ],
 "metadata": {
  "kernelspec": {
   "display_name": "Python 3",
   "language": "python",
   "name": "python3"
  },
  "language_info": {
   "codemirror_mode": {
    "name": "ipython",
    "version": 3
   },
   "file_extension": ".py",
   "mimetype": "text/x-python",
   "name": "python",
   "nbconvert_exporter": "python",
   "pygments_lexer": "ipython3",
   "version": "3.7.3"
  }
 },
 "nbformat": 4,
 "nbformat_minor": 2
}
