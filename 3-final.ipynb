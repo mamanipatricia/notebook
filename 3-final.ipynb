{
 "cells": [
  {
   "cell_type": "markdown",
   "metadata": {},
   "source": [
    "# MODEL\n"
   ]
  },
  {
   "cell_type": "code",
   "execution_count": 54,
   "metadata": {},
   "outputs": [],
   "source": [
    "import numpy as np\n",
    "import pandas as pd"
   ]
  },
  {
   "cell_type": "code",
   "execution_count": 55,
   "metadata": {},
   "outputs": [],
   "source": [
    "X = pd.read_csv('./X.csv')"
   ]
  },
  {
   "cell_type": "code",
   "execution_count": 56,
   "metadata": {},
   "outputs": [
    {
     "data": {
      "text/plain": [
       "Index(['amoblado', 'amount_max_bs', 'amount_max_usd', 'bathroom', 'baulera',\n",
       "       'bedroom', 'dimension', 'elevator', 'fee', 'fee_bnb_usd', 'fee_bs',\n",
       "       'fee_regular', 'fee_regular_bs', 'garage', 'id', 'id_type',\n",
       "       'id_type_offer', 'latitud', 'longitud', 'pool', 'price', 'status',\n",
       "       'year_built'],\n",
       "      dtype='object')"
      ]
     },
     "execution_count": 56,
     "metadata": {},
     "output_type": "execute_result"
    }
   ],
   "source": [
    "X.columns"
   ]
  },
  {
   "cell_type": "code",
   "execution_count": 57,
   "metadata": {},
   "outputs": [
    {
     "data": {
      "text/html": [
       "<div>\n",
       "<style scoped>\n",
       "    .dataframe tbody tr th:only-of-type {\n",
       "        vertical-align: middle;\n",
       "    }\n",
       "\n",
       "    .dataframe tbody tr th {\n",
       "        vertical-align: top;\n",
       "    }\n",
       "\n",
       "    .dataframe thead th {\n",
       "        text-align: right;\n",
       "    }\n",
       "</style>\n",
       "<table border=\"1\" class=\"dataframe\">\n",
       "  <thead>\n",
       "    <tr style=\"text-align: right;\">\n",
       "      <th></th>\n",
       "      <th>amoblado</th>\n",
       "      <th>amount_max_bs</th>\n",
       "      <th>amount_max_usd</th>\n",
       "      <th>bathroom</th>\n",
       "      <th>baulera</th>\n",
       "      <th>bedroom</th>\n",
       "      <th>dimension</th>\n",
       "      <th>elevator</th>\n",
       "      <th>fee</th>\n",
       "      <th>fee_bnb_usd</th>\n",
       "      <th>...</th>\n",
       "      <th>garage</th>\n",
       "      <th>id</th>\n",
       "      <th>id_type</th>\n",
       "      <th>id_type_offer</th>\n",
       "      <th>latitud</th>\n",
       "      <th>longitud</th>\n",
       "      <th>pool</th>\n",
       "      <th>price</th>\n",
       "      <th>status</th>\n",
       "      <th>year_built</th>\n",
       "    </tr>\n",
       "  </thead>\n",
       "  <tbody>\n",
       "    <tr>\n",
       "      <th>0</th>\n",
       "      <td>0</td>\n",
       "      <td>40002059.0</td>\n",
       "      <td>5831204.0</td>\n",
       "      <td>4.0</td>\n",
       "      <td>0</td>\n",
       "      <td>5.0</td>\n",
       "      <td>280</td>\n",
       "      <td>0</td>\n",
       "      <td>1881</td>\n",
       "      <td>NaN</td>\n",
       "      <td>...</td>\n",
       "      <td>4</td>\n",
       "      <td>537418</td>\n",
       "      <td>1</td>\n",
       "      <td>1</td>\n",
       "      <td>-16.521725</td>\n",
       "      <td>-68.060249</td>\n",
       "      <td>0</td>\n",
       "      <td>340000</td>\n",
       "      <td>2</td>\n",
       "      <td>2009.0</td>\n",
       "    </tr>\n",
       "    <tr>\n",
       "      <th>1</th>\n",
       "      <td>0</td>\n",
       "      <td>40002059.0</td>\n",
       "      <td>5831204.0</td>\n",
       "      <td>5.0</td>\n",
       "      <td>0</td>\n",
       "      <td>3.0</td>\n",
       "      <td>554</td>\n",
       "      <td>0</td>\n",
       "      <td>2545</td>\n",
       "      <td>NaN</td>\n",
       "      <td>...</td>\n",
       "      <td>5</td>\n",
       "      <td>539099</td>\n",
       "      <td>1</td>\n",
       "      <td>1</td>\n",
       "      <td>-16.514791</td>\n",
       "      <td>-68.058067</td>\n",
       "      <td>0</td>\n",
       "      <td>460000</td>\n",
       "      <td>2</td>\n",
       "      <td>2009.0</td>\n",
       "    </tr>\n",
       "    <tr>\n",
       "      <th>2</th>\n",
       "      <td>0</td>\n",
       "      <td>40002059.0</td>\n",
       "      <td>5831204.0</td>\n",
       "      <td>6.0</td>\n",
       "      <td>0</td>\n",
       "      <td>5.0</td>\n",
       "      <td>380</td>\n",
       "      <td>0</td>\n",
       "      <td>1815</td>\n",
       "      <td>2269.53</td>\n",
       "      <td>...</td>\n",
       "      <td>4</td>\n",
       "      <td>451025</td>\n",
       "      <td>1</td>\n",
       "      <td>1</td>\n",
       "      <td>-16.566566</td>\n",
       "      <td>-68.100983</td>\n",
       "      <td>0</td>\n",
       "      <td>328000</td>\n",
       "      <td>2</td>\n",
       "      <td>2015.0</td>\n",
       "    </tr>\n",
       "    <tr>\n",
       "      <th>3</th>\n",
       "      <td>0</td>\n",
       "      <td>40002059.0</td>\n",
       "      <td>5831204.0</td>\n",
       "      <td>4.0</td>\n",
       "      <td>0</td>\n",
       "      <td>3.0</td>\n",
       "      <td>271</td>\n",
       "      <td>0</td>\n",
       "      <td>1494</td>\n",
       "      <td>NaN</td>\n",
       "      <td>...</td>\n",
       "      <td>2</td>\n",
       "      <td>537017</td>\n",
       "      <td>1</td>\n",
       "      <td>1</td>\n",
       "      <td>-16.539755</td>\n",
       "      <td>-68.057640</td>\n",
       "      <td>0</td>\n",
       "      <td>270000</td>\n",
       "      <td>2</td>\n",
       "      <td>NaN</td>\n",
       "    </tr>\n",
       "  </tbody>\n",
       "</table>\n",
       "<p>4 rows × 23 columns</p>\n",
       "</div>"
      ],
      "text/plain": [
       "   amoblado  amount_max_bs  amount_max_usd  bathroom  baulera  bedroom  \\\n",
       "0         0     40002059.0       5831204.0       4.0        0      5.0   \n",
       "1         0     40002059.0       5831204.0       5.0        0      3.0   \n",
       "2         0     40002059.0       5831204.0       6.0        0      5.0   \n",
       "3         0     40002059.0       5831204.0       4.0        0      3.0   \n",
       "\n",
       "   dimension  elevator   fee  fee_bnb_usd     ...      garage      id  \\\n",
       "0        280         0  1881          NaN     ...           4  537418   \n",
       "1        554         0  2545          NaN     ...           5  539099   \n",
       "2        380         0  1815      2269.53     ...           4  451025   \n",
       "3        271         0  1494          NaN     ...           2  537017   \n",
       "\n",
       "   id_type  id_type_offer    latitud   longitud  pool   price  status  \\\n",
       "0        1              1 -16.521725 -68.060249     0  340000       2   \n",
       "1        1              1 -16.514791 -68.058067     0  460000       2   \n",
       "2        1              1 -16.566566 -68.100983     0  328000       2   \n",
       "3        1              1 -16.539755 -68.057640     0  270000       2   \n",
       "\n",
       "   year_built  \n",
       "0      2009.0  \n",
       "1      2009.0  \n",
       "2      2015.0  \n",
       "3         NaN  \n",
       "\n",
       "[4 rows x 23 columns]"
      ]
     },
     "execution_count": 57,
     "metadata": {},
     "output_type": "execute_result"
    }
   ],
   "source": [
    "X.head(4)"
   ]
  },
  {
   "cell_type": "code",
   "execution_count": 58,
   "metadata": {},
   "outputs": [
    {
     "data": {
      "text/plain": [
       "amoblado            int64\n",
       "amount_max_bs     float64\n",
       "amount_max_usd    float64\n",
       "bathroom          float64\n",
       "baulera             int64\n",
       "bedroom           float64\n",
       "dimension           int64\n",
       "elevator            int64\n",
       "fee                 int64\n",
       "fee_bnb_usd       float64\n",
       "fee_bs              int64\n",
       "fee_regular         int64\n",
       "fee_regular_bs      int64\n",
       "garage              int64\n",
       "id                  int64\n",
       "id_type             int64\n",
       "id_type_offer       int64\n",
       "latitud           float64\n",
       "longitud          float64\n",
       "pool                int64\n",
       "price               int64\n",
       "status              int64\n",
       "year_built        float64\n",
       "dtype: object"
      ]
     },
     "execution_count": 58,
     "metadata": {},
     "output_type": "execute_result"
    }
   ],
   "source": [
    "X.dtypes"
   ]
  },
  {
   "cell_type": "code",
   "execution_count": 59,
   "metadata": {},
   "outputs": [],
   "source": [
    "X= X.drop(['amount_max_bs', 'amount_max_usd', 'fee', 'fee_bnb_usd', 'fee_bs','fee_regular', 'fee_regular_bs', 'elevator', 'id_type_offer'], axis = 1)"
   ]
  },
  {
   "cell_type": "code",
   "execution_count": 60,
   "metadata": {},
   "outputs": [
    {
     "data": {
      "text/html": [
       "<div>\n",
       "<style scoped>\n",
       "    .dataframe tbody tr th:only-of-type {\n",
       "        vertical-align: middle;\n",
       "    }\n",
       "\n",
       "    .dataframe tbody tr th {\n",
       "        vertical-align: top;\n",
       "    }\n",
       "\n",
       "    .dataframe thead th {\n",
       "        text-align: right;\n",
       "    }\n",
       "</style>\n",
       "<table border=\"1\" class=\"dataframe\">\n",
       "  <thead>\n",
       "    <tr style=\"text-align: right;\">\n",
       "      <th></th>\n",
       "      <th>amoblado</th>\n",
       "      <th>bathroom</th>\n",
       "      <th>baulera</th>\n",
       "      <th>bedroom</th>\n",
       "      <th>dimension</th>\n",
       "      <th>garage</th>\n",
       "      <th>id</th>\n",
       "      <th>id_type</th>\n",
       "      <th>latitud</th>\n",
       "      <th>longitud</th>\n",
       "      <th>pool</th>\n",
       "      <th>price</th>\n",
       "      <th>status</th>\n",
       "      <th>year_built</th>\n",
       "    </tr>\n",
       "  </thead>\n",
       "  <tbody>\n",
       "    <tr>\n",
       "      <th>0</th>\n",
       "      <td>0</td>\n",
       "      <td>4.0</td>\n",
       "      <td>0</td>\n",
       "      <td>5.0</td>\n",
       "      <td>280</td>\n",
       "      <td>4</td>\n",
       "      <td>537418</td>\n",
       "      <td>1</td>\n",
       "      <td>-16.521725</td>\n",
       "      <td>-68.060249</td>\n",
       "      <td>0</td>\n",
       "      <td>340000</td>\n",
       "      <td>2</td>\n",
       "      <td>2009.0</td>\n",
       "    </tr>\n",
       "    <tr>\n",
       "      <th>1</th>\n",
       "      <td>0</td>\n",
       "      <td>5.0</td>\n",
       "      <td>0</td>\n",
       "      <td>3.0</td>\n",
       "      <td>554</td>\n",
       "      <td>5</td>\n",
       "      <td>539099</td>\n",
       "      <td>1</td>\n",
       "      <td>-16.514791</td>\n",
       "      <td>-68.058067</td>\n",
       "      <td>0</td>\n",
       "      <td>460000</td>\n",
       "      <td>2</td>\n",
       "      <td>2009.0</td>\n",
       "    </tr>\n",
       "    <tr>\n",
       "      <th>2</th>\n",
       "      <td>0</td>\n",
       "      <td>6.0</td>\n",
       "      <td>0</td>\n",
       "      <td>5.0</td>\n",
       "      <td>380</td>\n",
       "      <td>4</td>\n",
       "      <td>451025</td>\n",
       "      <td>1</td>\n",
       "      <td>-16.566566</td>\n",
       "      <td>-68.100983</td>\n",
       "      <td>0</td>\n",
       "      <td>328000</td>\n",
       "      <td>2</td>\n",
       "      <td>2015.0</td>\n",
       "    </tr>\n",
       "    <tr>\n",
       "      <th>3</th>\n",
       "      <td>0</td>\n",
       "      <td>4.0</td>\n",
       "      <td>0</td>\n",
       "      <td>3.0</td>\n",
       "      <td>271</td>\n",
       "      <td>2</td>\n",
       "      <td>537017</td>\n",
       "      <td>1</td>\n",
       "      <td>-16.539755</td>\n",
       "      <td>-68.057640</td>\n",
       "      <td>0</td>\n",
       "      <td>270000</td>\n",
       "      <td>2</td>\n",
       "      <td>NaN</td>\n",
       "    </tr>\n",
       "    <tr>\n",
       "      <th>4</th>\n",
       "      <td>0</td>\n",
       "      <td>6.0</td>\n",
       "      <td>0</td>\n",
       "      <td>4.0</td>\n",
       "      <td>320</td>\n",
       "      <td>4</td>\n",
       "      <td>539274</td>\n",
       "      <td>1</td>\n",
       "      <td>-16.547251</td>\n",
       "      <td>-68.077873</td>\n",
       "      <td>0</td>\n",
       "      <td>420000</td>\n",
       "      <td>1</td>\n",
       "      <td>NaN</td>\n",
       "    </tr>\n",
       "  </tbody>\n",
       "</table>\n",
       "</div>"
      ],
      "text/plain": [
       "   amoblado  bathroom  baulera  bedroom  dimension  garage      id  id_type  \\\n",
       "0         0       4.0        0      5.0        280       4  537418        1   \n",
       "1         0       5.0        0      3.0        554       5  539099        1   \n",
       "2         0       6.0        0      5.0        380       4  451025        1   \n",
       "3         0       4.0        0      3.0        271       2  537017        1   \n",
       "4         0       6.0        0      4.0        320       4  539274        1   \n",
       "\n",
       "     latitud   longitud  pool   price  status  year_built  \n",
       "0 -16.521725 -68.060249     0  340000       2      2009.0  \n",
       "1 -16.514791 -68.058067     0  460000       2      2009.0  \n",
       "2 -16.566566 -68.100983     0  328000       2      2015.0  \n",
       "3 -16.539755 -68.057640     0  270000       2         NaN  \n",
       "4 -16.547251 -68.077873     0  420000       1         NaN  "
      ]
     },
     "execution_count": 60,
     "metadata": {},
     "output_type": "execute_result"
    }
   ],
   "source": [
    "X.head()"
   ]
  },
  {
   "cell_type": "code",
   "execution_count": 61,
   "metadata": {},
   "outputs": [
    {
     "data": {
      "text/plain": [
       "0              340000\n",
       "1              460000\n",
       "2              328000\n",
       "3              270000\n",
       "4              420000\n",
       "5              600000\n",
       "6              300000\n",
       "7              483000\n",
       "8              285000\n",
       "9              780000\n",
       "10             277000\n",
       "11             390000\n",
       "12             656000\n",
       "13             250000\n",
       "14             220000\n",
       "15             215000\n",
       "16             110000\n",
       "17             220000\n",
       "18             750000\n",
       "19             100000\n",
       "20             630000\n",
       "21             850000\n",
       "22             510000\n",
       "23             465000\n",
       "24             320000\n",
       "25             280000\n",
       "26             370000\n",
       "27     10000000000000\n",
       "28             980000\n",
       "29             395000\n",
       "            ...      \n",
       "793               650\n",
       "794              2200\n",
       "795              1200\n",
       "796              2000\n",
       "797              1200\n",
       "798              1300\n",
       "799              2500\n",
       "800              1600\n",
       "801              1200\n",
       "802              4000\n",
       "803              1800\n",
       "804              1100\n",
       "805              1200\n",
       "806              1000\n",
       "807              1500\n",
       "808              2000\n",
       "809               750\n",
       "810               750\n",
       "811              1000\n",
       "812               900\n",
       "813              1200\n",
       "814              2000\n",
       "815              1200\n",
       "816              1600\n",
       "817              1000\n",
       "818              1800\n",
       "819              2700\n",
       "820              2300\n",
       "821               600\n",
       "822              1000\n",
       "Name: price, Length: 823, dtype: int64"
      ]
     },
     "execution_count": 61,
     "metadata": {},
     "output_type": "execute_result"
    }
   ],
   "source": [
    "X['price']"
   ]
  },
  {
   "cell_type": "markdown",
   "metadata": {},
   "source": [
    "# BORRANDO FILAS "
   ]
  },
  {
   "cell_type": "code",
   "execution_count": null,
   "metadata": {},
   "outputs": [],
   "source": []
  },
  {
   "cell_type": "code",
   "execution_count": null,
   "metadata": {},
   "outputs": [],
   "source": []
  },
  {
   "cell_type": "code",
   "execution_count": null,
   "metadata": {},
   "outputs": [],
   "source": []
  },
  {
   "cell_type": "markdown",
   "metadata": {},
   "source": [
    "### **IMPUTACION**"
   ]
  },
  {
   "cell_type": "code",
   "execution_count": 8,
   "metadata": {},
   "outputs": [
    {
     "data": {
      "text/plain": [
       "<function pandas.core.base.IndexOpsMixin.value_counts(self, normalize=False, sort=True, ascending=False, bins=None, dropna=True)>"
      ]
     },
     "execution_count": 8,
     "metadata": {},
     "output_type": "execute_result"
    }
   ],
   "source": [
    "pd.Series.value_counts"
   ]
  },
  {
   "cell_type": "code",
   "execution_count": 9,
   "metadata": {},
   "outputs": [],
   "source": [
    "# XX=X"
   ]
  },
  {
   "cell_type": "code",
   "execution_count": 10,
   "metadata": {},
   "outputs": [
    {
     "data": {
      "text/html": [
       "<div>\n",
       "<style scoped>\n",
       "    .dataframe tbody tr th:only-of-type {\n",
       "        vertical-align: middle;\n",
       "    }\n",
       "\n",
       "    .dataframe tbody tr th {\n",
       "        vertical-align: top;\n",
       "    }\n",
       "\n",
       "    .dataframe thead th {\n",
       "        text-align: right;\n",
       "    }\n",
       "</style>\n",
       "<table border=\"1\" class=\"dataframe\">\n",
       "  <thead>\n",
       "    <tr style=\"text-align: right;\">\n",
       "      <th></th>\n",
       "      <th>amoblado</th>\n",
       "      <th>bathroom</th>\n",
       "      <th>baulera</th>\n",
       "      <th>bedroom</th>\n",
       "      <th>dimension</th>\n",
       "      <th>garage</th>\n",
       "      <th>id</th>\n",
       "      <th>id_type</th>\n",
       "      <th>latitud</th>\n",
       "      <th>longitud</th>\n",
       "      <th>pool</th>\n",
       "      <th>price</th>\n",
       "      <th>status</th>\n",
       "      <th>year_built</th>\n",
       "    </tr>\n",
       "  </thead>\n",
       "  <tbody>\n",
       "    <tr>\n",
       "      <th>False</th>\n",
       "      <td>NaN</td>\n",
       "      <td>9</td>\n",
       "      <td>NaN</td>\n",
       "      <td>9</td>\n",
       "      <td>NaN</td>\n",
       "      <td>NaN</td>\n",
       "      <td>NaN</td>\n",
       "      <td>NaN</td>\n",
       "      <td>NaN</td>\n",
       "      <td>NaN</td>\n",
       "      <td>NaN</td>\n",
       "      <td>NaN</td>\n",
       "      <td>NaN</td>\n",
       "      <td>482</td>\n",
       "    </tr>\n",
       "    <tr>\n",
       "      <th>True</th>\n",
       "      <td>823.0</td>\n",
       "      <td>814</td>\n",
       "      <td>823.0</td>\n",
       "      <td>814</td>\n",
       "      <td>823.0</td>\n",
       "      <td>823.0</td>\n",
       "      <td>823.0</td>\n",
       "      <td>823.0</td>\n",
       "      <td>823.0</td>\n",
       "      <td>823.0</td>\n",
       "      <td>823.0</td>\n",
       "      <td>823.0</td>\n",
       "      <td>823.0</td>\n",
       "      <td>341</td>\n",
       "    </tr>\n",
       "  </tbody>\n",
       "</table>\n",
       "</div>"
      ],
      "text/plain": [
       "       amoblado  bathroom  baulera  bedroom  dimension  garage     id  \\\n",
       "False       NaN         9      NaN        9        NaN     NaN    NaN   \n",
       "True      823.0       814    823.0      814      823.0   823.0  823.0   \n",
       "\n",
       "       id_type  latitud  longitud   pool  price  status  year_built  \n",
       "False      NaN      NaN       NaN    NaN    NaN     NaN         482  \n",
       "True     823.0    823.0     823.0  823.0  823.0   823.0         341  "
      ]
     },
     "execution_count": 10,
     "metadata": {},
     "output_type": "execute_result"
    }
   ],
   "source": [
    "# CON PANDAS, notnull = es un metodo\n",
    "# apply = reemplaza en los dataframes, en vez de hacer for loop\n",
    "X.notnull().apply(pd.Series.value_counts)\n"
   ]
  },
  {
   "cell_type": "code",
   "execution_count": 11,
   "metadata": {},
   "outputs": [
    {
     "data": {
      "text/plain": [
       "False    823\n",
       "dtype: int64"
      ]
     },
     "execution_count": 11,
     "metadata": {},
     "output_type": "execute_result"
    }
   ],
   "source": [
    "available = ((X != 0) &(X.notnull()))\n",
    "# revisa todas las lineas, revisa todo sos valores que tengan falsos\n",
    "#available.all(axis=1)\n",
    "available.all(axis=1).value_counts()"
   ]
  },
  {
   "cell_type": "code",
   "execution_count": 12,
   "metadata": {},
   "outputs": [
    {
     "data": {
      "text/plain": [
       "True    823\n",
       "Name: price, dtype: int64"
      ]
     },
     "execution_count": 12,
     "metadata": {},
     "output_type": "execute_result"
    }
   ],
   "source": [
    "#REVISAR!\n",
    "((X != 0) & (X.notnull())).price.value_counts()"
   ]
  },
  {
   "cell_type": "code",
   "execution_count": 13,
   "metadata": {},
   "outputs": [
    {
     "name": "stderr",
     "output_type": "stream",
     "text": [
      "/opt/anaconda/lib/python3.7/site-packages/sklearn/utils/deprecation.py:58: DeprecationWarning: Class Imputer is deprecated; Imputer was deprecated in version 0.20 and will be removed in 0.22. Import impute.SimpleImputer from sklearn instead.\n",
      "  warnings.warn(msg, category=DeprecationWarning)\n"
     ]
    }
   ],
   "source": [
    "from sklearn.preprocessing import Imputer\n",
    "# tomandola media de las columnas para adicionar alos faltantes\n",
    "imputer = Imputer(missing_values=np.nan, strategy='mean', axis=1)"
   ]
  },
  {
   "cell_type": "code",
   "execution_count": 14,
   "metadata": {},
   "outputs": [],
   "source": [
    "# metodo clasicos en todos los objetos de sckit learn\n",
    "# REEMPLAZANDO LOS VALORES GRACIAS AL IMPUTER DE SCKIT LEARN\n",
    "values = imputer.fit_transform(X)"
   ]
  },
  {
   "cell_type": "code",
   "execution_count": 15,
   "metadata": {},
   "outputs": [
    {
     "data": {
      "text/plain": [
       "array([[0.00000000e+00, 4.00000000e+00, 0.00000000e+00, ...,\n",
       "        3.40000000e+05, 2.00000000e+00, 2.00900000e+03],\n",
       "       [0.00000000e+00, 5.00000000e+00, 0.00000000e+00, ...,\n",
       "        4.60000000e+05, 2.00000000e+00, 2.00900000e+03],\n",
       "       [0.00000000e+00, 6.00000000e+00, 0.00000000e+00, ...,\n",
       "        3.28000000e+05, 2.00000000e+00, 2.01500000e+03],\n",
       "       ...,\n",
       "       [0.00000000e+00, 4.00000000e+00, 0.00000000e+00, ...,\n",
       "        2.30000000e+03, 2.00000000e+00, 4.14540313e+04],\n",
       "       [0.00000000e+00, 4.00000000e+00, 0.00000000e+00, ...,\n",
       "        6.00000000e+02, 2.00000000e+00, 4.12442589e+04],\n",
       "       [0.00000000e+00, 2.00000000e+00, 0.00000000e+00, ...,\n",
       "        1.00000000e+03, 2.00000000e+00, 1.98500000e+03]])"
      ]
     },
     "execution_count": 15,
     "metadata": {},
     "output_type": "execute_result"
    }
   ],
   "source": [
    "values"
   ]
  },
  {
   "cell_type": "code",
   "execution_count": 16,
   "metadata": {},
   "outputs": [
    {
     "data": {
      "text/plain": [
       "array([[0.000e+00, 4.000e+00, 0.000e+00, ..., 3.400e+05, 2.000e+00,\n",
       "        2.009e+03],\n",
       "       [0.000e+00, 5.000e+00, 0.000e+00, ..., 4.600e+05, 2.000e+00,\n",
       "        2.009e+03],\n",
       "       [0.000e+00, 6.000e+00, 0.000e+00, ..., 3.280e+05, 2.000e+00,\n",
       "        2.015e+03],\n",
       "       ...,\n",
       "       [0.000e+00, 4.000e+00, 0.000e+00, ..., 2.300e+03, 2.000e+00,\n",
       "              nan],\n",
       "       [0.000e+00, 4.000e+00, 0.000e+00, ..., 6.000e+02, 2.000e+00,\n",
       "              nan],\n",
       "       [0.000e+00, 2.000e+00, 0.000e+00, ..., 1.000e+03, 2.000e+00,\n",
       "        1.985e+03]])"
      ]
     },
     "execution_count": 16,
     "metadata": {},
     "output_type": "execute_result"
    }
   ],
   "source": [
    "# datos con NaNs...\n",
    "X.values"
   ]
  },
  {
   "cell_type": "code",
   "execution_count": 17,
   "metadata": {},
   "outputs": [],
   "source": [
    "# llevando este array a un Dataframe\n",
    "XX = pd.DataFrame(values)"
   ]
  },
  {
   "cell_type": "code",
   "execution_count": 18,
   "metadata": {},
   "outputs": [
    {
     "data": {
      "text/html": [
       "<div>\n",
       "<style scoped>\n",
       "    .dataframe tbody tr th:only-of-type {\n",
       "        vertical-align: middle;\n",
       "    }\n",
       "\n",
       "    .dataframe tbody tr th {\n",
       "        vertical-align: top;\n",
       "    }\n",
       "\n",
       "    .dataframe thead th {\n",
       "        text-align: right;\n",
       "    }\n",
       "</style>\n",
       "<table border=\"1\" class=\"dataframe\">\n",
       "  <thead>\n",
       "    <tr style=\"text-align: right;\">\n",
       "      <th></th>\n",
       "      <th>0</th>\n",
       "      <th>1</th>\n",
       "      <th>2</th>\n",
       "      <th>3</th>\n",
       "      <th>4</th>\n",
       "      <th>5</th>\n",
       "      <th>6</th>\n",
       "      <th>7</th>\n",
       "      <th>8</th>\n",
       "      <th>9</th>\n",
       "      <th>10</th>\n",
       "      <th>11</th>\n",
       "      <th>12</th>\n",
       "      <th>13</th>\n",
       "    </tr>\n",
       "  </thead>\n",
       "  <tbody>\n",
       "    <tr>\n",
       "      <th>0</th>\n",
       "      <td>0.0</td>\n",
       "      <td>4.0</td>\n",
       "      <td>0.0</td>\n",
       "      <td>5.0</td>\n",
       "      <td>280.0</td>\n",
       "      <td>4.0</td>\n",
       "      <td>537418.0</td>\n",
       "      <td>1.0</td>\n",
       "      <td>-16.521725</td>\n",
       "      <td>-68.060249</td>\n",
       "      <td>0.0</td>\n",
       "      <td>340000.0</td>\n",
       "      <td>2.0</td>\n",
       "      <td>2009.000000</td>\n",
       "    </tr>\n",
       "    <tr>\n",
       "      <th>1</th>\n",
       "      <td>0.0</td>\n",
       "      <td>5.0</td>\n",
       "      <td>0.0</td>\n",
       "      <td>3.0</td>\n",
       "      <td>554.0</td>\n",
       "      <td>5.0</td>\n",
       "      <td>539099.0</td>\n",
       "      <td>1.0</td>\n",
       "      <td>-16.514791</td>\n",
       "      <td>-68.058067</td>\n",
       "      <td>0.0</td>\n",
       "      <td>460000.0</td>\n",
       "      <td>2.0</td>\n",
       "      <td>2009.000000</td>\n",
       "    </tr>\n",
       "    <tr>\n",
       "      <th>2</th>\n",
       "      <td>0.0</td>\n",
       "      <td>6.0</td>\n",
       "      <td>0.0</td>\n",
       "      <td>5.0</td>\n",
       "      <td>380.0</td>\n",
       "      <td>4.0</td>\n",
       "      <td>451025.0</td>\n",
       "      <td>1.0</td>\n",
       "      <td>-16.566566</td>\n",
       "      <td>-68.100983</td>\n",
       "      <td>0.0</td>\n",
       "      <td>328000.0</td>\n",
       "      <td>2.0</td>\n",
       "      <td>2015.000000</td>\n",
       "    </tr>\n",
       "    <tr>\n",
       "      <th>3</th>\n",
       "      <td>0.0</td>\n",
       "      <td>4.0</td>\n",
       "      <td>0.0</td>\n",
       "      <td>3.0</td>\n",
       "      <td>271.0</td>\n",
       "      <td>2.0</td>\n",
       "      <td>537017.0</td>\n",
       "      <td>1.0</td>\n",
       "      <td>-16.539755</td>\n",
       "      <td>-68.057640</td>\n",
       "      <td>0.0</td>\n",
       "      <td>270000.0</td>\n",
       "      <td>2.0</td>\n",
       "      <td>62093.492508</td>\n",
       "    </tr>\n",
       "    <tr>\n",
       "      <th>4</th>\n",
       "      <td>0.0</td>\n",
       "      <td>6.0</td>\n",
       "      <td>0.0</td>\n",
       "      <td>4.0</td>\n",
       "      <td>320.0</td>\n",
       "      <td>4.0</td>\n",
       "      <td>539274.0</td>\n",
       "      <td>1.0</td>\n",
       "      <td>-16.547251</td>\n",
       "      <td>-68.077873</td>\n",
       "      <td>0.0</td>\n",
       "      <td>420000.0</td>\n",
       "      <td>1.0</td>\n",
       "      <td>73809.644221</td>\n",
       "    </tr>\n",
       "  </tbody>\n",
       "</table>\n",
       "</div>"
      ],
      "text/plain": [
       "    0    1    2    3      4    5         6    7          8          9    10  \\\n",
       "0  0.0  4.0  0.0  5.0  280.0  4.0  537418.0  1.0 -16.521725 -68.060249  0.0   \n",
       "1  0.0  5.0  0.0  3.0  554.0  5.0  539099.0  1.0 -16.514791 -68.058067  0.0   \n",
       "2  0.0  6.0  0.0  5.0  380.0  4.0  451025.0  1.0 -16.566566 -68.100983  0.0   \n",
       "3  0.0  4.0  0.0  3.0  271.0  2.0  537017.0  1.0 -16.539755 -68.057640  0.0   \n",
       "4  0.0  6.0  0.0  4.0  320.0  4.0  539274.0  1.0 -16.547251 -68.077873  0.0   \n",
       "\n",
       "         11   12            13  \n",
       "0  340000.0  2.0   2009.000000  \n",
       "1  460000.0  2.0   2009.000000  \n",
       "2  328000.0  2.0   2015.000000  \n",
       "3  270000.0  2.0  62093.492508  \n",
       "4  420000.0  1.0  73809.644221  "
      ]
     },
     "execution_count": 18,
     "metadata": {},
     "output_type": "execute_result"
    }
   ],
   "source": [
    "XX.head()"
   ]
  },
  {
   "cell_type": "code",
   "execution_count": null,
   "metadata": {},
   "outputs": [],
   "source": []
  },
  {
   "cell_type": "code",
   "execution_count": 19,
   "metadata": {},
   "outputs": [],
   "source": [
    "DF=XX"
   ]
  },
  {
   "cell_type": "code",
   "execution_count": 20,
   "metadata": {},
   "outputs": [
    {
     "data": {
      "text/html": [
       "<div>\n",
       "<style scoped>\n",
       "    .dataframe tbody tr th:only-of-type {\n",
       "        vertical-align: middle;\n",
       "    }\n",
       "\n",
       "    .dataframe tbody tr th {\n",
       "        vertical-align: top;\n",
       "    }\n",
       "\n",
       "    .dataframe thead th {\n",
       "        text-align: right;\n",
       "    }\n",
       "</style>\n",
       "<table border=\"1\" class=\"dataframe\">\n",
       "  <thead>\n",
       "    <tr style=\"text-align: right;\">\n",
       "      <th></th>\n",
       "      <th>0</th>\n",
       "      <th>1</th>\n",
       "      <th>2</th>\n",
       "      <th>3</th>\n",
       "      <th>4</th>\n",
       "      <th>5</th>\n",
       "      <th>6</th>\n",
       "      <th>7</th>\n",
       "      <th>8</th>\n",
       "      <th>9</th>\n",
       "      <th>10</th>\n",
       "      <th>11</th>\n",
       "      <th>12</th>\n",
       "      <th>13</th>\n",
       "    </tr>\n",
       "  </thead>\n",
       "  <tbody>\n",
       "    <tr>\n",
       "      <th>0</th>\n",
       "      <td>0.0</td>\n",
       "      <td>4.0</td>\n",
       "      <td>0.0</td>\n",
       "      <td>5.0</td>\n",
       "      <td>280.0</td>\n",
       "      <td>4.0</td>\n",
       "      <td>537418.0</td>\n",
       "      <td>1.0</td>\n",
       "      <td>-16.521725</td>\n",
       "      <td>-68.060249</td>\n",
       "      <td>0.0</td>\n",
       "      <td>340000.0</td>\n",
       "      <td>2.0</td>\n",
       "      <td>2009.000000</td>\n",
       "    </tr>\n",
       "    <tr>\n",
       "      <th>1</th>\n",
       "      <td>0.0</td>\n",
       "      <td>5.0</td>\n",
       "      <td>0.0</td>\n",
       "      <td>3.0</td>\n",
       "      <td>554.0</td>\n",
       "      <td>5.0</td>\n",
       "      <td>539099.0</td>\n",
       "      <td>1.0</td>\n",
       "      <td>-16.514791</td>\n",
       "      <td>-68.058067</td>\n",
       "      <td>0.0</td>\n",
       "      <td>460000.0</td>\n",
       "      <td>2.0</td>\n",
       "      <td>2009.000000</td>\n",
       "    </tr>\n",
       "    <tr>\n",
       "      <th>2</th>\n",
       "      <td>0.0</td>\n",
       "      <td>6.0</td>\n",
       "      <td>0.0</td>\n",
       "      <td>5.0</td>\n",
       "      <td>380.0</td>\n",
       "      <td>4.0</td>\n",
       "      <td>451025.0</td>\n",
       "      <td>1.0</td>\n",
       "      <td>-16.566566</td>\n",
       "      <td>-68.100983</td>\n",
       "      <td>0.0</td>\n",
       "      <td>328000.0</td>\n",
       "      <td>2.0</td>\n",
       "      <td>2015.000000</td>\n",
       "    </tr>\n",
       "    <tr>\n",
       "      <th>3</th>\n",
       "      <td>0.0</td>\n",
       "      <td>4.0</td>\n",
       "      <td>0.0</td>\n",
       "      <td>3.0</td>\n",
       "      <td>271.0</td>\n",
       "      <td>2.0</td>\n",
       "      <td>537017.0</td>\n",
       "      <td>1.0</td>\n",
       "      <td>-16.539755</td>\n",
       "      <td>-68.057640</td>\n",
       "      <td>0.0</td>\n",
       "      <td>270000.0</td>\n",
       "      <td>2.0</td>\n",
       "      <td>62093.492508</td>\n",
       "    </tr>\n",
       "    <tr>\n",
       "      <th>4</th>\n",
       "      <td>0.0</td>\n",
       "      <td>6.0</td>\n",
       "      <td>0.0</td>\n",
       "      <td>4.0</td>\n",
       "      <td>320.0</td>\n",
       "      <td>4.0</td>\n",
       "      <td>539274.0</td>\n",
       "      <td>1.0</td>\n",
       "      <td>-16.547251</td>\n",
       "      <td>-68.077873</td>\n",
       "      <td>0.0</td>\n",
       "      <td>420000.0</td>\n",
       "      <td>1.0</td>\n",
       "      <td>73809.644221</td>\n",
       "    </tr>\n",
       "  </tbody>\n",
       "</table>\n",
       "</div>"
      ],
      "text/plain": [
       "    0    1    2    3      4    5         6    7          8          9    10  \\\n",
       "0  0.0  4.0  0.0  5.0  280.0  4.0  537418.0  1.0 -16.521725 -68.060249  0.0   \n",
       "1  0.0  5.0  0.0  3.0  554.0  5.0  539099.0  1.0 -16.514791 -68.058067  0.0   \n",
       "2  0.0  6.0  0.0  5.0  380.0  4.0  451025.0  1.0 -16.566566 -68.100983  0.0   \n",
       "3  0.0  4.0  0.0  3.0  271.0  2.0  537017.0  1.0 -16.539755 -68.057640  0.0   \n",
       "4  0.0  6.0  0.0  4.0  320.0  4.0  539274.0  1.0 -16.547251 -68.077873  0.0   \n",
       "\n",
       "         11   12            13  \n",
       "0  340000.0  2.0   2009.000000  \n",
       "1  460000.0  2.0   2009.000000  \n",
       "2  328000.0  2.0   2015.000000  \n",
       "3  270000.0  2.0  62093.492508  \n",
       "4  420000.0  1.0  73809.644221  "
      ]
     },
     "execution_count": 20,
     "metadata": {},
     "output_type": "execute_result"
    }
   ],
   "source": [
    "DF.head()"
   ]
  },
  {
   "cell_type": "markdown",
   "metadata": {},
   "source": [
    "### **NO ADDED LABELS TO DATASET**"
   ]
  },
  {
   "cell_type": "code",
   "execution_count": 21,
   "metadata": {},
   "outputs": [],
   "source": [
    "# X.columns = XX.columns"
   ]
  },
  {
   "cell_type": "code",
   "execution_count": 22,
   "metadata": {},
   "outputs": [],
   "source": [
    "# X.index = XX.index"
   ]
  },
  {
   "cell_type": "code",
   "execution_count": 23,
   "metadata": {},
   "outputs": [],
   "source": [
    "Y = DF[11]"
   ]
  },
  {
   "cell_type": "code",
   "execution_count": 24,
   "metadata": {},
   "outputs": [
    {
     "data": {
      "text/plain": [
       "0    340000.0\n",
       "1    460000.0\n",
       "2    328000.0\n",
       "3    270000.0\n",
       "4    420000.0\n",
       "Name: 11, dtype: float64"
      ]
     },
     "execution_count": 24,
     "metadata": {},
     "output_type": "execute_result"
    }
   ],
   "source": [
    "Y.head()"
   ]
  },
  {
   "cell_type": "code",
   "execution_count": 25,
   "metadata": {},
   "outputs": [
    {
     "data": {
      "text/html": [
       "<div>\n",
       "<style scoped>\n",
       "    .dataframe tbody tr th:only-of-type {\n",
       "        vertical-align: middle;\n",
       "    }\n",
       "\n",
       "    .dataframe tbody tr th {\n",
       "        vertical-align: top;\n",
       "    }\n",
       "\n",
       "    .dataframe thead th {\n",
       "        text-align: right;\n",
       "    }\n",
       "</style>\n",
       "<table border=\"1\" class=\"dataframe\">\n",
       "  <thead>\n",
       "    <tr style=\"text-align: right;\">\n",
       "      <th></th>\n",
       "      <th>0</th>\n",
       "      <th>1</th>\n",
       "      <th>2</th>\n",
       "      <th>3</th>\n",
       "      <th>4</th>\n",
       "      <th>5</th>\n",
       "      <th>6</th>\n",
       "      <th>7</th>\n",
       "      <th>8</th>\n",
       "      <th>9</th>\n",
       "      <th>10</th>\n",
       "      <th>11</th>\n",
       "      <th>12</th>\n",
       "      <th>13</th>\n",
       "    </tr>\n",
       "  </thead>\n",
       "  <tbody>\n",
       "    <tr>\n",
       "      <th>0</th>\n",
       "      <td>0.0</td>\n",
       "      <td>4.0</td>\n",
       "      <td>0.0</td>\n",
       "      <td>5.0</td>\n",
       "      <td>280.0</td>\n",
       "      <td>4.0</td>\n",
       "      <td>537418.0</td>\n",
       "      <td>1.0</td>\n",
       "      <td>-16.521725</td>\n",
       "      <td>-68.060249</td>\n",
       "      <td>0.0</td>\n",
       "      <td>340000.0</td>\n",
       "      <td>2.0</td>\n",
       "      <td>2009.000000</td>\n",
       "    </tr>\n",
       "    <tr>\n",
       "      <th>1</th>\n",
       "      <td>0.0</td>\n",
       "      <td>5.0</td>\n",
       "      <td>0.0</td>\n",
       "      <td>3.0</td>\n",
       "      <td>554.0</td>\n",
       "      <td>5.0</td>\n",
       "      <td>539099.0</td>\n",
       "      <td>1.0</td>\n",
       "      <td>-16.514791</td>\n",
       "      <td>-68.058067</td>\n",
       "      <td>0.0</td>\n",
       "      <td>460000.0</td>\n",
       "      <td>2.0</td>\n",
       "      <td>2009.000000</td>\n",
       "    </tr>\n",
       "    <tr>\n",
       "      <th>2</th>\n",
       "      <td>0.0</td>\n",
       "      <td>6.0</td>\n",
       "      <td>0.0</td>\n",
       "      <td>5.0</td>\n",
       "      <td>380.0</td>\n",
       "      <td>4.0</td>\n",
       "      <td>451025.0</td>\n",
       "      <td>1.0</td>\n",
       "      <td>-16.566566</td>\n",
       "      <td>-68.100983</td>\n",
       "      <td>0.0</td>\n",
       "      <td>328000.0</td>\n",
       "      <td>2.0</td>\n",
       "      <td>2015.000000</td>\n",
       "    </tr>\n",
       "    <tr>\n",
       "      <th>3</th>\n",
       "      <td>0.0</td>\n",
       "      <td>4.0</td>\n",
       "      <td>0.0</td>\n",
       "      <td>3.0</td>\n",
       "      <td>271.0</td>\n",
       "      <td>2.0</td>\n",
       "      <td>537017.0</td>\n",
       "      <td>1.0</td>\n",
       "      <td>-16.539755</td>\n",
       "      <td>-68.057640</td>\n",
       "      <td>0.0</td>\n",
       "      <td>270000.0</td>\n",
       "      <td>2.0</td>\n",
       "      <td>62093.492508</td>\n",
       "    </tr>\n",
       "    <tr>\n",
       "      <th>4</th>\n",
       "      <td>0.0</td>\n",
       "      <td>6.0</td>\n",
       "      <td>0.0</td>\n",
       "      <td>4.0</td>\n",
       "      <td>320.0</td>\n",
       "      <td>4.0</td>\n",
       "      <td>539274.0</td>\n",
       "      <td>1.0</td>\n",
       "      <td>-16.547251</td>\n",
       "      <td>-68.077873</td>\n",
       "      <td>0.0</td>\n",
       "      <td>420000.0</td>\n",
       "      <td>1.0</td>\n",
       "      <td>73809.644221</td>\n",
       "    </tr>\n",
       "  </tbody>\n",
       "</table>\n",
       "</div>"
      ],
      "text/plain": [
       "    0    1    2    3      4    5         6    7          8          9    10  \\\n",
       "0  0.0  4.0  0.0  5.0  280.0  4.0  537418.0  1.0 -16.521725 -68.060249  0.0   \n",
       "1  0.0  5.0  0.0  3.0  554.0  5.0  539099.0  1.0 -16.514791 -68.058067  0.0   \n",
       "2  0.0  6.0  0.0  5.0  380.0  4.0  451025.0  1.0 -16.566566 -68.100983  0.0   \n",
       "3  0.0  4.0  0.0  3.0  271.0  2.0  537017.0  1.0 -16.539755 -68.057640  0.0   \n",
       "4  0.0  6.0  0.0  4.0  320.0  4.0  539274.0  1.0 -16.547251 -68.077873  0.0   \n",
       "\n",
       "         11   12            13  \n",
       "0  340000.0  2.0   2009.000000  \n",
       "1  460000.0  2.0   2009.000000  \n",
       "2  328000.0  2.0   2015.000000  \n",
       "3  270000.0  2.0  62093.492508  \n",
       "4  420000.0  1.0  73809.644221  "
      ]
     },
     "execution_count": 25,
     "metadata": {},
     "output_type": "execute_result"
    }
   ],
   "source": [
    "DF.head()"
   ]
  },
  {
   "cell_type": "code",
   "execution_count": 26,
   "metadata": {},
   "outputs": [],
   "source": [
    "# ELIMINANDO LA COLUMNA \"price\" DE X(dataset)\n",
    "DF = DF.drop(11, axis = 1)"
   ]
  },
  {
   "cell_type": "code",
   "execution_count": 27,
   "metadata": {},
   "outputs": [
    {
     "data": {
      "text/html": [
       "<div>\n",
       "<style scoped>\n",
       "    .dataframe tbody tr th:only-of-type {\n",
       "        vertical-align: middle;\n",
       "    }\n",
       "\n",
       "    .dataframe tbody tr th {\n",
       "        vertical-align: top;\n",
       "    }\n",
       "\n",
       "    .dataframe thead th {\n",
       "        text-align: right;\n",
       "    }\n",
       "</style>\n",
       "<table border=\"1\" class=\"dataframe\">\n",
       "  <thead>\n",
       "    <tr style=\"text-align: right;\">\n",
       "      <th></th>\n",
       "      <th>0</th>\n",
       "      <th>1</th>\n",
       "      <th>2</th>\n",
       "      <th>3</th>\n",
       "      <th>4</th>\n",
       "      <th>5</th>\n",
       "      <th>6</th>\n",
       "      <th>7</th>\n",
       "      <th>8</th>\n",
       "      <th>9</th>\n",
       "      <th>10</th>\n",
       "      <th>12</th>\n",
       "      <th>13</th>\n",
       "    </tr>\n",
       "  </thead>\n",
       "  <tbody>\n",
       "    <tr>\n",
       "      <th>0</th>\n",
       "      <td>0.0</td>\n",
       "      <td>4.0</td>\n",
       "      <td>0.0</td>\n",
       "      <td>5.0</td>\n",
       "      <td>280.0</td>\n",
       "      <td>4.0</td>\n",
       "      <td>537418.0</td>\n",
       "      <td>1.0</td>\n",
       "      <td>-16.521725</td>\n",
       "      <td>-68.060249</td>\n",
       "      <td>0.0</td>\n",
       "      <td>2.0</td>\n",
       "      <td>2009.000000</td>\n",
       "    </tr>\n",
       "    <tr>\n",
       "      <th>1</th>\n",
       "      <td>0.0</td>\n",
       "      <td>5.0</td>\n",
       "      <td>0.0</td>\n",
       "      <td>3.0</td>\n",
       "      <td>554.0</td>\n",
       "      <td>5.0</td>\n",
       "      <td>539099.0</td>\n",
       "      <td>1.0</td>\n",
       "      <td>-16.514791</td>\n",
       "      <td>-68.058067</td>\n",
       "      <td>0.0</td>\n",
       "      <td>2.0</td>\n",
       "      <td>2009.000000</td>\n",
       "    </tr>\n",
       "    <tr>\n",
       "      <th>2</th>\n",
       "      <td>0.0</td>\n",
       "      <td>6.0</td>\n",
       "      <td>0.0</td>\n",
       "      <td>5.0</td>\n",
       "      <td>380.0</td>\n",
       "      <td>4.0</td>\n",
       "      <td>451025.0</td>\n",
       "      <td>1.0</td>\n",
       "      <td>-16.566566</td>\n",
       "      <td>-68.100983</td>\n",
       "      <td>0.0</td>\n",
       "      <td>2.0</td>\n",
       "      <td>2015.000000</td>\n",
       "    </tr>\n",
       "    <tr>\n",
       "      <th>3</th>\n",
       "      <td>0.0</td>\n",
       "      <td>4.0</td>\n",
       "      <td>0.0</td>\n",
       "      <td>3.0</td>\n",
       "      <td>271.0</td>\n",
       "      <td>2.0</td>\n",
       "      <td>537017.0</td>\n",
       "      <td>1.0</td>\n",
       "      <td>-16.539755</td>\n",
       "      <td>-68.057640</td>\n",
       "      <td>0.0</td>\n",
       "      <td>2.0</td>\n",
       "      <td>62093.492508</td>\n",
       "    </tr>\n",
       "    <tr>\n",
       "      <th>4</th>\n",
       "      <td>0.0</td>\n",
       "      <td>6.0</td>\n",
       "      <td>0.0</td>\n",
       "      <td>4.0</td>\n",
       "      <td>320.0</td>\n",
       "      <td>4.0</td>\n",
       "      <td>539274.0</td>\n",
       "      <td>1.0</td>\n",
       "      <td>-16.547251</td>\n",
       "      <td>-68.077873</td>\n",
       "      <td>0.0</td>\n",
       "      <td>1.0</td>\n",
       "      <td>73809.644221</td>\n",
       "    </tr>\n",
       "  </tbody>\n",
       "</table>\n",
       "</div>"
      ],
      "text/plain": [
       "    0    1    2    3      4    5         6    7          8          9    10  \\\n",
       "0  0.0  4.0  0.0  5.0  280.0  4.0  537418.0  1.0 -16.521725 -68.060249  0.0   \n",
       "1  0.0  5.0  0.0  3.0  554.0  5.0  539099.0  1.0 -16.514791 -68.058067  0.0   \n",
       "2  0.0  6.0  0.0  5.0  380.0  4.0  451025.0  1.0 -16.566566 -68.100983  0.0   \n",
       "3  0.0  4.0  0.0  3.0  271.0  2.0  537017.0  1.0 -16.539755 -68.057640  0.0   \n",
       "4  0.0  6.0  0.0  4.0  320.0  4.0  539274.0  1.0 -16.547251 -68.077873  0.0   \n",
       "\n",
       "    12            13  \n",
       "0  2.0   2009.000000  \n",
       "1  2.0   2009.000000  \n",
       "2  2.0   2015.000000  \n",
       "3  2.0  62093.492508  \n",
       "4  1.0  73809.644221  "
      ]
     },
     "execution_count": 27,
     "metadata": {},
     "output_type": "execute_result"
    }
   ],
   "source": [
    "DF.head()"
   ]
  },
  {
   "cell_type": "code",
   "execution_count": 28,
   "metadata": {},
   "outputs": [],
   "source": [
    "X=DF"
   ]
  },
  {
   "cell_type": "code",
   "execution_count": 29,
   "metadata": {},
   "outputs": [
    {
     "data": {
      "text/html": [
       "<div>\n",
       "<style scoped>\n",
       "    .dataframe tbody tr th:only-of-type {\n",
       "        vertical-align: middle;\n",
       "    }\n",
       "\n",
       "    .dataframe tbody tr th {\n",
       "        vertical-align: top;\n",
       "    }\n",
       "\n",
       "    .dataframe thead th {\n",
       "        text-align: right;\n",
       "    }\n",
       "</style>\n",
       "<table border=\"1\" class=\"dataframe\">\n",
       "  <thead>\n",
       "    <tr style=\"text-align: right;\">\n",
       "      <th></th>\n",
       "      <th>0</th>\n",
       "      <th>1</th>\n",
       "      <th>2</th>\n",
       "      <th>3</th>\n",
       "      <th>4</th>\n",
       "      <th>5</th>\n",
       "      <th>6</th>\n",
       "      <th>7</th>\n",
       "      <th>8</th>\n",
       "      <th>9</th>\n",
       "      <th>10</th>\n",
       "      <th>12</th>\n",
       "      <th>13</th>\n",
       "    </tr>\n",
       "  </thead>\n",
       "  <tbody>\n",
       "    <tr>\n",
       "      <th>0</th>\n",
       "      <td>0.0</td>\n",
       "      <td>4.0</td>\n",
       "      <td>0.0</td>\n",
       "      <td>5.0</td>\n",
       "      <td>280.0</td>\n",
       "      <td>4.0</td>\n",
       "      <td>537418.0</td>\n",
       "      <td>1.0</td>\n",
       "      <td>-16.521725</td>\n",
       "      <td>-68.060249</td>\n",
       "      <td>0.0</td>\n",
       "      <td>2.0</td>\n",
       "      <td>2009.000000</td>\n",
       "    </tr>\n",
       "    <tr>\n",
       "      <th>1</th>\n",
       "      <td>0.0</td>\n",
       "      <td>5.0</td>\n",
       "      <td>0.0</td>\n",
       "      <td>3.0</td>\n",
       "      <td>554.0</td>\n",
       "      <td>5.0</td>\n",
       "      <td>539099.0</td>\n",
       "      <td>1.0</td>\n",
       "      <td>-16.514791</td>\n",
       "      <td>-68.058067</td>\n",
       "      <td>0.0</td>\n",
       "      <td>2.0</td>\n",
       "      <td>2009.000000</td>\n",
       "    </tr>\n",
       "    <tr>\n",
       "      <th>2</th>\n",
       "      <td>0.0</td>\n",
       "      <td>6.0</td>\n",
       "      <td>0.0</td>\n",
       "      <td>5.0</td>\n",
       "      <td>380.0</td>\n",
       "      <td>4.0</td>\n",
       "      <td>451025.0</td>\n",
       "      <td>1.0</td>\n",
       "      <td>-16.566566</td>\n",
       "      <td>-68.100983</td>\n",
       "      <td>0.0</td>\n",
       "      <td>2.0</td>\n",
       "      <td>2015.000000</td>\n",
       "    </tr>\n",
       "    <tr>\n",
       "      <th>3</th>\n",
       "      <td>0.0</td>\n",
       "      <td>4.0</td>\n",
       "      <td>0.0</td>\n",
       "      <td>3.0</td>\n",
       "      <td>271.0</td>\n",
       "      <td>2.0</td>\n",
       "      <td>537017.0</td>\n",
       "      <td>1.0</td>\n",
       "      <td>-16.539755</td>\n",
       "      <td>-68.057640</td>\n",
       "      <td>0.0</td>\n",
       "      <td>2.0</td>\n",
       "      <td>62093.492508</td>\n",
       "    </tr>\n",
       "    <tr>\n",
       "      <th>4</th>\n",
       "      <td>0.0</td>\n",
       "      <td>6.0</td>\n",
       "      <td>0.0</td>\n",
       "      <td>4.0</td>\n",
       "      <td>320.0</td>\n",
       "      <td>4.0</td>\n",
       "      <td>539274.0</td>\n",
       "      <td>1.0</td>\n",
       "      <td>-16.547251</td>\n",
       "      <td>-68.077873</td>\n",
       "      <td>0.0</td>\n",
       "      <td>1.0</td>\n",
       "      <td>73809.644221</td>\n",
       "    </tr>\n",
       "  </tbody>\n",
       "</table>\n",
       "</div>"
      ],
      "text/plain": [
       "    0    1    2    3      4    5         6    7          8          9    10  \\\n",
       "0  0.0  4.0  0.0  5.0  280.0  4.0  537418.0  1.0 -16.521725 -68.060249  0.0   \n",
       "1  0.0  5.0  0.0  3.0  554.0  5.0  539099.0  1.0 -16.514791 -68.058067  0.0   \n",
       "2  0.0  6.0  0.0  5.0  380.0  4.0  451025.0  1.0 -16.566566 -68.100983  0.0   \n",
       "3  0.0  4.0  0.0  3.0  271.0  2.0  537017.0  1.0 -16.539755 -68.057640  0.0   \n",
       "4  0.0  6.0  0.0  4.0  320.0  4.0  539274.0  1.0 -16.547251 -68.077873  0.0   \n",
       "\n",
       "    12            13  \n",
       "0  2.0   2009.000000  \n",
       "1  2.0   2009.000000  \n",
       "2  2.0   2015.000000  \n",
       "3  2.0  62093.492508  \n",
       "4  1.0  73809.644221  "
      ]
     },
     "execution_count": 29,
     "metadata": {},
     "output_type": "execute_result"
    }
   ],
   "source": [
    "X.head()"
   ]
  },
  {
   "cell_type": "code",
   "execution_count": null,
   "metadata": {},
   "outputs": [],
   "source": []
  },
  {
   "cell_type": "code",
   "execution_count": 30,
   "metadata": {},
   "outputs": [],
   "source": [
    "from sklearn.model_selection import train_test_split"
   ]
  },
  {
   "cell_type": "code",
   "execution_count": 31,
   "metadata": {},
   "outputs": [],
   "source": [
    "# 60% en train    |   40% en test\n",
    "X_train, X_test, Y_train, Y_test = train_test_split(X, Y, test_size = 0.5 )"
   ]
  },
  {
   "cell_type": "code",
   "execution_count": 32,
   "metadata": {},
   "outputs": [
    {
     "name": "stdout",
     "output_type": "stream",
     "text": [
      "El TOTAL =>  823\n",
      "EL X_train es 60% => 411\n",
      "EL X_test es 64% => 412\n"
     ]
    }
   ],
   "source": [
    "# revisando el tamano de los datos \n",
    "\n",
    "# el 60%\n",
    "print(\"El TOTAL => \",len(X))\n",
    "print(\"EL X_train es 60% =>\",len(X_train))\n",
    "\n",
    "# el 40%\n",
    "print(\"EL X_test es 64% =>\",len(X_test))"
   ]
  },
  {
   "cell_type": "code",
   "execution_count": 33,
   "metadata": {},
   "outputs": [
    {
     "name": "stdout",
     "output_type": "stream",
     "text": [
      "El TOTAL =>  823\n",
      "EL X_train es 60% => 411\n",
      "EL X_test es 64% => 412\n"
     ]
    }
   ],
   "source": [
    "# revisando el tamano de los datos \n",
    "\n",
    "# el 60%\n",
    "print(\"El TOTAL => \",len(X))\n",
    "print(\"EL X_train es 60% =>\",len(X_train))\n",
    "\n",
    "# el 40%\n",
    "print(\"EL X_test es 64% =>\",len(X_test))"
   ]
  },
  {
   "cell_type": "code",
   "execution_count": 34,
   "metadata": {},
   "outputs": [
    {
     "data": {
      "text/html": [
       "<div>\n",
       "<style scoped>\n",
       "    .dataframe tbody tr th:only-of-type {\n",
       "        vertical-align: middle;\n",
       "    }\n",
       "\n",
       "    .dataframe tbody tr th {\n",
       "        vertical-align: top;\n",
       "    }\n",
       "\n",
       "    .dataframe thead th {\n",
       "        text-align: right;\n",
       "    }\n",
       "</style>\n",
       "<table border=\"1\" class=\"dataframe\">\n",
       "  <thead>\n",
       "    <tr style=\"text-align: right;\">\n",
       "      <th></th>\n",
       "      <th>0</th>\n",
       "      <th>1</th>\n",
       "      <th>2</th>\n",
       "      <th>3</th>\n",
       "      <th>4</th>\n",
       "      <th>5</th>\n",
       "      <th>6</th>\n",
       "      <th>7</th>\n",
       "      <th>8</th>\n",
       "      <th>9</th>\n",
       "      <th>10</th>\n",
       "      <th>12</th>\n",
       "      <th>13</th>\n",
       "    </tr>\n",
       "  </thead>\n",
       "  <tbody>\n",
       "    <tr>\n",
       "      <th>296</th>\n",
       "      <td>0.0</td>\n",
       "      <td>4.0</td>\n",
       "      <td>0.0</td>\n",
       "      <td>3.0</td>\n",
       "      <td>216.0</td>\n",
       "      <td>1.0</td>\n",
       "      <td>535386.0</td>\n",
       "      <td>1.0</td>\n",
       "      <td>-16.544928</td>\n",
       "      <td>-68.049110</td>\n",
       "      <td>0.0</td>\n",
       "      <td>2.0</td>\n",
       "      <td>2012.000000</td>\n",
       "    </tr>\n",
       "    <tr>\n",
       "      <th>666</th>\n",
       "      <td>0.0</td>\n",
       "      <td>4.0</td>\n",
       "      <td>0.0</td>\n",
       "      <td>4.0</td>\n",
       "      <td>352.0</td>\n",
       "      <td>5.0</td>\n",
       "      <td>405438.0</td>\n",
       "      <td>1.0</td>\n",
       "      <td>-16.529337</td>\n",
       "      <td>-68.080818</td>\n",
       "      <td>0.0</td>\n",
       "      <td>2.0</td>\n",
       "      <td>52747.799219</td>\n",
       "    </tr>\n",
       "  </tbody>\n",
       "</table>\n",
       "</div>"
      ],
      "text/plain": [
       "      0    1    2    3      4    5         6    7          8          9    10  \\\n",
       "296  0.0  4.0  0.0  3.0  216.0  1.0  535386.0  1.0 -16.544928 -68.049110  0.0   \n",
       "666  0.0  4.0  0.0  4.0  352.0  5.0  405438.0  1.0 -16.529337 -68.080818  0.0   \n",
       "\n",
       "      12            13  \n",
       "296  2.0   2012.000000  \n",
       "666  2.0  52747.799219  "
      ]
     },
     "execution_count": 34,
     "metadata": {},
     "output_type": "execute_result"
    }
   ],
   "source": [
    "X_test.head(2)"
   ]
  },
  {
   "cell_type": "markdown",
   "metadata": {},
   "source": [
    "##  MODELS"
   ]
  },
  {
   "cell_type": "code",
   "execution_count": 35,
   "metadata": {},
   "outputs": [],
   "source": [
    "from sklearn.linear_model import LinearRegression\n",
    "lr = LinearRegression(normalize=True)"
   ]
  },
  {
   "cell_type": "code",
   "execution_count": 36,
   "metadata": {},
   "outputs": [],
   "source": [
    "from sklearn.svm import SVC\n",
    "svc = SVC(kernel='linear')"
   ]
  },
  {
   "cell_type": "code",
   "execution_count": 37,
   "metadata": {},
   "outputs": [],
   "source": [
    "from sklearn.naive_bayes import GaussianNB\n",
    "gnb = GaussianNB()"
   ]
  },
  {
   "cell_type": "code",
   "execution_count": 38,
   "metadata": {},
   "outputs": [],
   "source": [
    "from sklearn import neighbors\n",
    "knn = neighbors.KNeighborsClassifier(n_neighbors=5)"
   ]
  },
  {
   "cell_type": "markdown",
   "metadata": {},
   "source": [
    "-------"
   ]
  },
  {
   "cell_type": "code",
   "execution_count": 39,
   "metadata": {},
   "outputs": [],
   "source": [
    "# from sklearn.linear_model import Lasso\n",
    "# lasso = Lasso()"
   ]
  },
  {
   "cell_type": "code",
   "execution_count": null,
   "metadata": {},
   "outputs": [],
   "source": []
  },
  {
   "cell_type": "markdown",
   "metadata": {},
   "source": [
    "## FITTING = training"
   ]
  },
  {
   "cell_type": "code",
   "execution_count": 40,
   "metadata": {},
   "outputs": [
    {
     "data": {
      "text/plain": [
       "LinearRegression(copy_X=True, fit_intercept=True, n_jobs=None, normalize=True)"
      ]
     },
     "execution_count": 40,
     "metadata": {},
     "output_type": "execute_result"
    }
   ],
   "source": [
    "lr.fit(X, Y)\n",
    "# knn.fit(X_train, Y_train)\n",
    "# svc.fit(X_train, Y_train)"
   ]
  },
  {
   "cell_type": "code",
   "execution_count": 42,
   "metadata": {},
   "outputs": [],
   "source": [
    "predicted = lr.predict(X_test)\n",
    "# predicted = mlr.predict(X_test)"
   ]
  },
  {
   "cell_type": "code",
   "execution_count": null,
   "metadata": {},
   "outputs": [],
   "source": []
  },
  {
   "cell_type": "markdown",
   "metadata": {},
   "source": [
    "## PLOTS"
   ]
  },
  {
   "cell_type": "code",
   "execution_count": 43,
   "metadata": {},
   "outputs": [
    {
     "data": {
      "text/plain": [
       "(412,)"
      ]
     },
     "execution_count": 43,
     "metadata": {},
     "output_type": "execute_result"
    }
   ],
   "source": [
    "# predicted\n",
    "predicted.shape"
   ]
  },
  {
   "cell_type": "code",
   "execution_count": 45,
   "metadata": {},
   "outputs": [],
   "source": [
    "import matplotlib.pyplot as plt\n",
    "import seaborn as sb\n",
    "%matplotlib inline "
   ]
  },
  {
   "cell_type": "code",
   "execution_count": 46,
   "metadata": {},
   "outputs": [
    {
     "data": {
      "image/png": "[encoded data removed]",
      "text/plain": [
       "<Figure size 432x288 with 1 Axes>"
      ]
     },
     "metadata": {
      "needs_background": "light"
     },
     "output_type": "display_data"
    }
   ],
   "source": [
    "plt.hist([Y_test]);"
   ]
  },
  {
   "cell_type": "code",
   "execution_count": 47,
   "metadata": {},
   "outputs": [
    {
     "data": {
      "image/png": "[encoded data removed]",
      "text/plain": [
       "<Figure size 432x288 with 1 Axes>"
      ]
     },
     "metadata": {
      "needs_background": "light"
     },
     "output_type": "display_data"
    }
   ],
   "source": [
    "plt.hist([Y_test, predicted]);"
   ]
  },
  {
   "cell_type": "code",
   "execution_count": 49,
   "metadata": {},
   "outputs": [],
   "source": [
    "# lr.score(X_test, Y_test)"
   ]
  },
  {
   "cell_type": "code",
   "execution_count": 51,
   "metadata": {},
   "outputs": [],
   "source": [
    "# Y"
   ]
  },
  {
   "cell_type": "markdown",
   "metadata": {},
   "source": [
    "## Prediction"
   ]
  },
  {
   "cell_type": "code",
   "execution_count": null,
   "metadata": {},
   "outputs": [],
   "source": [
    "y_pred = svc.predict(np.random.random((2,5)))"
   ]
  },
  {
   "cell_type": "code",
   "execution_count": null,
   "metadata": {},
   "outputs": [],
   "source": [
    "_pred = lr.predict(X_test)"
   ]
  },
  {
   "cell_type": "code",
   "execution_count": null,
   "metadata": {},
   "outputs": [],
   "source": [
    "y_pred = knn.predict_proba(X_test))"
   ]
  },
  {
   "cell_type": "code",
   "execution_count": null,
   "metadata": {},
   "outputs": [],
   "source": []
  },
  {
   "cell_type": "markdown",
   "metadata": {},
   "source": [
    "## METRICS"
   ]
  },
  {
   "cell_type": "markdown",
   "metadata": {},
   "source": [
    "Evaluate Your Model's Performance\n",
    "Classification Metrics\n",
    "Accuracy Score"
   ]
  },
  {
   "cell_type": "code",
   "execution_count": null,
   "metadata": {},
   "outputs": [],
   "source": [
    "knn.score(X_test, y_test)\n",
    "from sklearn.metrics import accuracy_score\n",
    "accuracy_score(y_test, y_pred)"
   ]
  },
  {
   "cell_type": "code",
   "execution_count": null,
   "metadata": {},
   "outputs": [],
   "source": [
    "from sklearn.metrics import classification_report\n",
    "print(classification_report(y_test, y_pred)))"
   ]
  },
  {
   "cell_type": "code",
   "execution_count": null,
   "metadata": {},
   "outputs": [],
   "source": [
    "print(cross_val_score(knn, X_train, y_train, cv=4))\n",
    "print(cross_val_score(lr, X, y, cv=2))"
   ]
  },
  {
   "cell_type": "code",
   "execution_count": null,
   "metadata": {},
   "outputs": [],
   "source": [
    "## LASSO\n",
    "# lasso.score(X_test, Y_test)"
   ]
  },
  {
   "cell_type": "code",
   "execution_count": null,
   "metadata": {},
   "outputs": [],
   "source": []
  },
  {
   "cell_type": "code",
   "execution_count": null,
   "metadata": {},
   "outputs": [],
   "source": []
  },
  {
   "cell_type": "markdown",
   "metadata": {},
   "source": [
    "### **STANDARIZATION**"
   ]
  },
  {
   "cell_type": "code",
   "execution_count": 75,
   "metadata": {},
   "outputs": [],
   "source": [
    "from sklearn.preprocessing import StandardScaler"
   ]
  },
  {
   "cell_type": "code",
   "execution_count": null,
   "metadata": {},
   "outputs": [],
   "source": []
  },
  {
   "cell_type": "code",
   "execution_count": null,
   "metadata": {},
   "outputs": [],
   "source": [
    "from sklearn import preprocessing\n",
    "mm_scaler = preprocessing.MinMaxScaler()\n",
    "X_train_minmax = mm_scaler.fit_transform(X_train)\n",
    "mm_scaler.transform(X_test)"
   ]
  },
  {
   "cell_type": "markdown",
   "metadata": {},
   "source": [
    "## MinMaxScaler"
   ]
  },
  {
   "cell_type": "code",
   "execution_count": 34,
   "metadata": {},
   "outputs": [],
   "source": [
    "from sklearn.preprocessing import StandardScaler\n",
    "scaler = StandardScaler().fit(X_train)\n",
    "standardized_X = scaler.transform(X_train)\n",
    "standardized_X_test = scaler.transform(X_test)"
   ]
  },
  {
   "cell_type": "code",
   "execution_count": null,
   "metadata": {},
   "outputs": [],
   "source": []
  },
  {
   "cell_type": "markdown",
   "metadata": {},
   "source": [
    "## StandardScaler"
   ]
  },
  {
   "cell_type": "code",
   "execution_count": null,
   "metadata": {},
   "outputs": [],
   "source": []
  },
  {
   "cell_type": "markdown",
   "metadata": {},
   "source": [
    "## Normalizer"
   ]
  },
  {
   "cell_type": "code",
   "execution_count": null,
   "metadata": {},
   "outputs": [],
   "source": []
  },
  {
   "cell_type": "code",
   "execution_count": 33,
   "metadata": {},
   "outputs": [
    {
     "name": "stdout",
     "output_type": "stream",
     "text": [
      "9\n"
     ]
    }
   ],
   "source": [
    "print(X[\"bedroom\"].isnull().sum())"
   ]
  },
  {
   "cell_type": "code",
   "execution_count": null,
   "metadata": {},
   "outputs": [],
   "source": []
  },
  {
   "cell_type": "code",
   "execution_count": null,
   "metadata": {},
   "outputs": [],
   "source": [
    "X = imp.fit_transform(X)"
   ]
  },
  {
   "cell_type": "code",
   "execution_count": null,
   "metadata": {},
   "outputs": [],
   "source": [
    "Y = Y.reshape(-1,1)"
   ]
  },
  {
   "cell_type": "code",
   "execution_count": null,
   "metadata": {},
   "outputs": [],
   "source": [
    "Y = imp.fit_transform(Y)"
   ]
  },
  {
   "cell_type": "code",
   "execution_count": null,
   "metadata": {},
   "outputs": [],
   "source": [
    "Y = Y.reshape(-1)"
   ]
  },
  {
   "cell_type": "code",
   "execution_count": null,
   "metadata": {},
   "outputs": [],
   "source": []
  },
  {
   "cell_type": "code",
   "execution_count": null,
   "metadata": {},
   "outputs": [],
   "source": []
  },
  {
   "cell_type": "code",
   "execution_count": null,
   "metadata": {},
   "outputs": [],
   "source": [
    "# Y = X['price']"
   ]
  },
  {
   "cell_type": "code",
   "execution_count": null,
   "metadata": {},
   "outputs": [],
   "source": [
    "Y.head(3)"
   ]
  },
  {
   "cell_type": "code",
   "execution_count": null,
   "metadata": {},
   "outputs": [],
   "source": [
    "# ELIMINANDO LA COLUMNA \"price\" DE X(dataset)\n",
    "X = X.drop('price', axis = 1)"
   ]
  },
  {
   "cell_type": "code",
   "execution_count": null,
   "metadata": {},
   "outputs": [],
   "source": [
    "X.head(4)"
   ]
  },
  {
   "cell_type": "code",
   "execution_count": null,
   "metadata": {},
   "outputs": [],
   "source": [
    "from sklearn.model_selection import train_test_split"
   ]
  },
  {
   "cell_type": "code",
   "execution_count": null,
   "metadata": {},
   "outputs": [],
   "source": [
    "# 60% en train    |   40% en test\n",
    "X_train, X_test, Y_train, Y_test = train_test_split(X, Y, test_size = 0.5 )"
   ]
  },
  {
   "cell_type": "code",
   "execution_count": null,
   "metadata": {},
   "outputs": [],
   "source": [
    "# revisando el tamano de los datos \n",
    "\n",
    "# el 60%\n",
    "print(\"El TOTAL => \",len(X))\n",
    "print(\"EL X_train es 60% =>\",len(X_train))\n",
    "\n",
    "# el 40%\n",
    "print(\"EL X_test es 64% =>\",len(X_test))"
   ]
  },
  {
   "cell_type": "code",
   "execution_count": null,
   "metadata": {},
   "outputs": [],
   "source": [
    "# X.var()"
   ]
  },
  {
   "cell_type": "code",
   "execution_count": null,
   "metadata": {},
   "outputs": [],
   "source": [
    "X_test.head(2)"
   ]
  },
  {
   "cell_type": "code",
   "execution_count": null,
   "metadata": {},
   "outputs": [],
   "source": []
  },
  {
   "cell_type": "code",
   "execution_count": null,
   "metadata": {},
   "outputs": [],
   "source": []
  },
  {
   "cell_type": "code",
   "execution_count": null,
   "metadata": {},
   "outputs": [],
   "source": []
  },
  {
   "cell_type": "code",
   "execution_count": null,
   "metadata": {},
   "outputs": [],
   "source": []
  }
 ],
 "metadata": {
  "kernelspec": {
   "display_name": "Python 3",
   "language": "python",
   "name": "python3"
  },
  "language_info": {
   "codemirror_mode": {
    "name": "ipython",
    "version": 3
   },
   "file_extension": ".py",
   "mimetype": "text/x-python",
   "name": "python",
   "nbconvert_exporter": "python",
   "pygments_lexer": "ipython3",
   "version": "3.7.1"
  }
 },
 "nbformat": 4,
 "nbformat_minor": 2
}
